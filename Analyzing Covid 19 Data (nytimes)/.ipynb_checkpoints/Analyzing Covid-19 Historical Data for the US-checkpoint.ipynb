{
 "cells": [
  {
   "cell_type": "markdown",
   "metadata": {},
   "source": [
    "This data is from the NYtimes Github Repository\n",
    "I intend to analyze the Covid 19 historical data from the United States, for it's counties\n",
    "I hope to find and report insights"
   ]
  },
  {
   "cell_type": "code",
   "execution_count": 1,
   "metadata": {
    "ExecuteTime": {
     "end_time": "2020-05-18T12:18:21.536445Z",
     "start_time": "2020-05-18T12:18:20.863287Z"
    }
   },
   "outputs": [],
   "source": [
    "# This cell where I import all modules\n",
    "import pandas as pd # For data analyis"
   ]
  },
  {
   "cell_type": "markdown",
   "metadata": {},
   "source": [
    "I'll be analzing the Covid 19 reports of all US counties"
   ]
  },
  {
   "cell_type": "code",
   "execution_count": 38,
   "metadata": {
    "ExecuteTime": {
     "end_time": "2020-05-18T14:29:43.110795Z",
     "start_time": "2020-05-18T14:29:42.055277Z"
    }
   },
   "outputs": [
    {
     "data": {
      "text/html": [
       "<div>\n",
       "<style scoped>\n",
       "    .dataframe tbody tr th:only-of-type {\n",
       "        vertical-align: middle;\n",
       "    }\n",
       "\n",
       "    .dataframe tbody tr th {\n",
       "        vertical-align: top;\n",
       "    }\n",
       "\n",
       "    .dataframe thead th {\n",
       "        text-align: right;\n",
       "    }\n",
       "</style>\n",
       "<table border=\"1\" class=\"dataframe\">\n",
       "  <thead>\n",
       "    <tr style=\"text-align: right;\">\n",
       "      <th></th>\n",
       "      <th>date</th>\n",
       "      <th>cases</th>\n",
       "      <th>deaths</th>\n",
       "    </tr>\n",
       "  </thead>\n",
       "  <tbody>\n",
       "    <tr>\n",
       "      <th>0</th>\n",
       "      <td>2020-01-21</td>\n",
       "      <td>1</td>\n",
       "      <td>0</td>\n",
       "    </tr>\n",
       "    <tr>\n",
       "      <th>1</th>\n",
       "      <td>2020-01-22</td>\n",
       "      <td>1</td>\n",
       "      <td>0</td>\n",
       "    </tr>\n",
       "    <tr>\n",
       "      <th>2</th>\n",
       "      <td>2020-01-23</td>\n",
       "      <td>1</td>\n",
       "      <td>0</td>\n",
       "    </tr>\n",
       "    <tr>\n",
       "      <th>3</th>\n",
       "      <td>2020-01-24</td>\n",
       "      <td>2</td>\n",
       "      <td>0</td>\n",
       "    </tr>\n",
       "    <tr>\n",
       "      <th>4</th>\n",
       "      <td>2020-01-25</td>\n",
       "      <td>3</td>\n",
       "      <td>0</td>\n",
       "    </tr>\n",
       "  </tbody>\n",
       "</table>\n",
       "</div>"
      ],
      "text/plain": [
       "         date  cases  deaths\n",
       "0  2020-01-21      1       0\n",
       "1  2020-01-22      1       0\n",
       "2  2020-01-23      1       0\n",
       "3  2020-01-24      2       0\n",
       "4  2020-01-25      3       0"
      ]
     },
     "execution_count": 38,
     "metadata": {},
     "output_type": "execute_result"
    }
   ],
   "source": [
    "# Reading the historical data reported by the NYtimes\n",
    "# for the US\n",
    "covidUSCountryData = pd.read_csv(\n",
    "    'https://raw.githubusercontent.com/nytimes/covid-19-data/master/us.csv')\n",
    "covidUSCountryData.head()"
   ]
  },
  {
   "cell_type": "markdown",
   "metadata": {},
   "source": [
    "NYtimes reports two types of dataset; historical and live. \"A key difference between the historical and live files is that the numbers in the historical files are the final counts at the end of each day, while the live files have figures that may be a partial count released during the day but cannot necessarily be considered the final, end-of-day tally..\""
   ]
  },
  {
   "cell_type": "markdown",
   "metadata": {},
   "source": [
    "- cases: The total number of cases of Covid-19, including both confirmed and probable.\n",
    "- deaths: The total number of deaths from Covid-19, including both confirmed and probable.\n",
    "- confirmed_cases: The number of laboratory confirmed Covid-19 cases only, or blank if not available.\n",
    "- confirmed_deaths: The number of laboratory confirmed Covid-19 deaths only, or blank if not available.\n",
    "- probable_cases: The number of probable Covid-19 cases only, or blank if not available.\n",
    "- probable_deaths: The number of probable Covid-19 deaths only, or blank if not available.\n",
    "- FIPS codes: These are numbers which uniquely identify geographic areas. The number of digits in FIPS codes vary \n",
    "depending on the level of geography. State-level FIPS codes have two digits, county-level FIPS codes have five\n",
    "digits of which the first two are the FIPS code of the state to which the county belong"
   ]
  },
  {
   "cell_type": "code",
   "execution_count": 39,
   "metadata": {
    "ExecuteTime": {
     "end_time": "2020-05-18T14:30:01.024901Z",
     "start_time": "2020-05-18T14:30:01.015490Z"
    }
   },
   "outputs": [
    {
     "data": {
      "text/plain": [
       "(117, 3)"
      ]
     },
     "execution_count": 39,
     "metadata": {},
     "output_type": "execute_result"
    }
   ],
   "source": [
    "# Understanding the shape of the data\n",
    "covidUSCountryData.shape"
   ]
  },
  {
   "cell_type": "markdown",
   "metadata": {},
   "source": [
    "It has 150,169 rows and 6 columns"
   ]
  },
  {
   "cell_type": "code",
   "execution_count": 40,
   "metadata": {
    "ExecuteTime": {
     "end_time": "2020-05-18T14:30:14.449845Z",
     "start_time": "2020-05-18T14:30:14.438378Z"
    }
   },
   "outputs": [
    {
     "data": {
      "text/plain": [
       "Index(['date', 'cases', 'deaths'], dtype='object')"
      ]
     },
     "execution_count": 40,
     "metadata": {},
     "output_type": "execute_result"
    }
   ],
   "source": [
    "covidUSCountryData.columns"
   ]
  },
  {
   "cell_type": "code",
   "execution_count": 41,
   "metadata": {
    "ExecuteTime": {
     "end_time": "2020-05-18T14:30:24.496375Z",
     "start_time": "2020-05-18T14:30:24.480025Z"
    }
   },
   "outputs": [
    {
     "name": "stdout",
     "output_type": "stream",
     "text": [
      "<class 'pandas.core.frame.DataFrame'>\n",
      "RangeIndex: 117 entries, 0 to 116\n",
      "Data columns (total 3 columns):\n",
      " #   Column  Non-Null Count  Dtype \n",
      "---  ------  --------------  ----- \n",
      " 0   date    117 non-null    object\n",
      " 1   cases   117 non-null    int64 \n",
      " 2   deaths  117 non-null    int64 \n",
      "dtypes: int64(2), object(1)\n",
      "memory usage: 2.9+ KB\n"
     ]
    }
   ],
   "source": [
    "# Let me have an idea of the numerical and categorical data types\n",
    "covidUSCountryData.info()"
   ]
  },
  {
   "cell_type": "markdown",
   "metadata": {},
   "source": [
    "I'm thinking I should convert the date column to a datetime format, \n",
    "Then go ahead to make it the datasets index. That way I can analyze the data like time series data"
   ]
  },
  {
   "cell_type": "markdown",
   "metadata": {},
   "source": [
    "The result reveals a total of 3009 entries in the dataset. Generally, the columns tied with data type “int64” and “float64” denotes numerical data while data type “object” denotes categorical data."
   ]
  },
  {
   "cell_type": "markdown",
   "metadata": {},
   "source": [
    "My experience from reading articles and learning data science; I'll like to find out the central tendency of this live dataset."
   ]
  },
  {
   "cell_type": "markdown",
   "metadata": {},
   "source": [
    "Mean is an average of all the numbers. The steps required to calculate a mean are: sum up all the values of a target variable in the datasetthe sum by the number of values\n",
    "\n",
    "Note of warning: a mean might be influenced by the outliers.\n",
    "\n",
    "Outliers are the numbers which are either extremely high or extremely low compared to the rest of the numbers in a dataset.\n",
    "\n",
    "Median is the middle value of a sorted list of numbers. The steps required to get a median from a list of numbers are: sort the numbers from smallest to highest if the list has an odd number of values, the value in the middle position is the median if the list has an even number of values, the average of the two values in the middle will be the median\n",
    "\n",
    "Note: A median is not influenced by the outliers."
   ]
  },
  {
   "cell_type": "code",
   "execution_count": 42,
   "metadata": {
    "ExecuteTime": {
     "end_time": "2020-05-18T14:30:38.151545Z",
     "start_time": "2020-05-18T14:30:38.144099Z"
    }
   },
   "outputs": [],
   "source": [
    "# Calculating the mean of cases and deaths respectively\n",
    "mean_cases = covidUSCountryData['cases'].mean()"
   ]
  },
  {
   "cell_type": "code",
   "execution_count": 43,
   "metadata": {
    "ExecuteTime": {
     "end_time": "2020-05-18T14:30:42.640172Z",
     "start_time": "2020-05-18T14:30:42.631952Z"
    }
   },
   "outputs": [
    {
     "name": "stdout",
     "output_type": "stream",
     "text": [
      "Average Reported Cases: 354119.3076923077\n"
     ]
    }
   ],
   "source": [
    "# Average reported cases for the US counties\n",
    "print(\"Average Reported Cases:\", mean_cases)"
   ]
  },
  {
   "cell_type": "code",
   "execution_count": 44,
   "metadata": {
    "ExecuteTime": {
     "end_time": "2020-05-18T14:31:25.048169Z",
     "start_time": "2020-05-18T14:31:25.041453Z"
    }
   },
   "outputs": [],
   "source": [
    "# Calculating the mean of deaths\n",
    "mean_deaths = covidUSCountryData['deaths'].mean()"
   ]
  },
  {
   "cell_type": "code",
   "execution_count": 45,
   "metadata": {
    "ExecuteTime": {
     "end_time": "2020-05-18T14:31:31.265226Z",
     "start_time": "2020-05-18T14:31:31.256719Z"
    }
   },
   "outputs": [
    {
     "name": "stdout",
     "output_type": "stream",
     "text": [
      "Average Reported Deaths: 19159.94871794872\n"
     ]
    }
   ],
   "source": [
    "# Average reported deaths for US counties\n",
    "print(\"Average Reported Deaths:\", mean_deaths)"
   ]
  },
  {
   "cell_type": "code",
   "execution_count": 46,
   "metadata": {
    "ExecuteTime": {
     "end_time": "2020-05-18T14:31:49.450557Z",
     "start_time": "2020-05-18T14:31:49.442526Z"
    }
   },
   "outputs": [],
   "source": [
    "# Calculating the Median reported cases\n",
    "median_cases = covidUSCountryData['cases'].median()"
   ]
  },
  {
   "cell_type": "code",
   "execution_count": 47,
   "metadata": {
    "ExecuteTime": {
     "end_time": "2020-05-18T14:31:52.750131Z",
     "start_time": "2020-05-18T14:31:52.743738Z"
    }
   },
   "outputs": [
    {
     "name": "stdout",
     "output_type": "stream",
     "text": [
      "Median Reported cases: 12393.0\n"
     ]
    }
   ],
   "source": [
    "# Median of the reported cases\n",
    "print(\"Median Reported cases:\",median_cases)"
   ]
  },
  {
   "cell_type": "code",
   "execution_count": 48,
   "metadata": {
    "ExecuteTime": {
     "end_time": "2020-05-18T14:33:15.380300Z",
     "start_time": "2020-05-18T14:33:15.374087Z"
    }
   },
   "outputs": [],
   "source": [
    "# Calculating the Median deaths \n",
    "median_deaths = covidUSCountryData['deaths'].median()"
   ]
  },
  {
   "cell_type": "code",
   "execution_count": 49,
   "metadata": {
    "ExecuteTime": {
     "end_time": "2020-05-18T14:33:18.090726Z",
     "start_time": "2020-05-18T14:33:18.077116Z"
    }
   },
   "outputs": [
    {
     "name": "stdout",
     "output_type": "stream",
     "text": [
      "Median of Reported Deaths: 212.0\n"
     ]
    }
   ],
   "source": [
    "# Median of deaths\n",
    "print(\"Median of Reported Deaths:\", median_deaths)"
   ]
  },
  {
   "cell_type": "markdown",
   "metadata": {},
   "source": [
    "Measuring Variation"
   ]
  },
  {
   "cell_type": "code",
   "execution_count": null,
   "metadata": {},
   "outputs": [],
   "source": []
  }
 ],
 "metadata": {
  "kernelspec": {
   "display_name": "Python 3",
   "language": "python",
   "name": "python3"
  },
  "language_info": {
   "codemirror_mode": {
    "name": "ipython",
    "version": 3
   },
   "file_extension": ".py",
   "mimetype": "text/x-python",
   "name": "python",
   "nbconvert_exporter": "python",
   "pygments_lexer": "ipython3",
   "version": "3.7.7"
  },
  "latex_envs": {
   "LaTeX_envs_menu_present": true,
   "autoclose": false,
   "autocomplete": true,
   "bibliofile": "biblio.bib",
   "cite_by": "apalike",
   "current_citInitial": 1,
   "eqLabelWithNumbers": true,
   "eqNumInitial": 1,
   "hotkeys": {
    "equation": "Ctrl-E",
    "itemize": "Ctrl-I"
   },
   "labels_anchors": false,
   "latex_user_defs": false,
   "report_style_numbering": false,
   "user_envs_cfg": false
  },
  "notify_time": "5",
  "toc": {
   "base_numbering": 1,
   "nav_menu": {},
   "number_sections": true,
   "sideBar": true,
   "skip_h1_title": false,
   "title_cell": "Table of Contents",
   "title_sidebar": "Contents",
   "toc_cell": false,
   "toc_position": {},
   "toc_section_display": true,
   "toc_window_display": false
  },
  "varInspector": {
   "cols": {
    "lenName": 16,
    "lenType": 16,
    "lenVar": 40
   },
   "kernels_config": {
    "python": {
     "delete_cmd_postfix": "",
     "delete_cmd_prefix": "del ",
     "library": "var_list.py",
     "varRefreshCmd": "print(var_dic_list())"
    },
    "r": {
     "delete_cmd_postfix": ") ",
     "delete_cmd_prefix": "rm(",
     "library": "var_list.r",
     "varRefreshCmd": "cat(var_dic_list()) "
    }
   },
   "types_to_exclude": [
    "module",
    "function",
    "builtin_function_or_method",
    "instance",
    "_Feature"
   ],
   "window_display": false
  }
 },
 "nbformat": 4,
 "nbformat_minor": 4
}
