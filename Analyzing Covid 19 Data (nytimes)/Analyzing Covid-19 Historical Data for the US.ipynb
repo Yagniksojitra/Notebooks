{
 "cells": [
  {
   "cell_type": "markdown",
   "metadata": {},
   "source": [
    "This data is from the NYtimes Github Repository\n",
    "I intend to analyze the Covid 19 historical data from the United States, for it's counties\n",
    "I hope to find and report insights"
   ]
  },
  {
   "cell_type": "code",
   "execution_count": 18,
   "metadata": {
    "ExecuteTime": {
     "end_time": "2020-05-19T12:30:26.453319Z",
     "start_time": "2020-05-19T12:30:25.830093Z"
    }
   },
   "outputs": [],
   "source": [
    "# This cell where I import all modules\n",
    "import pandas as pd # For data analyis\n",
    "from collections import defaultdict # Defaultdict is a sub-class of the dict class \n",
    "import matplotlib.pyplot as plt\n",
    "import thinkplot\n",
    "import thinkstats2"
   ]
  },
  {
   "cell_type": "markdown",
   "metadata": {},
   "source": [
    "I'll be analzing the Covid 19 reports of all US counties"
   ]
  },
  {
   "cell_type": "code",
   "execution_count": 2,
   "metadata": {
    "ExecuteTime": {
     "end_time": "2020-05-19T12:17:16.957732Z",
     "start_time": "2020-05-19T12:17:15.860694Z"
    }
   },
   "outputs": [
    {
     "data": {
      "text/html": [
       "<div>\n",
       "<style scoped>\n",
       "    .dataframe tbody tr th:only-of-type {\n",
       "        vertical-align: middle;\n",
       "    }\n",
       "\n",
       "    .dataframe tbody tr th {\n",
       "        vertical-align: top;\n",
       "    }\n",
       "\n",
       "    .dataframe thead th {\n",
       "        text-align: right;\n",
       "    }\n",
       "</style>\n",
       "<table border=\"1\" class=\"dataframe\">\n",
       "  <thead>\n",
       "    <tr style=\"text-align: right;\">\n",
       "      <th></th>\n",
       "      <th>date</th>\n",
       "      <th>cases</th>\n",
       "      <th>deaths</th>\n",
       "    </tr>\n",
       "  </thead>\n",
       "  <tbody>\n",
       "    <tr>\n",
       "      <th>0</th>\n",
       "      <td>2020-01-21</td>\n",
       "      <td>1</td>\n",
       "      <td>0</td>\n",
       "    </tr>\n",
       "    <tr>\n",
       "      <th>1</th>\n",
       "      <td>2020-01-22</td>\n",
       "      <td>1</td>\n",
       "      <td>0</td>\n",
       "    </tr>\n",
       "    <tr>\n",
       "      <th>2</th>\n",
       "      <td>2020-01-23</td>\n",
       "      <td>1</td>\n",
       "      <td>0</td>\n",
       "    </tr>\n",
       "    <tr>\n",
       "      <th>3</th>\n",
       "      <td>2020-01-24</td>\n",
       "      <td>2</td>\n",
       "      <td>0</td>\n",
       "    </tr>\n",
       "    <tr>\n",
       "      <th>4</th>\n",
       "      <td>2020-01-25</td>\n",
       "      <td>3</td>\n",
       "      <td>0</td>\n",
       "    </tr>\n",
       "  </tbody>\n",
       "</table>\n",
       "</div>"
      ],
      "text/plain": [
       "         date  cases  deaths\n",
       "0  2020-01-21      1       0\n",
       "1  2020-01-22      1       0\n",
       "2  2020-01-23      1       0\n",
       "3  2020-01-24      2       0\n",
       "4  2020-01-25      3       0"
      ]
     },
     "execution_count": 2,
     "metadata": {},
     "output_type": "execute_result"
    }
   ],
   "source": [
    "# Reading the historical data reported by the NYtimes\n",
    "# for the US\n",
    "covidUSCountryData = pd.read_csv(\n",
    "    'https://raw.githubusercontent.com/nytimes/covid-19-data/master/us.csv')\n",
    "covidUSCountryData.head()"
   ]
  },
  {
   "cell_type": "markdown",
   "metadata": {},
   "source": [
    "NYtimes reports two types of dataset; historical and live. \"A key difference between the historical and live files is that the numbers in the historical files are the final counts at the end of each day, while the live files have figures that may be a partial count released during the day but cannot necessarily be considered the final, end-of-day tally..\""
   ]
  },
  {
   "cell_type": "markdown",
   "metadata": {},
   "source": [
    "- cases: The total number of cases of Covid-19, including both confirmed and probable.\n",
    "- deaths: The total number of deaths from Covid-19, including both confirmed and probable.\n",
    "- confirmed_cases: The number of laboratory confirmed Covid-19 cases only, or blank if not available.\n",
    "- confirmed_deaths: The number of laboratory confirmed Covid-19 deaths only, or blank if not available.\n",
    "- probable_cases: The number of probable Covid-19 cases only, or blank if not available.\n",
    "- probable_deaths: The number of probable Covid-19 deaths only, or blank if not available.\n",
    "- FIPS codes: These are numbers which uniquely identify geographic areas. The number of digits in FIPS codes vary \n",
    "depending on the level of geography. State-level FIPS codes have two digits, county-level FIPS codes have five\n",
    "digits of which the first two are the FIPS code of the state to which the county belong"
   ]
  },
  {
   "cell_type": "code",
   "execution_count": 3,
   "metadata": {
    "ExecuteTime": {
     "end_time": "2020-05-19T12:17:25.733861Z",
     "start_time": "2020-05-19T12:17:25.725391Z"
    }
   },
   "outputs": [
    {
     "data": {
      "text/plain": [
       "(118, 3)"
      ]
     },
     "execution_count": 3,
     "metadata": {},
     "output_type": "execute_result"
    }
   ],
   "source": [
    "# Understanding the shape of the data\n",
    "covidUSCountryData.shape"
   ]
  },
  {
   "cell_type": "markdown",
   "metadata": {},
   "source": [
    "It has 150,169 rows and 6 columns"
   ]
  },
  {
   "cell_type": "code",
   "execution_count": 4,
   "metadata": {
    "ExecuteTime": {
     "end_time": "2020-05-19T12:17:28.998502Z",
     "start_time": "2020-05-19T12:17:28.989638Z"
    }
   },
   "outputs": [
    {
     "data": {
      "text/plain": [
       "Index(['date', 'cases', 'deaths'], dtype='object')"
      ]
     },
     "execution_count": 4,
     "metadata": {},
     "output_type": "execute_result"
    }
   ],
   "source": [
    "covidUSCountryData.columns"
   ]
  },
  {
   "cell_type": "code",
   "execution_count": 5,
   "metadata": {
    "ExecuteTime": {
     "end_time": "2020-05-19T12:17:30.354610Z",
     "start_time": "2020-05-19T12:17:30.334246Z"
    }
   },
   "outputs": [
    {
     "name": "stdout",
     "output_type": "stream",
     "text": [
      "<class 'pandas.core.frame.DataFrame'>\n",
      "RangeIndex: 118 entries, 0 to 117\n",
      "Data columns (total 3 columns):\n",
      " #   Column  Non-Null Count  Dtype \n",
      "---  ------  --------------  ----- \n",
      " 0   date    118 non-null    object\n",
      " 1   cases   118 non-null    int64 \n",
      " 2   deaths  118 non-null    int64 \n",
      "dtypes: int64(2), object(1)\n",
      "memory usage: 2.9+ KB\n"
     ]
    }
   ],
   "source": [
    "# Let me have an idea of the numerical and categorical data types\n",
    "covidUSCountryData.info()"
   ]
  },
  {
   "cell_type": "markdown",
   "metadata": {},
   "source": [
    "I'm thinking I should convert the date column to a datetime format, \n",
    "Then go ahead to make it the datasets index. That way I can analyze the data like time series data"
   ]
  },
  {
   "cell_type": "markdown",
   "metadata": {},
   "source": [
    "The result reveals a total of 3009 entries in the dataset. Generally, the columns tied with data type “int64” and “float64” denotes numerical data while data type “object” denotes categorical data."
   ]
  },
  {
   "cell_type": "markdown",
   "metadata": {},
   "source": [
    "My experience from reading articles and learning data science; I'll like to find out the central tendency of this live dataset."
   ]
  },
  {
   "cell_type": "markdown",
   "metadata": {},
   "source": [
    "Mean is an average of all the numbers. The steps required to calculate a mean are: sum up all the values of a target variable in the datasetthe sum by the number of values\n",
    "\n",
    "Note of warning: a mean might be influenced by the outliers.\n",
    "\n",
    "Outliers are the numbers which are either extremely high or extremely low compared to the rest of the numbers in a dataset.\n",
    "\n",
    "Median is the middle value of a sorted list of numbers. The steps required to get a median from a list of numbers are: sort the numbers from smallest to highest if the list has an odd number of values, the value in the middle position is the median if the list has an even number of values, the average of the two values in the middle will be the median\n",
    "\n",
    "Note: A median is not influenced by the outliers."
   ]
  },
  {
   "cell_type": "code",
   "execution_count": 6,
   "metadata": {
    "ExecuteTime": {
     "end_time": "2020-05-19T12:17:37.132622Z",
     "start_time": "2020-05-19T12:17:37.126354Z"
    }
   },
   "outputs": [],
   "source": [
    "# Calculating the mean of cases and deaths respectively\n",
    "mean_cases = covidUSCountryData['cases'].mean()"
   ]
  },
  {
   "cell_type": "code",
   "execution_count": 7,
   "metadata": {
    "ExecuteTime": {
     "end_time": "2020-05-19T12:17:38.292506Z",
     "start_time": "2020-05-19T12:17:38.283670Z"
    }
   },
   "outputs": [
    {
     "name": "stdout",
     "output_type": "stream",
     "text": [
      "Average Reported Cases: 363776.0338983051\n"
     ]
    }
   ],
   "source": [
    "# Average reported cases for the US counties\n",
    "print(\"Average Reported Cases:\", mean_cases)"
   ]
  },
  {
   "cell_type": "code",
   "execution_count": 8,
   "metadata": {
    "ExecuteTime": {
     "end_time": "2020-05-19T12:17:39.362333Z",
     "start_time": "2020-05-19T12:17:39.357051Z"
    }
   },
   "outputs": [],
   "source": [
    "# Calculating the mean of deaths\n",
    "mean_deaths = covidUSCountryData['deaths'].mean()"
   ]
  },
  {
   "cell_type": "code",
   "execution_count": 9,
   "metadata": {
    "ExecuteTime": {
     "end_time": "2020-05-19T12:17:40.332176Z",
     "start_time": "2020-05-19T12:17:40.326124Z"
    }
   },
   "outputs": [
    {
     "name": "stdout",
     "output_type": "stream",
     "text": [
      "Average Reported Deaths: 19756.084745762713\n"
     ]
    }
   ],
   "source": [
    "# Average reported deaths for US counties\n",
    "print(\"Average Reported Deaths:\", mean_deaths)"
   ]
  },
  {
   "cell_type": "code",
   "execution_count": 10,
   "metadata": {
    "ExecuteTime": {
     "end_time": "2020-05-19T12:17:44.728991Z",
     "start_time": "2020-05-19T12:17:44.721318Z"
    }
   },
   "outputs": [],
   "source": [
    "# Calculating the Median reported cases\n",
    "median_cases = covidUSCountryData['cases'].median()"
   ]
  },
  {
   "cell_type": "code",
   "execution_count": 11,
   "metadata": {
    "ExecuteTime": {
     "end_time": "2020-05-19T12:17:45.057951Z",
     "start_time": "2020-05-19T12:17:45.051106Z"
    }
   },
   "outputs": [
    {
     "name": "stdout",
     "output_type": "stream",
     "text": [
      "Median Reported cases: 15197.0\n"
     ]
    }
   ],
   "source": [
    "# Median of the reported cases\n",
    "print(\"Median Reported cases:\",median_cases)"
   ]
  },
  {
   "cell_type": "code",
   "execution_count": 12,
   "metadata": {
    "ExecuteTime": {
     "end_time": "2020-05-19T12:17:45.310258Z",
     "start_time": "2020-05-19T12:17:45.303901Z"
    }
   },
   "outputs": [],
   "source": [
    "# Calculating the Median deaths \n",
    "median_deaths = covidUSCountryData['deaths'].median()"
   ]
  },
  {
   "cell_type": "code",
   "execution_count": 13,
   "metadata": {
    "ExecuteTime": {
     "end_time": "2020-05-19T12:17:45.582747Z",
     "start_time": "2020-05-19T12:17:45.575116Z"
    }
   },
   "outputs": [
    {
     "name": "stdout",
     "output_type": "stream",
     "text": [
      "Median of Reported Deaths: 243.5\n"
     ]
    }
   ],
   "source": [
    "# Median of deaths\n",
    "print(\"Median of Reported Deaths:\", median_deaths)"
   ]
  },
  {
   "cell_type": "markdown",
   "metadata": {},
   "source": [
    "Measuring Variation"
   ]
  },
  {
   "cell_type": "code",
   "execution_count": null,
   "metadata": {},
   "outputs": [],
   "source": []
  },
  {
   "cell_type": "code",
   "execution_count": null,
   "metadata": {},
   "outputs": [],
   "source": []
  },
  {
   "cell_type": "code",
   "execution_count": null,
   "metadata": {},
   "outputs": [],
   "source": []
  },
  {
   "cell_type": "code",
   "execution_count": null,
   "metadata": {},
   "outputs": [],
   "source": []
  },
  {
   "cell_type": "markdown",
   "metadata": {},
   "source": [
    "I digress in this notebook. I needed to test my hands on something I am currently learning. I will save this part\n",
    "of the notebook. Learning can be cross sectional...I made that shit up\n",
    "\n",
    "So at this point I was reading Think Stats by Allen Downey, so I decided to play around with histograms"
   ]
  },
  {
   "cell_type": "code",
   "execution_count": 14,
   "metadata": {
    "ExecuteTime": {
     "end_time": "2020-05-19T12:19:34.139926Z",
     "start_time": "2020-05-19T12:19:34.117098Z"
    }
   },
   "outputs": [
    {
     "data": {
      "text/html": [
       "<div>\n",
       "<style scoped>\n",
       "    .dataframe tbody tr th:only-of-type {\n",
       "        vertical-align: middle;\n",
       "    }\n",
       "\n",
       "    .dataframe tbody tr th {\n",
       "        vertical-align: top;\n",
       "    }\n",
       "\n",
       "    .dataframe thead th {\n",
       "        text-align: right;\n",
       "    }\n",
       "</style>\n",
       "<table border=\"1\" class=\"dataframe\">\n",
       "  <thead>\n",
       "    <tr style=\"text-align: right;\">\n",
       "      <th></th>\n",
       "      <th>date</th>\n",
       "      <th>cases</th>\n",
       "      <th>deaths</th>\n",
       "    </tr>\n",
       "  </thead>\n",
       "  <tbody>\n",
       "    <tr>\n",
       "      <th>0</th>\n",
       "      <td>2020-01-21</td>\n",
       "      <td>1</td>\n",
       "      <td>0</td>\n",
       "    </tr>\n",
       "    <tr>\n",
       "      <th>1</th>\n",
       "      <td>2020-01-22</td>\n",
       "      <td>1</td>\n",
       "      <td>0</td>\n",
       "    </tr>\n",
       "    <tr>\n",
       "      <th>2</th>\n",
       "      <td>2020-01-23</td>\n",
       "      <td>1</td>\n",
       "      <td>0</td>\n",
       "    </tr>\n",
       "    <tr>\n",
       "      <th>3</th>\n",
       "      <td>2020-01-24</td>\n",
       "      <td>2</td>\n",
       "      <td>0</td>\n",
       "    </tr>\n",
       "    <tr>\n",
       "      <th>4</th>\n",
       "      <td>2020-01-25</td>\n",
       "      <td>3</td>\n",
       "      <td>0</td>\n",
       "    </tr>\n",
       "    <tr>\n",
       "      <th>...</th>\n",
       "      <td>...</td>\n",
       "      <td>...</td>\n",
       "      <td>...</td>\n",
       "    </tr>\n",
       "    <tr>\n",
       "      <th>113</th>\n",
       "      <td>2020-05-13</td>\n",
       "      <td>1397780</td>\n",
       "      <td>84104</td>\n",
       "    </tr>\n",
       "    <tr>\n",
       "      <th>114</th>\n",
       "      <td>2020-05-14</td>\n",
       "      <td>1424734</td>\n",
       "      <td>85842</td>\n",
       "    </tr>\n",
       "    <tr>\n",
       "      <th>115</th>\n",
       "      <td>2020-05-15</td>\n",
       "      <td>1450963</td>\n",
       "      <td>87435</td>\n",
       "    </tr>\n",
       "    <tr>\n",
       "      <th>116</th>\n",
       "      <td>2020-05-16</td>\n",
       "      <td>1474612</td>\n",
       "      <td>88660</td>\n",
       "    </tr>\n",
       "    <tr>\n",
       "      <th>117</th>\n",
       "      <td>2020-05-17</td>\n",
       "      <td>1493613</td>\n",
       "      <td>89504</td>\n",
       "    </tr>\n",
       "  </tbody>\n",
       "</table>\n",
       "<p>118 rows × 3 columns</p>\n",
       "</div>"
      ],
      "text/plain": [
       "           date    cases  deaths\n",
       "0    2020-01-21        1       0\n",
       "1    2020-01-22        1       0\n",
       "2    2020-01-23        1       0\n",
       "3    2020-01-24        2       0\n",
       "4    2020-01-25        3       0\n",
       "..          ...      ...     ...\n",
       "113  2020-05-13  1397780   84104\n",
       "114  2020-05-14  1424734   85842\n",
       "115  2020-05-15  1450963   87435\n",
       "116  2020-05-16  1474612   88660\n",
       "117  2020-05-17  1493613   89504\n",
       "\n",
       "[118 rows x 3 columns]"
      ]
     },
     "execution_count": 14,
     "metadata": {},
     "output_type": "execute_result"
    }
   ],
   "source": [
    "covidUSCountryData"
   ]
  },
  {
   "cell_type": "code",
   "execution_count": 15,
   "metadata": {
    "ExecuteTime": {
     "end_time": "2020-05-19T12:20:15.514542Z",
     "start_time": "2020-05-19T12:20:15.506572Z"
    }
   },
   "outputs": [
    {
     "data": {
      "text/plain": [
       "Index(['date', 'cases', 'deaths'], dtype='object')"
      ]
     },
     "execution_count": 15,
     "metadata": {},
     "output_type": "execute_result"
    }
   ],
   "source": [
    "covidUSCountryData.columns"
   ]
  },
  {
   "cell_type": "code",
   "execution_count": 22,
   "metadata": {
    "ExecuteTime": {
     "end_time": "2020-05-19T12:37:23.441303Z",
     "start_time": "2020-05-19T12:37:23.419647Z"
    }
   },
   "outputs": [
    {
     "data": {
      "text/html": [
       "<div>\n",
       "<style scoped>\n",
       "    .dataframe tbody tr th:only-of-type {\n",
       "        vertical-align: middle;\n",
       "    }\n",
       "\n",
       "    .dataframe tbody tr th {\n",
       "        vertical-align: top;\n",
       "    }\n",
       "\n",
       "    .dataframe thead th {\n",
       "        text-align: right;\n",
       "    }\n",
       "</style>\n",
       "<table border=\"1\" class=\"dataframe\">\n",
       "  <thead>\n",
       "    <tr style=\"text-align: right;\">\n",
       "      <th></th>\n",
       "      <th>date</th>\n",
       "      <th>cases</th>\n",
       "      <th>deaths</th>\n",
       "    </tr>\n",
       "  </thead>\n",
       "  <tbody>\n",
       "    <tr>\n",
       "      <th>44</th>\n",
       "      <td>2020-03-05</td>\n",
       "      <td>228</td>\n",
       "      <td>12</td>\n",
       "    </tr>\n",
       "    <tr>\n",
       "      <th>45</th>\n",
       "      <td>2020-03-06</td>\n",
       "      <td>311</td>\n",
       "      <td>15</td>\n",
       "    </tr>\n",
       "    <tr>\n",
       "      <th>46</th>\n",
       "      <td>2020-03-07</td>\n",
       "      <td>428</td>\n",
       "      <td>19</td>\n",
       "    </tr>\n",
       "    <tr>\n",
       "      <th>47</th>\n",
       "      <td>2020-03-08</td>\n",
       "      <td>547</td>\n",
       "      <td>22</td>\n",
       "    </tr>\n",
       "    <tr>\n",
       "      <th>48</th>\n",
       "      <td>2020-03-09</td>\n",
       "      <td>748</td>\n",
       "      <td>26</td>\n",
       "    </tr>\n",
       "    <tr>\n",
       "      <th>...</th>\n",
       "      <td>...</td>\n",
       "      <td>...</td>\n",
       "      <td>...</td>\n",
       "    </tr>\n",
       "    <tr>\n",
       "      <th>113</th>\n",
       "      <td>2020-05-13</td>\n",
       "      <td>1397780</td>\n",
       "      <td>84104</td>\n",
       "    </tr>\n",
       "    <tr>\n",
       "      <th>114</th>\n",
       "      <td>2020-05-14</td>\n",
       "      <td>1424734</td>\n",
       "      <td>85842</td>\n",
       "    </tr>\n",
       "    <tr>\n",
       "      <th>115</th>\n",
       "      <td>2020-05-15</td>\n",
       "      <td>1450963</td>\n",
       "      <td>87435</td>\n",
       "    </tr>\n",
       "    <tr>\n",
       "      <th>116</th>\n",
       "      <td>2020-05-16</td>\n",
       "      <td>1474612</td>\n",
       "      <td>88660</td>\n",
       "    </tr>\n",
       "    <tr>\n",
       "      <th>117</th>\n",
       "      <td>2020-05-17</td>\n",
       "      <td>1493613</td>\n",
       "      <td>89504</td>\n",
       "    </tr>\n",
       "  </tbody>\n",
       "</table>\n",
       "<p>74 rows × 3 columns</p>\n",
       "</div>"
      ],
      "text/plain": [
       "           date    cases  deaths\n",
       "44   2020-03-05      228      12\n",
       "45   2020-03-06      311      15\n",
       "46   2020-03-07      428      19\n",
       "47   2020-03-08      547      22\n",
       "48   2020-03-09      748      26\n",
       "..          ...      ...     ...\n",
       "113  2020-05-13  1397780   84104\n",
       "114  2020-05-14  1424734   85842\n",
       "115  2020-05-15  1450963   87435\n",
       "116  2020-05-16  1474612   88660\n",
       "117  2020-05-17  1493613   89504\n",
       "\n",
       "[74 rows x 3 columns]"
      ]
     },
     "execution_count": 22,
     "metadata": {},
     "output_type": "execute_result"
    }
   ],
   "source": [
    "cases_covid = covidUSCountryData[covidUSCountryData.cases > 200]\n",
    "cases_covid"
   ]
  },
  {
   "cell_type": "code",
   "execution_count": 23,
   "metadata": {
    "ExecuteTime": {
     "end_time": "2020-05-19T12:38:28.540952Z",
     "start_time": "2020-05-19T12:38:27.835002Z"
    }
   },
   "outputs": [
    {
     "data": {
      "image/png": "[encoded data removed]",
      "text/plain": [
       "<Figure size 432x288 with 1 Axes>"
      ]
     },
     "metadata": {
      "needs_background": "light"
     },
     "output_type": "display_data"
    },
    {
     "data": {
      "text/plain": [
       "<Figure size 576x432 with 0 Axes>"
      ]
     },
     "metadata": {},
     "output_type": "display_data"
    }
   ],
   "source": [
    "hist = thinkstats2.Hist(cases_covid.deaths, label = 'Deaths' )\n",
    "thinkplot.hist(hist)\n",
    "thinkplot.Show(xlabel ='Deaths', ylabel ='frequency')"
   ]
  },
  {
   "cell_type": "code",
   "execution_count": null,
   "metadata": {},
   "outputs": [],
   "source": []
  }
 ],
 "metadata": {
  "kernelspec": {
   "display_name": "Python 3",
   "language": "python",
   "name": "python3"
  },
  "language_info": {
   "codemirror_mode": {
    "name": "ipython",
    "version": 3
   },
   "file_extension": ".py",
   "mimetype": "text/x-python",
   "name": "python",
   "nbconvert_exporter": "python",
   "pygments_lexer": "ipython3",
   "version": "3.7.7"
  },
  "latex_envs": {
   "LaTeX_envs_menu_present": true,
   "autoclose": false,
   "autocomplete": true,
   "bibliofile": "biblio.bib",
   "cite_by": "apalike",
   "current_citInitial": 1,
   "eqLabelWithNumbers": true,
   "eqNumInitial": 1,
   "hotkeys": {
    "equation": "Ctrl-E",
    "itemize": "Ctrl-I"
   },
   "labels_anchors": false,
   "latex_user_defs": false,
   "report_style_numbering": false,
   "user_envs_cfg": false
  },
  "notify_time": "5",
  "toc": {
   "base_numbering": 1,
   "nav_menu": {},
   "number_sections": true,
   "sideBar": true,
   "skip_h1_title": false,
   "title_cell": "Table of Contents",
   "title_sidebar": "Contents",
   "toc_cell": false,
   "toc_position": {},
   "toc_section_display": true,
   "toc_window_display": false
  },
  "varInspector": {
   "cols": {
    "lenName": 16,
    "lenType": 16,
    "lenVar": 40
   },
   "kernels_config": {
    "python": {
     "delete_cmd_postfix": "",
     "delete_cmd_prefix": "del ",
     "library": "var_list.py",
     "varRefreshCmd": "print(var_dic_list())"
    },
    "r": {
     "delete_cmd_postfix": ") ",
     "delete_cmd_prefix": "rm(",
     "library": "var_list.r",
     "varRefreshCmd": "cat(var_dic_list()) "
    }
   },
   "types_to_exclude": [
    "module",
    "function",
    "builtin_function_or_method",
    "instance",
    "_Feature"
   ],
   "window_display": false
  }
 },
 "nbformat": 4,
 "nbformat_minor": 4
}
