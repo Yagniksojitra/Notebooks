{
 "cells": [
  {
   "cell_type": "markdown",
   "metadata": {},
   "source": [
    "### Overview of Python"
   ]
  },
  {
   "cell_type": "code",
   "execution_count": 10,
   "metadata": {},
   "outputs": [
    {
     "name": "stdout",
     "output_type": "stream",
     "text": [
      "Text: Pablo has sexy lips!\n"
     ]
    }
   ],
   "source": [
    "# f string\n",
    "spam = \"sexy lips\"\n",
    "print(f\"Text: Pablo has {spam}!\")"
   ]
  },
  {
   "cell_type": "code",
   "execution_count": 11,
   "metadata": {},
   "outputs": [
    {
     "name": "stdout",
     "output_type": "stream",
     "text": [
      "{'Topic': 'Data Science', 'Language': 'Python'}\n"
     ]
    }
   ],
   "source": [
    "# Dictionary\n",
    "var7 = {'Topic': 'Data Science', 'Language': 'Python'}\n",
    "print(var7)"
   ]
  },
  {
   "cell_type": "code",
   "execution_count": 12,
   "metadata": {},
   "outputs": [
    {
     "name": "stdout",
     "output_type": "stream",
     "text": [
      "{'Topic': 'Data Science', 'Language': 'Python', 'Publisher': 'Packt'}\n"
     ]
    }
   ],
   "source": [
    "var7['Publisher'] = 'Packt'\n",
    "print(var7)"
   ]
  },
  {
   "cell_type": "code",
   "execution_count": 13,
   "metadata": {},
   "outputs": [
    {
     "name": "stdout",
     "output_type": "stream",
     "text": [
      "{'Topic': 'Data Science', 'Language': 'Python'}\n"
     ]
    }
   ],
   "source": [
    "del var7['Publisher']\n",
    "print(var7)"
   ]
  },
  {
   "cell_type": "code",
   "execution_count": 14,
   "metadata": {},
   "outputs": [
    {
     "name": "stdout",
     "output_type": "stream",
     "text": [
      "{'Topic': 'Data Science', 'Language': 'Python'}\n"
     ]
    }
   ],
   "source": [
    "print(var7)"
   ]
  },
  {
   "cell_type": "markdown",
   "metadata": {},
   "source": [
    "### Creating a Dictionary That Will Contain Machine Learning Algorithms"
   ]
  },
  {
   "cell_type": "code",
   "execution_count": 15,
   "metadata": {},
   "outputs": [],
   "source": [
    "# List called algorithm\n",
    "algorithm = ['Linear Regression', 'Logistic Regression', 'RandomForest', 'a3c']"
   ]
  },
  {
   "cell_type": "code",
   "execution_count": 16,
   "metadata": {},
   "outputs": [],
   "source": [
    "# List called Learning\n",
    "Learning = ['Supervised', 'Supervised', 'Supervised', 'Reinforcement']"
   ]
  },
  {
   "cell_type": "code",
   "execution_count": 17,
   "metadata": {},
   "outputs": [],
   "source": [
    "# List called algorithm_type\n",
    "algorithm_type = ['Regression', 'Classification', 'Regression or Classification', 'Game AI']"
   ]
  },
  {
   "cell_type": "code",
   "execution_count": 18,
   "metadata": {},
   "outputs": [],
   "source": [
    "# add k-means to algorithm\n",
    "algorithm.append('K.means')"
   ]
  },
  {
   "cell_type": "code",
   "execution_count": 19,
   "metadata": {},
   "outputs": [
    {
     "name": "stdout",
     "output_type": "stream",
     "text": [
      "['Linear Regression', 'Logistic Regression', 'RandomForest', 'a3c', 'K.means']\n"
     ]
    }
   ],
   "source": [
    "print(algorithm)"
   ]
  },
  {
   "cell_type": "code",
   "execution_count": 20,
   "metadata": {},
   "outputs": [],
   "source": [
    "# add unspervised to Learning\n",
    "Learning.append('Unsupervised')"
   ]
  },
  {
   "cell_type": "code",
   "execution_count": 21,
   "metadata": {},
   "outputs": [
    {
     "name": "stdout",
     "output_type": "stream",
     "text": [
      "['Supervised', 'Supervised', 'Supervised', 'Reinforcement', 'Unsupervised']\n"
     ]
    }
   ],
   "source": [
    "print(Learning)"
   ]
  },
  {
   "cell_type": "code",
   "execution_count": 22,
   "metadata": {},
   "outputs": [],
   "source": [
    "# add clustering to algorithm_type\n",
    "algorithm_type.append('Clustering')"
   ]
  },
  {
   "cell_type": "code",
   "execution_count": 23,
   "metadata": {},
   "outputs": [
    {
     "name": "stdout",
     "output_type": "stream",
     "text": [
      "['Regression', 'Classification', 'Regression or Classification', 'Game AI', 'Clustering']\n"
     ]
    }
   ],
   "source": [
    "print(algorithm_type)"
   ]
  },
  {
   "cell_type": "code",
   "execution_count": 24,
   "metadata": {},
   "outputs": [],
   "source": [
    "# an empty dictionary string\n",
    "machine_learning = {}"
   ]
  },
  {
   "cell_type": "code",
   "execution_count": 25,
   "metadata": {},
   "outputs": [],
   "source": [
    "# Create a new item in machine_learning with the key as algorithm\n",
    "#and the value as all the items from the algorithm list\n",
    "machine_learning['algorithm'] = algorithm"
   ]
  },
  {
   "cell_type": "code",
   "execution_count": 26,
   "metadata": {},
   "outputs": [
    {
     "name": "stdout",
     "output_type": "stream",
     "text": [
      "{'algorithm': ['Linear Regression', 'Logistic Regression', 'RandomForest', 'a3c', 'K.means']}\n"
     ]
    }
   ],
   "source": [
    "print(machine_learning)"
   ]
  },
  {
   "cell_type": "code",
   "execution_count": 27,
   "metadata": {},
   "outputs": [],
   "source": [
    "#Create a new item in machine_learning with the key as \n",
    "#learning and the value as all the items from the learning list\n",
    "machine_learning[\"Learning\"] = Learning"
   ]
  },
  {
   "cell_type": "code",
   "execution_count": 36,
   "metadata": {},
   "outputs": [],
   "source": [
    "# Create a new item in machine_learning with the key as algorithm_type \n",
    "#and the value as all the items from the algorithm_type list:\n",
    "machine_learning['algorithm_type'] = algorithm_type"
   ]
  },
  {
   "cell_type": "code",
   "execution_count": 28,
   "metadata": {},
   "outputs": [
    {
     "name": "stdout",
     "output_type": "stream",
     "text": [
      "{'algorithm': ['Linear Regression', 'Logistic Regression', 'RandomForest', 'a3c', 'K.means'], 'Learning': ['Supervised', 'Supervised', 'Supervised', 'Reinforcement', 'Unsupervised']}\n"
     ]
    }
   ],
   "source": [
    "print(machine_learning)"
   ]
  },
  {
   "cell_type": "code",
   "execution_count": 29,
   "metadata": {},
   "outputs": [],
   "source": [
    "# Remove the a3c item from the algorithm key using the .remove() method:\n",
    "machine_learning['algorithm'].remove('a3c')"
   ]
  },
  {
   "cell_type": "code",
   "execution_count": 30,
   "metadata": {},
   "outputs": [
    {
     "name": "stdout",
     "output_type": "stream",
     "text": [
      "['Linear Regression', 'Logistic Regression', 'RandomForest', 'K.means']\n"
     ]
    }
   ],
   "source": [
    "print(machine_learning['algorithm'])"
   ]
  },
  {
   "cell_type": "code",
   "execution_count": 31,
   "metadata": {},
   "outputs": [],
   "source": [
    "# Remove the Reinforcement item from the learning key using the .remove() method:\n",
    "machine_learning['Learning'].remove('Reinforcement')"
   ]
  },
  {
   "cell_type": "code",
   "execution_count": 37,
   "metadata": {},
   "outputs": [],
   "source": [
    "# Remove the Game AI item from the algorithm_type key using the .remove() method:\n",
    "machine_learning['algorithm_type'].remove('Game AI')"
   ]
  },
  {
   "cell_type": "code",
   "execution_count": 38,
   "metadata": {},
   "outputs": [
    {
     "name": "stdout",
     "output_type": "stream",
     "text": [
      "['Regression', 'Classification', 'Regression or Classification', 'Clustering']\n"
     ]
    }
   ],
   "source": [
    "print(algorithm_type)"
   ]
  },
  {
   "cell_type": "code",
   "execution_count": 39,
   "metadata": {},
   "outputs": [
    {
     "name": "stdout",
     "output_type": "stream",
     "text": [
      "{'algorithm': ['Linear Regression', 'Logistic Regression', 'RandomForest', 'K.means'], 'Learning': ['Supervised', 'Supervised', 'Supervised', 'Unsupervised'], 'algorithm_type': ['Regression', 'Classification', 'Regression or Classification', 'Clustering']}\n"
     ]
    }
   ],
   "source": [
    "print(machine_learning)"
   ]
  },
  {
   "cell_type": "code",
   "execution_count": 9,
   "metadata": {},
   "outputs": [
    {
     "name": "stdout",
     "output_type": "stream",
     "text": [
      "\u001b[31mAB_NYC_2019.csv\u001b[m\u001b[m                json_example.json\r\n",
      "Data Science Workshop.ipynb    overall_topten_2012-2013.csv\r\n",
      "\u001b[34mPython 3.7\u001b[m\u001b[m                     overall_topten_2012-2013.tsv\r\n",
      "csv_example.csv                overall_topten_2012-2013.xlsx\r\n",
      "dataset_44_spambase.csv        tas_1991_2016_AUS.csv\r\n",
      "excel_example.xlsx             tas_1991_2016_AUS_Activity.csv\r\n"
     ]
    }
   ],
   "source": [
    "# import pandas package\n",
    "import pandas as pd\n",
    "!ls"
   ]
  },
  {
   "cell_type": "code",
   "execution_count": 8,
   "metadata": {},
   "outputs": [
    {
     "data": {
      "text/html": [
       "<div>\n",
       "<style scoped>\n",
       "    .dataframe tbody tr th:only-of-type {\n",
       "        vertical-align: middle;\n",
       "    }\n",
       "\n",
       "    .dataframe tbody tr th {\n",
       "        vertical-align: top;\n",
       "    }\n",
       "\n",
       "    .dataframe thead th {\n",
       "        text-align: right;\n",
       "    }\n",
       "</style>\n",
       "<table border=\"1\" class=\"dataframe\">\n",
       "  <thead>\n",
       "    <tr style=\"text-align: right;\">\n",
       "      <th></th>\n",
       "      <th>algorithm</th>\n",
       "      <th>learning</th>\n",
       "      <th>type</th>\n",
       "    </tr>\n",
       "  </thead>\n",
       "  <tbody>\n",
       "    <tr>\n",
       "      <th>0</th>\n",
       "      <td>Linear Regression</td>\n",
       "      <td>Supervised</td>\n",
       "      <td>Regression</td>\n",
       "    </tr>\n",
       "    <tr>\n",
       "      <th>1</th>\n",
       "      <td>Logistic Regression</td>\n",
       "      <td>Supervised</td>\n",
       "      <td>Classification</td>\n",
       "    </tr>\n",
       "    <tr>\n",
       "      <th>2</th>\n",
       "      <td>RandomForest</td>\n",
       "      <td>Supervised</td>\n",
       "      <td>Regression or Classification</td>\n",
       "    </tr>\n",
       "    <tr>\n",
       "      <th>3</th>\n",
       "      <td>k-means</td>\n",
       "      <td>Unsupervised</td>\n",
       "      <td>Clustering</td>\n",
       "    </tr>\n",
       "  </tbody>\n",
       "</table>\n",
       "</div>"
      ],
      "text/plain": [
       "             algorithm      learning                          type\n",
       "0    Linear Regression    Supervised                    Regression\n",
       "1  Logistic Regression    Supervised                Classification\n",
       "2         RandomForest    Supervised  Regression or Classification\n",
       "3              k-means  Unsupervised                    Clustering"
      ]
     },
     "execution_count": 8,
     "metadata": {},
     "output_type": "execute_result"
    }
   ],
   "source": [
    "# Reading a csv file\n",
    "df_example = pd.read_csv('csv_example.csv')\n",
    "df_example"
   ]
  },
  {
   "cell_type": "code",
   "execution_count": 14,
   "metadata": {},
   "outputs": [
    {
     "name": "stdout",
     "output_type": "stream",
     "text": [
      "Collecting xlrd\n",
      "  Using cached xlrd-1.2.0-py2.py3-none-any.whl (103 kB)\n",
      "Installing collected packages: xlrd\n",
      "Successfully installed xlrd-1.2.0\n"
     ]
    }
   ],
   "source": [
    "!pip install xlrd"
   ]
  },
  {
   "cell_type": "code",
   "execution_count": 16,
   "metadata": {},
   "outputs": [
    {
     "data": {
      "text/html": [
       "<div>\n",
       "<style scoped>\n",
       "    .dataframe tbody tr th:only-of-type {\n",
       "        vertical-align: middle;\n",
       "    }\n",
       "\n",
       "    .dataframe tbody tr th {\n",
       "        vertical-align: top;\n",
       "    }\n",
       "\n",
       "    .dataframe thead th {\n",
       "        text-align: right;\n",
       "    }\n",
       "</style>\n",
       "<table border=\"1\" class=\"dataframe\">\n",
       "  <thead>\n",
       "    <tr style=\"text-align: right;\">\n",
       "      <th></th>\n",
       "      <th>algorithm</th>\n",
       "      <th>learning</th>\n",
       "      <th>type</th>\n",
       "    </tr>\n",
       "  </thead>\n",
       "  <tbody>\n",
       "    <tr>\n",
       "      <th>0</th>\n",
       "      <td>Linear Regression</td>\n",
       "      <td>Supervised</td>\n",
       "      <td>Regression</td>\n",
       "    </tr>\n",
       "    <tr>\n",
       "      <th>1</th>\n",
       "      <td>Logistic Regression</td>\n",
       "      <td>Supervised</td>\n",
       "      <td>Classification</td>\n",
       "    </tr>\n",
       "    <tr>\n",
       "      <th>2</th>\n",
       "      <td>RandomForest</td>\n",
       "      <td>Supervised</td>\n",
       "      <td>Regression or Classification</td>\n",
       "    </tr>\n",
       "    <tr>\n",
       "      <th>3</th>\n",
       "      <td>k-means</td>\n",
       "      <td>Unsupervised</td>\n",
       "      <td>Clustering</td>\n",
       "    </tr>\n",
       "  </tbody>\n",
       "</table>\n",
       "</div>"
      ],
      "text/plain": [
       "             algorithm      learning                          type\n",
       "0    Linear Regression    Supervised                    Regression\n",
       "1  Logistic Regression    Supervised                Classification\n",
       "2         RandomForest    Supervised  Regression or Classification\n",
       "3              k-means  Unsupervised                    Clustering"
      ]
     },
     "execution_count": 16,
     "metadata": {},
     "output_type": "execute_result"
    }
   ],
   "source": [
    "# Reading an excel file\n",
    "df_excel = pd.read_excel('excel_example.xlsx')\n",
    "df_excel"
   ]
  },
  {
   "cell_type": "code",
   "execution_count": 17,
   "metadata": {},
   "outputs": [
    {
     "data": {
      "text/html": [
       "<div>\n",
       "<style scoped>\n",
       "    .dataframe tbody tr th:only-of-type {\n",
       "        vertical-align: middle;\n",
       "    }\n",
       "\n",
       "    .dataframe tbody tr th {\n",
       "        vertical-align: top;\n",
       "    }\n",
       "\n",
       "    .dataframe thead th {\n",
       "        text-align: right;\n",
       "    }\n",
       "</style>\n",
       "<table border=\"1\" class=\"dataframe\">\n",
       "  <thead>\n",
       "    <tr style=\"text-align: right;\">\n",
       "      <th></th>\n",
       "      <th>algorithm</th>\n",
       "      <th>learning</th>\n",
       "      <th>type</th>\n",
       "    </tr>\n",
       "  </thead>\n",
       "  <tbody>\n",
       "    <tr>\n",
       "      <th>0</th>\n",
       "      <td>Linear Regression</td>\n",
       "      <td>Supervised</td>\n",
       "      <td>Regression</td>\n",
       "    </tr>\n",
       "    <tr>\n",
       "      <th>1</th>\n",
       "      <td>Logistic Regression</td>\n",
       "      <td>Supervised</td>\n",
       "      <td>Classification</td>\n",
       "    </tr>\n",
       "    <tr>\n",
       "      <th>2</th>\n",
       "      <td>RandomForest</td>\n",
       "      <td>Supervised</td>\n",
       "      <td>Regression or Classification</td>\n",
       "    </tr>\n",
       "    <tr>\n",
       "      <th>3</th>\n",
       "      <td>k-means</td>\n",
       "      <td>Unsupervised</td>\n",
       "      <td>Clustering</td>\n",
       "    </tr>\n",
       "  </tbody>\n",
       "</table>\n",
       "</div>"
      ],
      "text/plain": [
       "             algorithm      learning                          type\n",
       "0    Linear Regression    Supervised                    Regression\n",
       "1  Logistic Regression    Supervised                Classification\n",
       "2         RandomForest    Supervised  Regression or Classification\n",
       "3              k-means  Unsupervised                    Clustering"
      ]
     },
     "execution_count": 17,
     "metadata": {},
     "output_type": "execute_result"
    }
   ],
   "source": [
    "# Reading a json file\n",
    "df_json = pd.read_json('json_example.json')\n",
    "df_json"
   ]
  },
  {
   "cell_type": "markdown",
   "metadata": {},
   "source": [
    "### Exercise 1.02: Loading Data of Different Formats into a pandas DataFrame"
   ]
  },
  {
   "cell_type": "code",
   "execution_count": 19,
   "metadata": {},
   "outputs": [
    {
     "name": "stdout",
     "output_type": "stream",
     "text": [
      "�Overall First Home Owner Grant Statistics,,,\r",
      "\r\n",
      "Number,Postcode,Suburbs,Number of Applications\r",
      "\r\n",
      "1,3029,\"Hoppers Crossing, Tarneit\",1069\r",
      "\r\n"
     ]
    }
   ],
   "source": [
    "!head -3 overall_topten_2012-2013.csv"
   ]
  },
  {
   "cell_type": "code",
   "execution_count": 24,
   "metadata": {},
   "outputs": [
    {
     "data": {
      "text/html": [
       "<div>\n",
       "<style scoped>\n",
       "    .dataframe tbody tr th:only-of-type {\n",
       "        vertical-align: middle;\n",
       "    }\n",
       "\n",
       "    .dataframe tbody tr th {\n",
       "        vertical-align: top;\n",
       "    }\n",
       "\n",
       "    .dataframe thead th {\n",
       "        text-align: right;\n",
       "    }\n",
       "</style>\n",
       "<table border=\"1\" class=\"dataframe\">\n",
       "  <thead>\n",
       "    <tr style=\"text-align: right;\">\n",
       "      <th></th>\n",
       "      <th>Number</th>\n",
       "      <th>Postcode</th>\n",
       "      <th>Suburbs</th>\n",
       "      <th>Number of Applications</th>\n",
       "    </tr>\n",
       "  </thead>\n",
       "  <tbody>\n",
       "    <tr>\n",
       "      <th>0</th>\n",
       "      <td>1</td>\n",
       "      <td>3029</td>\n",
       "      <td>Hoppers Crossing, Tarneit</td>\n",
       "      <td>1069</td>\n",
       "    </tr>\n",
       "    <tr>\n",
       "      <th>1</th>\n",
       "      <td>2</td>\n",
       "      <td>3977</td>\n",
       "      <td>Cranbourne, Devon Meadows, Skye</td>\n",
       "      <td>1037</td>\n",
       "    </tr>\n",
       "    <tr>\n",
       "      <th>2</th>\n",
       "      <td>3</td>\n",
       "      <td>3064</td>\n",
       "      <td>Craigieburn, Donnybrook, Roxburgh Park, Mickleham</td>\n",
       "      <td>821</td>\n",
       "    </tr>\n",
       "    <tr>\n",
       "      <th>3</th>\n",
       "      <td>4</td>\n",
       "      <td>3030</td>\n",
       "      <td>Point Cook, Werribee, Derrimut</td>\n",
       "      <td>816</td>\n",
       "    </tr>\n",
       "    <tr>\n",
       "      <th>4</th>\n",
       "      <td>5</td>\n",
       "      <td>3754</td>\n",
       "      <td>Doreen, Mernda</td>\n",
       "      <td>530</td>\n",
       "    </tr>\n",
       "    <tr>\n",
       "      <th>5</th>\n",
       "      <td>6</td>\n",
       "      <td>3810</td>\n",
       "      <td>Pakenham, Rythdale</td>\n",
       "      <td>479</td>\n",
       "    </tr>\n",
       "    <tr>\n",
       "      <th>6</th>\n",
       "      <td>7</td>\n",
       "      <td>3350</td>\n",
       "      <td>Alfredton, Ballarat, Canadian, Invermay Park, ...</td>\n",
       "      <td>383</td>\n",
       "    </tr>\n",
       "    <tr>\n",
       "      <th>7</th>\n",
       "      <td>8</td>\n",
       "      <td>3216</td>\n",
       "      <td>Belmont, Grovedale, Highton, Marshall, Waurn P...</td>\n",
       "      <td>351</td>\n",
       "    </tr>\n",
       "    <tr>\n",
       "      <th>8</th>\n",
       "      <td>9</td>\n",
       "      <td>3136</td>\n",
       "      <td>Croydon, Croydon Hills, Croydon North, Croydon...</td>\n",
       "      <td>344</td>\n",
       "    </tr>\n",
       "    <tr>\n",
       "      <th>9</th>\n",
       "      <td>10</td>\n",
       "      <td>3805</td>\n",
       "      <td>Fountain Gate, Narre Warren, Narre Warren South</td>\n",
       "      <td>335</td>\n",
       "    </tr>\n",
       "  </tbody>\n",
       "</table>\n",
       "</div>"
      ],
      "text/plain": [
       "   Number  Postcode                                            Suburbs  \\\n",
       "0       1      3029                          Hoppers Crossing, Tarneit   \n",
       "1       2      3977                    Cranbourne, Devon Meadows, Skye   \n",
       "2       3      3064  Craigieburn, Donnybrook, Roxburgh Park, Mickleham   \n",
       "3       4      3030                     Point Cook, Werribee, Derrimut   \n",
       "4       5      3754                                     Doreen, Mernda   \n",
       "5       6      3810                                 Pakenham, Rythdale   \n",
       "6       7      3350  Alfredton, Ballarat, Canadian, Invermay Park, ...   \n",
       "7       8      3216  Belmont, Grovedale, Highton, Marshall, Waurn P...   \n",
       "8       9      3136  Croydon, Croydon Hills, Croydon North, Croydon...   \n",
       "9      10      3805    Fountain Gate, Narre Warren, Narre Warren South   \n",
       "\n",
       "   Number of Applications  \n",
       "0                    1069  \n",
       "1                    1037  \n",
       "2                     821  \n",
       "3                     816  \n",
       "4                     530  \n",
       "5                     479  \n",
       "6                     383  \n",
       "7                     351  \n",
       "8                     344  \n",
       "9                     335  "
      ]
     },
     "execution_count": 24,
     "metadata": {},
     "output_type": "execute_result"
    }
   ],
   "source": [
    "csv_url = pd.read_csv('overall_topten_2012-2013.csv', skiprows=1)\n",
    "csv_url"
   ]
  },
  {
   "cell_type": "code",
   "execution_count": 21,
   "metadata": {},
   "outputs": [
    {
     "name": "stdout",
     "output_type": "stream",
     "text": [
      " Overall First Home Owner Grant Statistics\t\t\t\r",
      "\r\n",
      "Number\tPostcode\tSuburbs\tNumber of Applications\r",
      "\r\n",
      "1\t3029\tHoppers Crossing, Tarneit\t1069\r",
      "\r\n",
      "2\t3977\tCranbourne, Devon Meadows, Skye\t1037\r",
      "\r\n"
     ]
    }
   ],
   "source": [
    "# Loading a tsv file\n",
    "!head -4 overall_topten_2012-2013.tsv"
   ]
  },
  {
   "cell_type": "code",
   "execution_count": 27,
   "metadata": {},
   "outputs": [
    {
     "data": {
      "text/html": [
       "<div>\n",
       "<style scoped>\n",
       "    .dataframe tbody tr th:only-of-type {\n",
       "        vertical-align: middle;\n",
       "    }\n",
       "\n",
       "    .dataframe tbody tr th {\n",
       "        vertical-align: top;\n",
       "    }\n",
       "\n",
       "    .dataframe thead th {\n",
       "        text-align: right;\n",
       "    }\n",
       "</style>\n",
       "<table border=\"1\" class=\"dataframe\">\n",
       "  <thead>\n",
       "    <tr style=\"text-align: right;\">\n",
       "      <th></th>\n",
       "      <th>Number</th>\n",
       "      <th>Postcode</th>\n",
       "      <th>Suburbs</th>\n",
       "      <th>Number of Applications</th>\n",
       "    </tr>\n",
       "  </thead>\n",
       "  <tbody>\n",
       "    <tr>\n",
       "      <th>0</th>\n",
       "      <td>1</td>\n",
       "      <td>3029</td>\n",
       "      <td>Hoppers Crossing, Tarneit</td>\n",
       "      <td>1069</td>\n",
       "    </tr>\n",
       "    <tr>\n",
       "      <th>1</th>\n",
       "      <td>2</td>\n",
       "      <td>3977</td>\n",
       "      <td>Cranbourne, Devon Meadows, Skye</td>\n",
       "      <td>1037</td>\n",
       "    </tr>\n",
       "    <tr>\n",
       "      <th>2</th>\n",
       "      <td>3</td>\n",
       "      <td>3064</td>\n",
       "      <td>Craigieburn, Donnybrook, Roxburgh Park, Mickleham</td>\n",
       "      <td>821</td>\n",
       "    </tr>\n",
       "    <tr>\n",
       "      <th>3</th>\n",
       "      <td>4</td>\n",
       "      <td>3030</td>\n",
       "      <td>Point Cook, Werribee, Derrimut</td>\n",
       "      <td>816</td>\n",
       "    </tr>\n",
       "    <tr>\n",
       "      <th>4</th>\n",
       "      <td>5</td>\n",
       "      <td>3754</td>\n",
       "      <td>Doreen, Mernda</td>\n",
       "      <td>530</td>\n",
       "    </tr>\n",
       "    <tr>\n",
       "      <th>5</th>\n",
       "      <td>6</td>\n",
       "      <td>3810</td>\n",
       "      <td>Pakenham, Rythdale</td>\n",
       "      <td>479</td>\n",
       "    </tr>\n",
       "    <tr>\n",
       "      <th>6</th>\n",
       "      <td>7</td>\n",
       "      <td>3350</td>\n",
       "      <td>Alfredton, Ballarat, Canadian, Invermay Park, ...</td>\n",
       "      <td>383</td>\n",
       "    </tr>\n",
       "    <tr>\n",
       "      <th>7</th>\n",
       "      <td>8</td>\n",
       "      <td>3216</td>\n",
       "      <td>Belmont, Grovedale, Highton, Marshall, Waurn P...</td>\n",
       "      <td>351</td>\n",
       "    </tr>\n",
       "    <tr>\n",
       "      <th>8</th>\n",
       "      <td>9</td>\n",
       "      <td>3136</td>\n",
       "      <td>Croydon, Croydon Hills, Croydon North, Croydon...</td>\n",
       "      <td>344</td>\n",
       "    </tr>\n",
       "    <tr>\n",
       "      <th>9</th>\n",
       "      <td>10</td>\n",
       "      <td>3805</td>\n",
       "      <td>Fountain Gate, Narre Warren, Narre Warren South</td>\n",
       "      <td>335</td>\n",
       "    </tr>\n",
       "  </tbody>\n",
       "</table>\n",
       "</div>"
      ],
      "text/plain": [
       "   Number  Postcode                                            Suburbs  \\\n",
       "0       1      3029                          Hoppers Crossing, Tarneit   \n",
       "1       2      3977                    Cranbourne, Devon Meadows, Skye   \n",
       "2       3      3064  Craigieburn, Donnybrook, Roxburgh Park, Mickleham   \n",
       "3       4      3030                     Point Cook, Werribee, Derrimut   \n",
       "4       5      3754                                     Doreen, Mernda   \n",
       "5       6      3810                                 Pakenham, Rythdale   \n",
       "6       7      3350  Alfredton, Ballarat, Canadian, Invermay Park, ...   \n",
       "7       8      3216  Belmont, Grovedale, Highton, Marshall, Waurn P...   \n",
       "8       9      3136  Croydon, Croydon Hills, Croydon North, Croydon...   \n",
       "9      10      3805    Fountain Gate, Narre Warren, Narre Warren South   \n",
       "\n",
       "   Number of Applications  \n",
       "0                    1069  \n",
       "1                    1037  \n",
       "2                     821  \n",
       "3                     816  \n",
       "4                     530  \n",
       "5                     479  \n",
       "6                     383  \n",
       "7                     351  \n",
       "8                     344  \n",
       "9                     335  "
      ]
     },
     "execution_count": 27,
     "metadata": {},
     "output_type": "execute_result"
    }
   ],
   "source": [
    "tsv_df = pd.read_csv('overall_topten_2012-2013.tsv', skiprows=1, sep='\\t')\n",
    "tsv_df"
   ]
  },
  {
   "cell_type": "code",
   "execution_count": 28,
   "metadata": {},
   "outputs": [
    {
     "name": "stdout",
     "output_type": "stream",
     "text": [
      "PK\u0003\u0004\u0014\u0000\b\b\b\u0000��vO\u0000\u0000\u0000\u0000\u0000\u0000\u0000\u0000\u0000\u0000\u0000\u0000\u0018\u0000\u0000\u0000xl/drawings/drawing1.xml��]n�0\f",
      "\u0007�\u0013�\u000eU�iZ\u0018\u0013C\u0014^�N0\u000e�%n\u001b���\u000e��~�J6i{\u0001\u001e",
      "m�?���nt��Db\u0013|#�\u0012\u0005z\u0015��]#\u000e�o��(8��`��F\\��n��\u00195�ϼ�\"�{^��\u0011}��ZJV=:�2\f",
      "�Ӵ\r",
      "� ��:�\t�IvVΫ�E�@\b�{ĸ�&���\u0003�\u0003���Mׄ�5\r\n",
      "�A�\u001c",
      "�8!�\u0016b�\u0005�f଩\u0007�Q=P�\u0001��3�\u0002�6�*��)�HB�<\t8�\u001a���R���_��\u0014�\u0001\u001d",
      "O�,�Czȇ�&^��eFwh\u0003\u001d",
      "��ȸ8��ݱ*�6�(+l�^ޭ̳\"�_PK\u0007\b\u0007bi�\u0005\u0001\u0000\u0000\u0007\u0003\u0000\u0000PK\u0003\u0004\u0014\u0000\b\b\b\u0000��vO\u0000\u0000\u0000\u0000\u0000\u0000\u0000\u0000\u0000\u0000\u0000\u0000\u0018\u0000\u0000\u0000xl/drawings/drawing2.xml��]n�0\f",
      "\u0007�\u0013�\u000eU�iZ\u0018\u0013C\u0014^�N0\u000e�%n\u001b���\u000e��~�J6i{\u0001\u001e",
      "m�?���nt��Db\u0013|#�\u0012\u0005z\u0015��]#\u000e�o��(8��`��F\\��n��\u00195�ϼ�\"�{^��\u0011}��ZJV=:�2\f",
      "�Ӵ\r",
      "� ��:�\t�IvVΫ�E�@\b�{ĸ�&���\u0003�\u0003���Mׄ�5\r\n",
      "�A�\u001c",
      "�8!�\u0016b�\u0005�f଩\u0007�Q=P�\u0001��3�\u0002�6�*��)�HB�<\t8�\u001a���R���_��\u0014�\u0001\u001d",
      "O�,�Czȇ�&^��eFwh\u0003\u001d",
      "��ȸ8��ݱ*�6�(+l�^ޭ̳\"�_PK\u0007\b\u0007bi�\u0005\u0001\u0000\u0000\u0007\u0003\u0000\u0000PK\u0003\u0004\u0014\u0000\b\b\b\u0000��vO\u0000\u0000\u0000\u0000\u0000\u0000\u0000\u0000\u0000\u0000\u0000\u0000\u0018\u0000\u0000\u0000xl/worksheets/sheet1.xml���n�0\f",
      "��`�`�\u001e",
      "+ޒ�5l\u0017ۊb�\u0015�ڝU���H�!�?y��Nb4����\u0000E��>HTv?\u0018\u001d",
      "u�B��$^�\b��R�]�^�<�nY䃰��h!g\u0007��������\u0006\b\u0011\u0001��Y\u001d",
      "B�r�e\r",
      "F�\u0018\u001b���BgD���q�8\u0010��d4��^�F(ˎ��-a`U)\t\u000f([\u00036\u001c",
      "!\u000e�\b��k��3�\f",
      "W8��C�U�%�\u0013�\f",
      "$�A�$t{!d�\u0012##ܾmV�l��]i\u0015\u000e�׌�r�:��\u0018�Yc�Ii��3�\\<$�e�W�y��.�d��d͓�\u001f�F\\��r-!g�Y��o�4\"E6!�]�a\u001b����\"�\u001a:��O���\u0006��xQ�:�\t^d|7\u0005��\u0014G�\u0018�#���Sy����q�p�S�>��\r",
      "�-\u0012\u0016�P�V�_���2Ԕ�ěos�\u0005��x\u001b�lG�D|\u0010A\u0014��>r#���\u0018� �����)�\u0015یw�$��ܱ�t���\u001a�T��{*�I~��\u0007PK\u0007\b��v��\u0001\u0000\u0000�\u0003\u0000\u0000PK\u0003\u0004\u0014\u0000\b\b\b\u0000��vO\u0000\u0000\u0000\u0000\u0000\u0000\u0000\u0000\u0000\u0000\u0000\u0000#\u0000\u0000\u0000xl/worksheets/_rels/sheet1.xml.rels��K\r\n",
      "�0\u0010\u0006�\u0013x�0{�օ�4�F�n�\u001e",
      "`H�\u000fl\u001e",
      "$��ۛ�������|�_5\u000f3�\u001b�89+��\u00050����\u000e\u0012��q�\u0003\u0016\u0013Z���$a�\bM��N4c�7q�|d\u0019�Q��\u000b",
      "\u0011�H\u0006#w�lNz\u0017\f",
      "�<�AxT\u0017\u001c",
      "Hl�b+§\u0001���Z-!��\u0004�-���]�O�\u000eN]\r",
      "����\u0001�X&1\f",
      "�$p�ڽÒg\u0016D]����\u0013PK\u0007\b���M�\u0000\u0000\u0000*\u0001\u0000\u0000PK\u0003\u0004\u0014\u0000\b\b\b\u0000��vO\u0000\u0000\u0000\u0000\u0000\u0000\u0000\u0000\u0000\u0000\u0000\u0000\u0018\u0000\u0000\u0000xl/worksheets/sheet2.xml���n�0\u0010��`�\u0001q߀1ǈPm\u0012Uۻj��k\u0017�\u0006\u0015��6I����Ե�\"E{\u0011�x���mƔ�g�yG*d����\u0016��Ѿ�Mۿ��߿\u001e",
      "�rߓ��\r",
      "�xOW�\u001b��}��<q�*��*O\u001b�r��:,�@�{ʈ\\�\u0003�ud�\u0005#J?��@\u001e",
      "\u0004%�(b]\u0010�a\u001a0�����R���w���[^\u000f����DЎ(�/��A~��3�cm-��;��9�:i�:�皎@�\u0003��[�\u0018\u0011���N[\u001e",
      "4�s۵�m�26Ǖ?�~y��3\u0018\u0017�R�_\u001e",
      "Y��|F�m�`1��p��(�?'\u0014\u0006\bM�b\u0002��v,R\u001b'v��ّ�\u0011����IT%\u001fT���Ixr`z��ִ㧕�\u000f�u�g��W���*\u0003�\u001b\u0007Zz��ػ\u001c",
      "�g�_/\u000f��#�s\u001f�\r",
      "�5�A*�~��\u0012��\u001a�#C�6���6j���E���O~2��\"K.���(R���<q���2��\u001d",
      "��\u0005R�\u001e",
      "��\f",
      "�\u001a��?�m$��D@��d�XÌ����\f",
      "�flaF�5\u00186`�*\u0019�\u0016�\u0004ʎ�0*�\t\u001b\f",
      "*�\u0013&�@��\u0016\u000eRl�bK\u0011\u0001$;��,\u0003H1@�&H����9�� %vQ��D�4\u0006H\t@�'H�E\u001e",
      "�9��\u0010��\u0000\u0014\\�\u000e\u0011\u000e\u0001Q\r\n"
     ]
    }
   ],
   "source": [
    "# Loading xlsx file\n",
    "!head -4 overall_topten_2012-2013.xlsx"
   ]
  },
  {
   "cell_type": "code",
   "execution_count": 30,
   "metadata": {},
   "outputs": [
    {
     "data": {
      "text/html": [
       "<div>\n",
       "<style scoped>\n",
       "    .dataframe tbody tr th:only-of-type {\n",
       "        vertical-align: middle;\n",
       "    }\n",
       "\n",
       "    .dataframe tbody tr th {\n",
       "        vertical-align: top;\n",
       "    }\n",
       "\n",
       "    .dataframe thead th {\n",
       "        text-align: right;\n",
       "    }\n",
       "</style>\n",
       "<table border=\"1\" class=\"dataframe\">\n",
       "  <thead>\n",
       "    <tr style=\"text-align: right;\">\n",
       "      <th></th>\n",
       "      <th>Number</th>\n",
       "      <th>Postcode</th>\n",
       "      <th>Suburbs</th>\n",
       "      <th>Number of Applications</th>\n",
       "    </tr>\n",
       "  </thead>\n",
       "  <tbody>\n",
       "    <tr>\n",
       "      <th>0</th>\n",
       "      <td>1</td>\n",
       "      <td>3029</td>\n",
       "      <td>Hoppers Crossing, Tarneit</td>\n",
       "      <td>1069</td>\n",
       "    </tr>\n",
       "    <tr>\n",
       "      <th>1</th>\n",
       "      <td>2</td>\n",
       "      <td>3977</td>\n",
       "      <td>Cranbourne, Devon Meadows, Skye</td>\n",
       "      <td>1037</td>\n",
       "    </tr>\n",
       "    <tr>\n",
       "      <th>2</th>\n",
       "      <td>3</td>\n",
       "      <td>3064</td>\n",
       "      <td>Craigieburn, Donnybrook, Roxburgh Park, Mickleham</td>\n",
       "      <td>821</td>\n",
       "    </tr>\n",
       "    <tr>\n",
       "      <th>3</th>\n",
       "      <td>4</td>\n",
       "      <td>3030</td>\n",
       "      <td>Point Cook, Werribee, Derrimut</td>\n",
       "      <td>816</td>\n",
       "    </tr>\n",
       "    <tr>\n",
       "      <th>4</th>\n",
       "      <td>5</td>\n",
       "      <td>3754</td>\n",
       "      <td>Doreen, Mernda</td>\n",
       "      <td>530</td>\n",
       "    </tr>\n",
       "    <tr>\n",
       "      <th>5</th>\n",
       "      <td>6</td>\n",
       "      <td>3810</td>\n",
       "      <td>Pakenham, Rythdale</td>\n",
       "      <td>479</td>\n",
       "    </tr>\n",
       "    <tr>\n",
       "      <th>6</th>\n",
       "      <td>7</td>\n",
       "      <td>3350</td>\n",
       "      <td>Alfredton, Ballarat, Canadian, Invermay Park, ...</td>\n",
       "      <td>383</td>\n",
       "    </tr>\n",
       "    <tr>\n",
       "      <th>7</th>\n",
       "      <td>8</td>\n",
       "      <td>3216</td>\n",
       "      <td>Belmont, Grovedale, Highton, Marshall, Waurn P...</td>\n",
       "      <td>351</td>\n",
       "    </tr>\n",
       "    <tr>\n",
       "      <th>8</th>\n",
       "      <td>9</td>\n",
       "      <td>3136</td>\n",
       "      <td>Croydon, Croydon Hills, Croydon North, Croydon...</td>\n",
       "      <td>344</td>\n",
       "    </tr>\n",
       "    <tr>\n",
       "      <th>9</th>\n",
       "      <td>10</td>\n",
       "      <td>3805</td>\n",
       "      <td>Fountain Gate, Narre Warren, Narre Warren South</td>\n",
       "      <td>335</td>\n",
       "    </tr>\n",
       "  </tbody>\n",
       "</table>\n",
       "</div>"
      ],
      "text/plain": [
       "   Number  Postcode                                            Suburbs  \\\n",
       "0       1      3029                          Hoppers Crossing, Tarneit   \n",
       "1       2      3977                    Cranbourne, Devon Meadows, Skye   \n",
       "2       3      3064  Craigieburn, Donnybrook, Roxburgh Park, Mickleham   \n",
       "3       4      3030                     Point Cook, Werribee, Derrimut   \n",
       "4       5      3754                                     Doreen, Mernda   \n",
       "5       6      3810                                 Pakenham, Rythdale   \n",
       "6       7      3350  Alfredton, Ballarat, Canadian, Invermay Park, ...   \n",
       "7       8      3216  Belmont, Grovedale, Highton, Marshall, Waurn P...   \n",
       "8       9      3136  Croydon, Croydon Hills, Croydon North, Croydon...   \n",
       "9      10      3805    Fountain Gate, Narre Warren, Narre Warren South   \n",
       "\n",
       "   Number of Applications  \n",
       "0                    1069  \n",
       "1                    1037  \n",
       "2                     821  \n",
       "3                     816  \n",
       "4                     530  \n",
       "5                     479  \n",
       "6                     383  \n",
       "7                     351  \n",
       "8                     344  \n",
       "9                     335  "
      ]
     },
     "execution_count": 30,
     "metadata": {},
     "output_type": "execute_result"
    }
   ],
   "source": [
    "xlsx_df = pd.read_excel('overall_topten_2012-2013.xlsx', skiprows=1, sheet_name=1)\n",
    "xlsx_df"
   ]
  },
  {
   "cell_type": "markdown",
   "metadata": {},
   "source": [
    "### Scikit-Learn"
   ]
  },
  {
   "cell_type": "code",
   "execution_count": 1,
   "metadata": {},
   "outputs": [],
   "source": [
    "# Import random classifier from sklearn\n",
    "from sklearn.ensemble import RandomForestClassifier"
   ]
  },
  {
   "cell_type": "code",
   "execution_count": 2,
   "metadata": {},
   "outputs": [],
   "source": [
    "rf_model = RandomForestClassifier(random_state=1)"
   ]
  },
  {
   "cell_type": "code",
   "execution_count": 3,
   "metadata": {},
   "outputs": [],
   "source": [
    "from sklearn.datasets import load_wine\n",
    "features, target = load_wine(return_X_y=True)"
   ]
  },
  {
   "cell_type": "code",
   "execution_count": 4,
   "metadata": {},
   "outputs": [
    {
     "data": {
      "text/plain": [
       "RandomForestClassifier(bootstrap=True, ccp_alpha=0.0, class_weight=None,\n",
       "                       criterion='gini', max_depth=None, max_features='auto',\n",
       "                       max_leaf_nodes=None, max_samples=None,\n",
       "                       min_impurity_decrease=0.0, min_impurity_split=None,\n",
       "                       min_samples_leaf=1, min_samples_split=2,\n",
       "                       min_weight_fraction_leaf=0.0, n_estimators=100,\n",
       "                       n_jobs=None, oob_score=False, random_state=1, verbose=0,\n",
       "                       warm_start=False)"
      ]
     },
     "execution_count": 4,
     "metadata": {},
     "output_type": "execute_result"
    }
   ],
   "source": [
    "rf_model.fit(features, target)"
   ]
  },
  {
   "cell_type": "code",
   "execution_count": 5,
   "metadata": {},
   "outputs": [
    {
     "data": {
      "text/plain": [
       "array([0, 0, 0, 0, 0, 0, 0, 0, 0, 0, 0, 0, 0, 0, 0, 0, 0, 0, 0, 0, 0, 0,\n",
       "       0, 0, 0, 0, 0, 0, 0, 0, 0, 0, 0, 0, 0, 0, 0, 0, 0, 0, 0, 0, 0, 0,\n",
       "       0, 0, 0, 0, 0, 0, 0, 0, 0, 0, 0, 0, 0, 0, 0, 1, 1, 1, 1, 1, 1, 1,\n",
       "       1, 1, 1, 1, 1, 1, 1, 1, 1, 1, 1, 1, 1, 1, 1, 1, 1, 1, 1, 1, 1, 1,\n",
       "       1, 1, 1, 1, 1, 1, 1, 1, 1, 1, 1, 1, 1, 1, 1, 1, 1, 1, 1, 1, 1, 1,\n",
       "       1, 1, 1, 1, 1, 1, 1, 1, 1, 1, 1, 1, 1, 1, 1, 1, 1, 1, 1, 1, 2, 2,\n",
       "       2, 2, 2, 2, 2, 2, 2, 2, 2, 2, 2, 2, 2, 2, 2, 2, 2, 2, 2, 2, 2, 2,\n",
       "       2, 2, 2, 2, 2, 2, 2, 2, 2, 2, 2, 2, 2, 2, 2, 2, 2, 2, 2, 2, 2, 2,\n",
       "       2, 2])"
      ]
     },
     "execution_count": 5,
     "metadata": {},
     "output_type": "execute_result"
    }
   ],
   "source": [
    "preds = rf_model.predict(features)\n",
    "preds"
   ]
  },
  {
   "cell_type": "code",
   "execution_count": 6,
   "metadata": {},
   "outputs": [
    {
     "data": {
      "text/plain": [
       "1.0"
      ]
     },
     "execution_count": 6,
     "metadata": {},
     "output_type": "execute_result"
    }
   ],
   "source": [
    "from sklearn.metrics import accuracy_score\n",
    "accuracy_score(target, preds)"
   ]
  },
  {
   "cell_type": "markdown",
   "metadata": {},
   "source": [
    "### Predicting Breast Cancer from a Dataset Using sklearn"
   ]
  },
  {
   "cell_type": "code",
   "execution_count": 7,
   "metadata": {},
   "outputs": [],
   "source": [
    "# Import the load_breast_cancer function from sklearn.datasets:\n",
    "from sklearn.datasets import load_breast_cancer"
   ]
  },
  {
   "cell_type": "code",
   "execution_count": 8,
   "metadata": {},
   "outputs": [],
   "source": [
    "# Load the dataset from the load_breast_cancer function with the \n",
    "#return_X_y=True parameter to return the features and response variable only:\n",
    "features, target = load_breast_cancer(return_X_y=True)"
   ]
  },
  {
   "cell_type": "code",
   "execution_count": 9,
   "metadata": {},
   "outputs": [
    {
     "name": "stdout",
     "output_type": "stream",
     "text": [
      "[[1.799e+01 1.038e+01 1.228e+02 ... 2.654e-01 4.601e-01 1.189e-01]\n",
      " [2.057e+01 1.777e+01 1.329e+02 ... 1.860e-01 2.750e-01 8.902e-02]\n",
      " [1.969e+01 2.125e+01 1.300e+02 ... 2.430e-01 3.613e-01 8.758e-02]\n",
      " ...\n",
      " [1.660e+01 2.808e+01 1.083e+02 ... 1.418e-01 2.218e-01 7.820e-02]\n",
      " [2.060e+01 2.933e+01 1.401e+02 ... 2.650e-01 4.087e-01 1.240e-01]\n",
      " [7.760e+00 2.454e+01 4.792e+01 ... 0.000e+00 2.871e-01 7.039e-02]]\n"
     ]
    }
   ],
   "source": [
    "# Print the variable features:\n",
    "print(features)"
   ]
  },
  {
   "cell_type": "code",
   "execution_count": 10,
   "metadata": {},
   "outputs": [
    {
     "name": "stdout",
     "output_type": "stream",
     "text": [
      "[0 0 0 0 0 0 0 0 0 0 0 0 0 0 0 0 0 0 0 1 1 1 0 0 0 0 0 0 0 0 0 0 0 0 0 0 0\n",
      " 1 0 0 0 0 0 0 0 0 1 0 1 1 1 1 1 0 0 1 0 0 1 1 1 1 0 1 0 0 1 1 1 1 0 1 0 0\n",
      " 1 0 1 0 0 1 1 1 0 0 1 0 0 0 1 1 1 0 1 1 0 0 1 1 1 0 0 1 1 1 1 0 1 1 0 1 1\n",
      " 1 1 1 1 1 1 0 0 0 1 0 0 1 1 1 0 0 1 0 1 0 0 1 0 0 1 1 0 1 1 0 1 1 1 1 0 1\n",
      " 1 1 1 1 1 1 1 1 0 1 1 1 1 0 0 1 0 1 1 0 0 1 1 0 0 1 1 1 1 0 1 1 0 0 0 1 0\n",
      " 1 0 1 1 1 0 1 1 0 0 1 0 0 0 0 1 0 0 0 1 0 1 0 1 1 0 1 0 0 0 0 1 1 0 0 1 1\n",
      " 1 0 1 1 1 1 1 0 0 1 1 0 1 1 0 0 1 0 1 1 1 1 0 1 1 1 1 1 0 1 0 0 0 0 0 0 0\n",
      " 0 0 0 0 0 0 0 1 1 1 1 1 1 0 1 0 1 1 0 1 1 0 1 0 0 1 1 1 1 1 1 1 1 1 1 1 1\n",
      " 1 0 1 1 0 1 0 1 1 1 1 1 1 1 1 1 1 1 1 1 1 0 1 1 1 0 1 0 1 1 1 1 0 0 0 1 1\n",
      " 1 1 0 1 0 1 0 1 1 1 0 1 1 1 1 1 1 1 0 0 0 1 1 1 1 1 1 1 1 1 1 1 0 0 1 0 0\n",
      " 0 1 0 0 1 1 1 1 1 0 1 1 1 1 1 0 1 1 1 0 1 1 0 0 1 1 1 1 1 1 0 1 1 1 1 1 1\n",
      " 1 0 1 1 1 1 1 0 1 1 0 1 1 1 1 1 1 1 1 1 1 1 1 0 1 0 0 1 0 1 1 1 1 1 0 1 1\n",
      " 0 1 0 1 1 0 1 0 1 1 1 1 1 1 1 1 0 0 1 1 1 1 1 1 0 1 1 1 1 1 1 1 1 1 1 0 1\n",
      " 1 1 1 1 1 1 0 1 0 1 1 0 1 1 1 1 1 0 0 1 0 1 0 1 1 1 1 1 0 1 1 0 1 0 1 0 0\n",
      " 1 1 1 0 1 1 1 1 1 1 1 1 1 1 1 0 1 0 0 1 1 1 1 1 1 1 1 1 1 1 1 1 1 1 1 1 1\n",
      " 1 1 1 1 1 1 1 0 0 0 0 0 0 1]\n"
     ]
    }
   ],
   "source": [
    "# Print the target variable:\n",
    "print(target)"
   ]
  },
  {
   "cell_type": "code",
   "execution_count": 11,
   "metadata": {},
   "outputs": [],
   "source": [
    "# Import the RandomForestClassifier class from sklearn.ensemble:\n",
    "from sklearn.ensemble import RandomForestClassifier"
   ]
  },
  {
   "cell_type": "code",
   "execution_count": 12,
   "metadata": {},
   "outputs": [],
   "source": [
    "# Create a new variable called seed, which will take the value 888 (chosen arbitrarily):\n",
    "seed = 888"
   ]
  },
  {
   "cell_type": "code",
   "execution_count": 13,
   "metadata": {},
   "outputs": [],
   "source": [
    "# Instantiate RandomForestClassifier with the random_state=seed \n",
    "#parameter and save it into a variable called rf_model:\n",
    "rf_model = RandomForestClassifier(random_state=seed)"
   ]
  },
  {
   "cell_type": "code",
   "execution_count": 14,
   "metadata": {},
   "outputs": [
    {
     "data": {
      "text/plain": [
       "RandomForestClassifier(bootstrap=True, ccp_alpha=0.0, class_weight=None,\n",
       "                       criterion='gini', max_depth=None, max_features='auto',\n",
       "                       max_leaf_nodes=None, max_samples=None,\n",
       "                       min_impurity_decrease=0.0, min_impurity_split=None,\n",
       "                       min_samples_leaf=1, min_samples_split=2,\n",
       "                       min_weight_fraction_leaf=0.0, n_estimators=100,\n",
       "                       n_jobs=None, oob_score=False, random_state=888,\n",
       "                       verbose=0, warm_start=False)"
      ]
     },
     "execution_count": 14,
     "metadata": {},
     "output_type": "execute_result"
    }
   ],
   "source": [
    "# Train the model with the .fit() method with features and target as parameters:\n",
    "rf_model.fit(features, target)"
   ]
  },
  {
   "cell_type": "code",
   "execution_count": 16,
   "metadata": {},
   "outputs": [
    {
     "data": {
      "text/plain": [
       "array([0, 0, 0, 0, 0, 0, 0, 0, 0, 0, 0, 0, 0, 0, 0, 0, 0, 0, 0, 1, 1, 1,\n",
       "       0, 0, 0, 0, 0, 0, 0, 0, 0, 0, 0, 0, 0, 0, 0, 1, 0, 0, 0, 0, 0, 0,\n",
       "       0, 0, 1, 0, 1, 1, 1, 1, 1, 0, 0, 1, 0, 0, 1, 1, 1, 1, 0, 1, 0, 0,\n",
       "       1, 1, 1, 1, 0, 1, 0, 0, 1, 0, 1, 0, 0, 1, 1, 1, 0, 0, 1, 0, 0, 0,\n",
       "       1, 1, 1, 0, 1, 1, 0, 0, 1, 1, 1, 0, 0, 1, 1, 1, 1, 0, 1, 1, 0, 1,\n",
       "       1, 1, 1, 1, 1, 1, 1, 0, 0, 0, 1, 0, 0, 1, 1, 1, 0, 0, 1, 0, 1, 0,\n",
       "       0, 1, 0, 0, 1, 1, 0, 1, 1, 0, 1, 1, 1, 1, 0, 1, 1, 1, 1, 1, 1, 1,\n",
       "       1, 1, 0, 1, 1, 1, 1, 0, 0, 1, 0, 1, 1, 0, 0, 1, 1, 0, 0, 1, 1, 1,\n",
       "       1, 0, 1, 1, 0, 0, 0, 1, 0, 1, 0, 1, 1, 1, 0, 1, 1, 0, 0, 1, 0, 0,\n",
       "       0, 0, 1, 0, 0, 0, 1, 0, 1, 0, 1, 1, 0, 1, 0, 0, 0, 0, 1, 1, 0, 0,\n",
       "       1, 1, 1, 0, 1, 1, 1, 1, 1, 0, 0, 1, 1, 0, 1, 1, 0, 0, 1, 0, 1, 1,\n",
       "       1, 1, 0, 1, 1, 1, 1, 1, 0, 1, 0, 0, 0, 0, 0, 0, 0, 0, 0, 0, 0, 0,\n",
       "       0, 0, 1, 1, 1, 1, 1, 1, 0, 1, 0, 1, 1, 0, 1, 1, 0, 1, 0, 0, 1, 1,\n",
       "       1, 1, 1, 1, 1, 1, 1, 1, 1, 1, 1, 0, 1, 1, 0, 1, 0, 1, 1, 1, 1, 1,\n",
       "       1, 1, 1, 1, 1, 1, 1, 1, 1, 0, 1, 1, 1, 0, 1, 0, 1, 1, 1, 1, 0, 0,\n",
       "       0, 1, 1, 1, 1, 0, 1, 0, 1, 0, 1, 1, 1, 0, 1, 1, 1, 1, 1, 1, 1, 0,\n",
       "       0, 0, 1, 1, 1, 1, 1, 1, 1, 1, 1, 1, 1, 0, 0, 1, 0, 0, 0, 1, 0, 0,\n",
       "       1, 1, 1, 1, 1, 0, 1, 1, 1, 1, 1, 0, 1, 1, 1, 0, 1, 1, 0, 0, 1, 1,\n",
       "       1, 1, 1, 1, 0, 1, 1, 1, 1, 1, 1, 1, 0, 1, 1, 1, 1, 1, 0, 1, 1, 0,\n",
       "       1, 1, 1, 1, 1, 1, 1, 1, 1, 1, 1, 1, 0, 1, 0, 0, 1, 0, 1, 1, 1, 1,\n",
       "       1, 0, 1, 1, 0, 1, 0, 1, 1, 0, 1, 0, 1, 1, 1, 1, 1, 1, 1, 1, 0, 0,\n",
       "       1, 1, 1, 1, 1, 1, 0, 1, 1, 1, 1, 1, 1, 1, 1, 1, 1, 0, 1, 1, 1, 1,\n",
       "       1, 1, 1, 0, 1, 0, 1, 1, 0, 1, 1, 1, 1, 1, 0, 0, 1, 0, 1, 0, 1, 1,\n",
       "       1, 1, 1, 0, 1, 1, 0, 1, 0, 1, 0, 0, 1, 1, 1, 0, 1, 1, 1, 1, 1, 1,\n",
       "       1, 1, 1, 1, 1, 0, 1, 0, 0, 1, 1, 1, 1, 1, 1, 1, 1, 1, 1, 1, 1, 1,\n",
       "       1, 1, 1, 1, 1, 1, 1, 1, 1, 1, 1, 1, 0, 0, 0, 0, 0, 0, 1])"
      ]
     },
     "execution_count": 16,
     "metadata": {},
     "output_type": "execute_result"
    }
   ],
   "source": [
    "# Make predictions with the trained model using the .predict() method and \n",
    "#features as a parameter and save the results into a variable called preds:\n",
    "preds = rf_model.predict(features)\n",
    "preds"
   ]
  },
  {
   "cell_type": "code",
   "execution_count": 17,
   "metadata": {},
   "outputs": [],
   "source": [
    "# import the accuracy_score method from sklearn.metrics:\n",
    "from sklearn.metrics import accuracy_score"
   ]
  },
  {
   "cell_type": "code",
   "execution_count": 18,
   "metadata": {},
   "outputs": [
    {
     "data": {
      "text/plain": [
       "1.0"
      ]
     },
     "execution_count": 18,
     "metadata": {},
     "output_type": "execute_result"
    }
   ],
   "source": [
    "# Calculate accuracy_score() with target and preds as parameters:\n",
    "accuracy_score(target, preds)"
   ]
  },
  {
   "cell_type": "markdown",
   "metadata": {},
   "source": [
    "### Train a Spam Detector Algorithm"
   ]
  },
  {
   "cell_type": "code",
   "execution_count": 19,
   "metadata": {},
   "outputs": [],
   "source": [
    "import pandas as pd\n",
    "import numpy as np\n",
    "from sklearn.ensemble import RandomForestClassifier"
   ]
  },
  {
   "cell_type": "code",
   "execution_count": 20,
   "metadata": {},
   "outputs": [
    {
     "name": "stdout",
     "output_type": "stream",
     "text": [
      "=                              json_example.json\r\n",
      "\u001b[31mAB_NYC_2019.csv\u001b[m\u001b[m                overall_topten_2012-2013.csv\r\n",
      "Data Science Workshop.ipynb    overall_topten_2012-2013.tsv\r\n",
      "\u001b[34mPython 3.7\u001b[m\u001b[m                     overall_topten_2012-2013.xlsx\r\n",
      "csv_example.csv                tas_1991_2016_AUS.csv\r\n",
      "dataset_44_spambase.csv        tas_1991_2016_AUS_Activity.csv\r\n",
      "excel_example.xlsx\r\n"
     ]
    }
   ],
   "source": [
    "!ls"
   ]
  },
  {
   "cell_type": "code",
   "execution_count": 21,
   "metadata": {},
   "outputs": [
    {
     "name": "stdout",
     "output_type": "stream",
     "text": [
      "\"word_freq_make\",\"word_freq_address\",\"word_freq_all\",\"word_freq_3d\",\"word_freq_our\",\"word_freq_over\",\"word_freq_remove\",\"word_freq_internet\",\"word_freq_order\",\"word_freq_mail\",\"word_freq_receive\",\"word_freq_will\",\"word_freq_people\",\"word_freq_report\",\"word_freq_addresses\",\"word_freq_free\",\"word_freq_business\",\"word_freq_email\",\"word_freq_you\",\"word_freq_credit\",\"word_freq_your\",\"word_freq_font\",\"word_freq_000\",\"word_freq_money\",\"word_freq_hp\",\"word_freq_hpl\",\"word_freq_george\",\"word_freq_650\",\"word_freq_lab\",\"word_freq_labs\",\"word_freq_telnet\",\"word_freq_857\",\"word_freq_data\",\"word_freq_415\",\"word_freq_85\",\"word_freq_technology\",\"word_freq_1999\",\"word_freq_parts\",\"word_freq_pm\",\"word_freq_direct\",\"word_freq_cs\",\"word_freq_meeting\",\"word_freq_original\",\"word_freq_project\",\"word_freq_re\",\"word_freq_edu\",\"word_freq_table\",\"word_freq_conference\",\"char_freq_%3B\",\"char_freq_%28\",\"char_freq_%5B\",\"char_freq_%21\",\"char_freq_%24\",\"char_freq_%23\",\"capital_run_length_average\",\"capital_run_length_longest\",\"capital_run_length_total\",\"class\"\r\n",
      "0,0.64,0.64,0,0.32,0,0,0,0,0,0,0.64,0,0,0,0.32,0,1.29,1.93,0,0.96,0,0,0,0,0,0,0,0,0,0,0,0,0,0,0,0,0,0,0,0,0,0,0,0,0,0,0,0,0,0,0.778,0,0,3.756,61,278,1\r\n",
      "0.21,0.28,0.5,0,0.14,0.28,0.21,0.07,0,0.94,0.21,0.79,0.65,0.21,0.14,0.14,0.07,0.28,3.47,0,1.59,0,0.43,0.43,0,0,0,0,0,0,0,0,0,0,0,0,0.07,0,0,0,0,0,0,0,0,0,0,0,0,0.132,0,0.372,0.18,0.048,5.114,101,1028,1\r\n",
      "0.06,0,0.71,0,1.23,0.19,0.19,0.12,0.64,0.25,0.38,0.45,0.12,0,1.75,0.06,0.06,1.03,1.36,0.32,0.51,0,1.16,0.06,0,0,0,0,0,0,0,0,0,0,0,0,0,0,0,0.06,0,0,0.12,0,0.06,0.06,0,0,0.01,0.143,0,0.276,0.184,0.01,9.821,485,2259,1\r\n"
     ]
    }
   ],
   "source": [
    "!head -4 dataset_44_spambase.csv"
   ]
  },
  {
   "cell_type": "code",
   "execution_count": 24,
   "metadata": {},
   "outputs": [
    {
     "data": {
      "text/html": [
       "<div>\n",
       "<style scoped>\n",
       "    .dataframe tbody tr th:only-of-type {\n",
       "        vertical-align: middle;\n",
       "    }\n",
       "\n",
       "    .dataframe tbody tr th {\n",
       "        vertical-align: top;\n",
       "    }\n",
       "\n",
       "    .dataframe thead th {\n",
       "        text-align: right;\n",
       "    }\n",
       "</style>\n",
       "<table border=\"1\" class=\"dataframe\">\n",
       "  <thead>\n",
       "    <tr style=\"text-align: right;\">\n",
       "      <th></th>\n",
       "      <th>word_freq_make</th>\n",
       "      <th>word_freq_address</th>\n",
       "      <th>word_freq_all</th>\n",
       "      <th>word_freq_3d</th>\n",
       "      <th>word_freq_our</th>\n",
       "      <th>word_freq_over</th>\n",
       "      <th>word_freq_remove</th>\n",
       "      <th>word_freq_internet</th>\n",
       "      <th>word_freq_order</th>\n",
       "      <th>word_freq_mail</th>\n",
       "      <th>...</th>\n",
       "      <th>char_freq_%3B</th>\n",
       "      <th>char_freq_%28</th>\n",
       "      <th>char_freq_%5B</th>\n",
       "      <th>char_freq_%21</th>\n",
       "      <th>char_freq_%24</th>\n",
       "      <th>char_freq_%23</th>\n",
       "      <th>capital_run_length_average</th>\n",
       "      <th>capital_run_length_longest</th>\n",
       "      <th>capital_run_length_total</th>\n",
       "      <th>class</th>\n",
       "    </tr>\n",
       "  </thead>\n",
       "  <tbody>\n",
       "    <tr>\n",
       "      <th>0</th>\n",
       "      <td>0.00</td>\n",
       "      <td>0.64</td>\n",
       "      <td>0.64</td>\n",
       "      <td>0.0</td>\n",
       "      <td>0.32</td>\n",
       "      <td>0.00</td>\n",
       "      <td>0.00</td>\n",
       "      <td>0.00</td>\n",
       "      <td>0.00</td>\n",
       "      <td>0.00</td>\n",
       "      <td>...</td>\n",
       "      <td>0.00</td>\n",
       "      <td>0.000</td>\n",
       "      <td>0.0</td>\n",
       "      <td>0.778</td>\n",
       "      <td>0.000</td>\n",
       "      <td>0.000</td>\n",
       "      <td>3.756</td>\n",
       "      <td>61</td>\n",
       "      <td>278</td>\n",
       "      <td>1</td>\n",
       "    </tr>\n",
       "    <tr>\n",
       "      <th>1</th>\n",
       "      <td>0.21</td>\n",
       "      <td>0.28</td>\n",
       "      <td>0.50</td>\n",
       "      <td>0.0</td>\n",
       "      <td>0.14</td>\n",
       "      <td>0.28</td>\n",
       "      <td>0.21</td>\n",
       "      <td>0.07</td>\n",
       "      <td>0.00</td>\n",
       "      <td>0.94</td>\n",
       "      <td>...</td>\n",
       "      <td>0.00</td>\n",
       "      <td>0.132</td>\n",
       "      <td>0.0</td>\n",
       "      <td>0.372</td>\n",
       "      <td>0.180</td>\n",
       "      <td>0.048</td>\n",
       "      <td>5.114</td>\n",
       "      <td>101</td>\n",
       "      <td>1028</td>\n",
       "      <td>1</td>\n",
       "    </tr>\n",
       "    <tr>\n",
       "      <th>2</th>\n",
       "      <td>0.06</td>\n",
       "      <td>0.00</td>\n",
       "      <td>0.71</td>\n",
       "      <td>0.0</td>\n",
       "      <td>1.23</td>\n",
       "      <td>0.19</td>\n",
       "      <td>0.19</td>\n",
       "      <td>0.12</td>\n",
       "      <td>0.64</td>\n",
       "      <td>0.25</td>\n",
       "      <td>...</td>\n",
       "      <td>0.01</td>\n",
       "      <td>0.143</td>\n",
       "      <td>0.0</td>\n",
       "      <td>0.276</td>\n",
       "      <td>0.184</td>\n",
       "      <td>0.010</td>\n",
       "      <td>9.821</td>\n",
       "      <td>485</td>\n",
       "      <td>2259</td>\n",
       "      <td>1</td>\n",
       "    </tr>\n",
       "  </tbody>\n",
       "</table>\n",
       "<p>3 rows × 58 columns</p>\n",
       "</div>"
      ],
      "text/plain": [
       "   word_freq_make  word_freq_address  word_freq_all  word_freq_3d  \\\n",
       "0            0.00               0.64           0.64           0.0   \n",
       "1            0.21               0.28           0.50           0.0   \n",
       "2            0.06               0.00           0.71           0.0   \n",
       "\n",
       "   word_freq_our  word_freq_over  word_freq_remove  word_freq_internet  \\\n",
       "0           0.32            0.00              0.00                0.00   \n",
       "1           0.14            0.28              0.21                0.07   \n",
       "2           1.23            0.19              0.19                0.12   \n",
       "\n",
       "   word_freq_order  word_freq_mail  ...  char_freq_%3B  char_freq_%28  \\\n",
       "0             0.00            0.00  ...           0.00          0.000   \n",
       "1             0.00            0.94  ...           0.00          0.132   \n",
       "2             0.64            0.25  ...           0.01          0.143   \n",
       "\n",
       "   char_freq_%5B  char_freq_%21  char_freq_%24  char_freq_%23  \\\n",
       "0            0.0          0.778          0.000          0.000   \n",
       "1            0.0          0.372          0.180          0.048   \n",
       "2            0.0          0.276          0.184          0.010   \n",
       "\n",
       "   capital_run_length_average  capital_run_length_longest  \\\n",
       "0                       3.756                          61   \n",
       "1                       5.114                         101   \n",
       "2                       9.821                         485   \n",
       "\n",
       "   capital_run_length_total  class  \n",
       "0                       278      1  \n",
       "1                      1028      1  \n",
       "2                      2259      1  \n",
       "\n",
       "[3 rows x 58 columns]"
      ]
     },
     "execution_count": 24,
     "metadata": {},
     "output_type": "execute_result"
    }
   ],
   "source": [
    "df_44 = pd.read_csv('dataset_44_spambase.csv')\n",
    "df_44.head(3)"
   ]
  },
  {
   "cell_type": "code",
   "execution_count": 25,
   "metadata": {},
   "outputs": [
    {
     "data": {
      "text/plain": [
       "(4601, 58)"
      ]
     },
     "execution_count": 25,
     "metadata": {},
     "output_type": "execute_result"
    }
   ],
   "source": [
    "df_44.shape"
   ]
  },
  {
   "cell_type": "code",
   "execution_count": 26,
   "metadata": {},
   "outputs": [
    {
     "data": {
      "text/html": [
       "<div>\n",
       "<style scoped>\n",
       "    .dataframe tbody tr th:only-of-type {\n",
       "        vertical-align: middle;\n",
       "    }\n",
       "\n",
       "    .dataframe tbody tr th {\n",
       "        vertical-align: top;\n",
       "    }\n",
       "\n",
       "    .dataframe thead th {\n",
       "        text-align: right;\n",
       "    }\n",
       "</style>\n",
       "<table border=\"1\" class=\"dataframe\">\n",
       "  <thead>\n",
       "    <tr style=\"text-align: right;\">\n",
       "      <th></th>\n",
       "      <th>name</th>\n",
       "      <th>class</th>\n",
       "      <th>max_speed</th>\n",
       "    </tr>\n",
       "  </thead>\n",
       "  <tbody>\n",
       "    <tr>\n",
       "      <th>0</th>\n",
       "      <td>falcon</td>\n",
       "      <td>bird</td>\n",
       "      <td>389.0</td>\n",
       "    </tr>\n",
       "    <tr>\n",
       "      <th>1</th>\n",
       "      <td>parrot</td>\n",
       "      <td>bird</td>\n",
       "      <td>24.0</td>\n",
       "    </tr>\n",
       "    <tr>\n",
       "      <th>2</th>\n",
       "      <td>lion</td>\n",
       "      <td>mammal</td>\n",
       "      <td>80.5</td>\n",
       "    </tr>\n",
       "    <tr>\n",
       "      <th>3</th>\n",
       "      <td>monkey</td>\n",
       "      <td>mammal</td>\n",
       "      <td>NaN</td>\n",
       "    </tr>\n",
       "  </tbody>\n",
       "</table>\n",
       "</div>"
      ],
      "text/plain": [
       "     name   class  max_speed\n",
       "0  falcon    bird      389.0\n",
       "1  parrot    bird       24.0\n",
       "2    lion  mammal       80.5\n",
       "3  monkey  mammal        NaN"
      ]
     },
     "execution_count": 26,
     "metadata": {},
     "output_type": "execute_result"
    }
   ],
   "source": [
    "# Understanding what dataFrame.pop is\n",
    "df = pd.DataFrame([('falcon', 'bird', 389.0),\n",
    "                   ('parrot', 'bird', 24.0),\n",
    "                   ('lion', 'mammal', 80.5),\n",
    "                   ('monkey', 'mammal', np.nan)],\n",
    "                  columns=('name', 'class', 'max_speed'))\n",
    "df"
   ]
  },
  {
   "cell_type": "code",
   "execution_count": 27,
   "metadata": {},
   "outputs": [
    {
     "data": {
      "text/plain": [
       "0      bird\n",
       "1      bird\n",
       "2    mammal\n",
       "3    mammal\n",
       "Name: class, dtype: object"
      ]
     },
     "execution_count": 27,
     "metadata": {},
     "output_type": "execute_result"
    }
   ],
   "source": [
    "df.pop('class')"
   ]
  },
  {
   "cell_type": "code",
   "execution_count": 28,
   "metadata": {},
   "outputs": [
    {
     "data": {
      "text/html": [
       "<div>\n",
       "<style scoped>\n",
       "    .dataframe tbody tr th:only-of-type {\n",
       "        vertical-align: middle;\n",
       "    }\n",
       "\n",
       "    .dataframe tbody tr th {\n",
       "        vertical-align: top;\n",
       "    }\n",
       "\n",
       "    .dataframe thead th {\n",
       "        text-align: right;\n",
       "    }\n",
       "</style>\n",
       "<table border=\"1\" class=\"dataframe\">\n",
       "  <thead>\n",
       "    <tr style=\"text-align: right;\">\n",
       "      <th></th>\n",
       "      <th>name</th>\n",
       "      <th>max_speed</th>\n",
       "    </tr>\n",
       "  </thead>\n",
       "  <tbody>\n",
       "    <tr>\n",
       "      <th>0</th>\n",
       "      <td>falcon</td>\n",
       "      <td>389.0</td>\n",
       "    </tr>\n",
       "    <tr>\n",
       "      <th>1</th>\n",
       "      <td>parrot</td>\n",
       "      <td>24.0</td>\n",
       "    </tr>\n",
       "    <tr>\n",
       "      <th>2</th>\n",
       "      <td>lion</td>\n",
       "      <td>80.5</td>\n",
       "    </tr>\n",
       "    <tr>\n",
       "      <th>3</th>\n",
       "      <td>monkey</td>\n",
       "      <td>NaN</td>\n",
       "    </tr>\n",
       "  </tbody>\n",
       "</table>\n",
       "</div>"
      ],
      "text/plain": [
       "     name  max_speed\n",
       "0  falcon      389.0\n",
       "1  parrot       24.0\n",
       "2    lion       80.5\n",
       "3  monkey        NaN"
      ]
     },
     "execution_count": 28,
     "metadata": {},
     "output_type": "execute_result"
    }
   ],
   "source": [
    "df"
   ]
  },
  {
   "cell_type": "code",
   "execution_count": 29,
   "metadata": {},
   "outputs": [
    {
     "data": {
      "text/plain": [
       "0    1\n",
       "1    1\n",
       "2    1\n",
       "3    1\n",
       "Name: class, dtype: int64"
      ]
     },
     "execution_count": 29,
     "metadata": {},
     "output_type": "execute_result"
    }
   ],
   "source": [
    "# Extract the response variable using .pop() from pandas.\n",
    "target = df_44.pop('class')\n",
    "target.head(4)"
   ]
  },
  {
   "cell_type": "code",
   "execution_count": 32,
   "metadata": {},
   "outputs": [
    {
     "data": {
      "text/html": [
       "<div>\n",
       "<style scoped>\n",
       "    .dataframe tbody tr th:only-of-type {\n",
       "        vertical-align: middle;\n",
       "    }\n",
       "\n",
       "    .dataframe tbody tr th {\n",
       "        vertical-align: top;\n",
       "    }\n",
       "\n",
       "    .dataframe thead th {\n",
       "        text-align: right;\n",
       "    }\n",
       "</style>\n",
       "<table border=\"1\" class=\"dataframe\">\n",
       "  <thead>\n",
       "    <tr style=\"text-align: right;\">\n",
       "      <th></th>\n",
       "      <th>word_freq_make</th>\n",
       "      <th>word_freq_address</th>\n",
       "      <th>word_freq_all</th>\n",
       "      <th>word_freq_3d</th>\n",
       "      <th>word_freq_our</th>\n",
       "      <th>word_freq_over</th>\n",
       "      <th>word_freq_remove</th>\n",
       "      <th>word_freq_internet</th>\n",
       "      <th>word_freq_order</th>\n",
       "      <th>word_freq_mail</th>\n",
       "      <th>...</th>\n",
       "      <th>word_freq_conference</th>\n",
       "      <th>char_freq_%3B</th>\n",
       "      <th>char_freq_%28</th>\n",
       "      <th>char_freq_%5B</th>\n",
       "      <th>char_freq_%21</th>\n",
       "      <th>char_freq_%24</th>\n",
       "      <th>char_freq_%23</th>\n",
       "      <th>capital_run_length_average</th>\n",
       "      <th>capital_run_length_longest</th>\n",
       "      <th>capital_run_length_total</th>\n",
       "    </tr>\n",
       "  </thead>\n",
       "  <tbody>\n",
       "    <tr>\n",
       "      <th>0</th>\n",
       "      <td>0.00</td>\n",
       "      <td>0.64</td>\n",
       "      <td>0.64</td>\n",
       "      <td>0.0</td>\n",
       "      <td>0.32</td>\n",
       "      <td>0.00</td>\n",
       "      <td>0.00</td>\n",
       "      <td>0.00</td>\n",
       "      <td>0.0</td>\n",
       "      <td>0.00</td>\n",
       "      <td>...</td>\n",
       "      <td>0.0</td>\n",
       "      <td>0.0</td>\n",
       "      <td>0.000</td>\n",
       "      <td>0.0</td>\n",
       "      <td>0.778</td>\n",
       "      <td>0.00</td>\n",
       "      <td>0.000</td>\n",
       "      <td>3.756</td>\n",
       "      <td>61</td>\n",
       "      <td>278</td>\n",
       "    </tr>\n",
       "    <tr>\n",
       "      <th>1</th>\n",
       "      <td>0.21</td>\n",
       "      <td>0.28</td>\n",
       "      <td>0.50</td>\n",
       "      <td>0.0</td>\n",
       "      <td>0.14</td>\n",
       "      <td>0.28</td>\n",
       "      <td>0.21</td>\n",
       "      <td>0.07</td>\n",
       "      <td>0.0</td>\n",
       "      <td>0.94</td>\n",
       "      <td>...</td>\n",
       "      <td>0.0</td>\n",
       "      <td>0.0</td>\n",
       "      <td>0.132</td>\n",
       "      <td>0.0</td>\n",
       "      <td>0.372</td>\n",
       "      <td>0.18</td>\n",
       "      <td>0.048</td>\n",
       "      <td>5.114</td>\n",
       "      <td>101</td>\n",
       "      <td>1028</td>\n",
       "    </tr>\n",
       "  </tbody>\n",
       "</table>\n",
       "<p>2 rows × 57 columns</p>\n",
       "</div>"
      ],
      "text/plain": [
       "   word_freq_make  word_freq_address  word_freq_all  word_freq_3d  \\\n",
       "0            0.00               0.64           0.64           0.0   \n",
       "1            0.21               0.28           0.50           0.0   \n",
       "\n",
       "   word_freq_our  word_freq_over  word_freq_remove  word_freq_internet  \\\n",
       "0           0.32            0.00              0.00                0.00   \n",
       "1           0.14            0.28              0.21                0.07   \n",
       "\n",
       "   word_freq_order  word_freq_mail  ...  word_freq_conference  char_freq_%3B  \\\n",
       "0              0.0            0.00  ...                   0.0            0.0   \n",
       "1              0.0            0.94  ...                   0.0            0.0   \n",
       "\n",
       "   char_freq_%28  char_freq_%5B  char_freq_%21  char_freq_%24  char_freq_%23  \\\n",
       "0          0.000            0.0          0.778           0.00          0.000   \n",
       "1          0.132            0.0          0.372           0.18          0.048   \n",
       "\n",
       "   capital_run_length_average  capital_run_length_longest  \\\n",
       "0                       3.756                          61   \n",
       "1                       5.114                         101   \n",
       "\n",
       "   capital_run_length_total  \n",
       "0                       278  \n",
       "1                      1028  \n",
       "\n",
       "[2 rows x 57 columns]"
      ]
     },
     "execution_count": 32,
     "metadata": {},
     "output_type": "execute_result"
    }
   ],
   "source": [
    "df_44.head(2)"
   ]
  },
  {
   "cell_type": "code",
   "execution_count": 33,
   "metadata": {},
   "outputs": [],
   "source": [
    "# Instantiate RandomForestClassifier\n",
    "seed = 26\n",
    "rf_model = RandomForestClassifier(seed)"
   ]
  },
  {
   "cell_type": "code",
   "execution_count": 37,
   "metadata": {},
   "outputs": [],
   "source": [
    "features = np.array(df_44)"
   ]
  },
  {
   "cell_type": "code",
   "execution_count": 38,
   "metadata": {},
   "outputs": [
    {
     "data": {
      "text/plain": [
       "RandomForestClassifier(bootstrap=True, ccp_alpha=0.0, class_weight=None,\n",
       "                       criterion='gini', max_depth=None, max_features='auto',\n",
       "                       max_leaf_nodes=None, max_samples=None,\n",
       "                       min_impurity_decrease=0.0, min_impurity_split=None,\n",
       "                       min_samples_leaf=1, min_samples_split=2,\n",
       "                       min_weight_fraction_leaf=0.0, n_estimators=26,\n",
       "                       n_jobs=None, oob_score=False, random_state=None,\n",
       "                       verbose=0, warm_start=False)"
      ]
     },
     "execution_count": 38,
     "metadata": {},
     "output_type": "execute_result"
    }
   ],
   "source": [
    "# Train a Random Forest model to predict the outcome with .fit()\n",
    "rf_model.fit(features, target)"
   ]
  },
  {
   "cell_type": "code",
   "execution_count": 39,
   "metadata": {},
   "outputs": [
    {
     "data": {
      "text/plain": [
       "array([1, 1, 1, ..., 0, 0, 0])"
      ]
     },
     "execution_count": 39,
     "metadata": {},
     "output_type": "execute_result"
    }
   ],
   "source": [
    "# Predict the outcomes from the input data using .predict().\n",
    "preds = rf_model.predict(features)\n",
    "preds"
   ]
  },
  {
   "cell_type": "code",
   "execution_count": 40,
   "metadata": {},
   "outputs": [],
   "source": [
    "# Calculate the accuracy score using accuracy_score.\n",
    "from sklearn.metrics import accuracy_score"
   ]
  },
  {
   "cell_type": "code",
   "execution_count": 41,
   "metadata": {},
   "outputs": [
    {
     "data": {
      "text/plain": [
       "0.9991306237774397"
      ]
     },
     "execution_count": 41,
     "metadata": {},
     "output_type": "execute_result"
    }
   ],
   "source": [
    "accuracy_score(target, preds)"
   ]
  },
  {
   "cell_type": "markdown",
   "metadata": {},
   "source": [
    "### Regression"
   ]
  },
  {
   "cell_type": "code",
   "execution_count": 1,
   "metadata": {},
   "outputs": [
    {
     "name": "stdout",
     "output_type": "stream",
     "text": [
      "=                              excel_example.xlsx\r\n",
      "\u001b[31mAB_NYC_2019.csv\u001b[m\u001b[m                json_example.json\r\n",
      "Boston.csv                     mbox-short.txt\r\n",
      "Data Science Workshop.ipynb    overall_topten_2012-2013.csv\r\n",
      "\u001b[34mPython 3.7\u001b[m\u001b[m                     overall_topten_2012-2013.tsv\r\n",
      "authors.txt                    overall_topten_2012-2013.xlsx\r\n",
      "csv_example.csv                tas_1991_2016_AUS.csv\r\n",
      "dataset_44_spambase.csv        tas_1991_2016_AUS_Activity.csv\r\n"
     ]
    }
   ],
   "source": [
    "# Loading and Preparing the Data for Analysis\n",
    "!ls"
   ]
  },
  {
   "cell_type": "code",
   "execution_count": 2,
   "metadata": {},
   "outputs": [],
   "source": [
    "# Loading python modules\n",
    "%matplotlib inline \n",
    "import matplotlib as mpl \n",
    "import seaborn as sns \n",
    "import matplotlib.pyplot as plt \n",
    "import statsmodels.formula.api as smf \n",
    "import statsmodels.graphics.api as smg \n",
    "import pandas as pd \n",
    "import numpy as np \n",
    "import patsy \n",
    "from statsmodels.graphics.correlation import plot_corr \n",
    "from sklearn.model_selection import train_test_split \n",
    "plt.style.use('seaborn') "
   ]
  },
  {
   "cell_type": "code",
   "execution_count": 3,
   "metadata": {},
   "outputs": [
    {
     "name": "stdout",
     "output_type": "stream",
     "text": [
      "CRIM, ZN ,INDUS ,CHAS,NOX,RM,AGE,DIS,RAD,TAX,PTRATIO,LSTAT,MEDV\r\n",
      "0.00632,18,2.31,0,0.538,6.575,65.2,4.09,1,296,15.3,4.98,24\r\n"
     ]
    }
   ],
   "source": [
    "# load the Boston.CSV file\n",
    "!head -2 Boston.csv"
   ]
  },
  {
   "cell_type": "code",
   "execution_count": 4,
   "metadata": {},
   "outputs": [
    {
     "data": {
      "text/html": [
       "<div>\n",
       "<style scoped>\n",
       "    .dataframe tbody tr th:only-of-type {\n",
       "        vertical-align: middle;\n",
       "    }\n",
       "\n",
       "    .dataframe tbody tr th {\n",
       "        vertical-align: top;\n",
       "    }\n",
       "\n",
       "    .dataframe thead th {\n",
       "        text-align: right;\n",
       "    }\n",
       "</style>\n",
       "<table border=\"1\" class=\"dataframe\">\n",
       "  <thead>\n",
       "    <tr style=\"text-align: right;\">\n",
       "      <th></th>\n",
       "      <th>CRIM</th>\n",
       "      <th>ZN</th>\n",
       "      <th>INDUS</th>\n",
       "      <th>CHAS</th>\n",
       "      <th>NOX</th>\n",
       "      <th>RM</th>\n",
       "      <th>AGE</th>\n",
       "      <th>DIS</th>\n",
       "      <th>RAD</th>\n",
       "      <th>TAX</th>\n",
       "      <th>PTRATIO</th>\n",
       "      <th>LSTAT</th>\n",
       "      <th>MEDV</th>\n",
       "    </tr>\n",
       "  </thead>\n",
       "  <tbody>\n",
       "    <tr>\n",
       "      <th>0</th>\n",
       "      <td>0.00632</td>\n",
       "      <td>18.0</td>\n",
       "      <td>2.31</td>\n",
       "      <td>0</td>\n",
       "      <td>0.538</td>\n",
       "      <td>6.575</td>\n",
       "      <td>65.2</td>\n",
       "      <td>4.0900</td>\n",
       "      <td>1</td>\n",
       "      <td>296</td>\n",
       "      <td>15.3</td>\n",
       "      <td>4.98</td>\n",
       "      <td>24.0</td>\n",
       "    </tr>\n",
       "    <tr>\n",
       "      <th>1</th>\n",
       "      <td>0.02731</td>\n",
       "      <td>0.0</td>\n",
       "      <td>7.07</td>\n",
       "      <td>0</td>\n",
       "      <td>0.469</td>\n",
       "      <td>6.421</td>\n",
       "      <td>78.9</td>\n",
       "      <td>4.9671</td>\n",
       "      <td>2</td>\n",
       "      <td>242</td>\n",
       "      <td>17.8</td>\n",
       "      <td>9.14</td>\n",
       "      <td>21.6</td>\n",
       "    </tr>\n",
       "  </tbody>\n",
       "</table>\n",
       "</div>"
      ],
      "text/plain": [
       "      CRIM   ZN   INDUS   CHAS    NOX     RM   AGE     DIS  RAD  TAX  PTRATIO  \\\n",
       "0  0.00632  18.0    2.31     0  0.538  6.575  65.2  4.0900    1  296     15.3   \n",
       "1  0.02731   0.0    7.07     0  0.469  6.421  78.9  4.9671    2  242     17.8   \n",
       "\n",
       "   LSTAT  MEDV  \n",
       "0   4.98  24.0  \n",
       "1   9.14  21.6  "
      ]
     },
     "execution_count": 4,
     "metadata": {},
     "output_type": "execute_result"
    }
   ],
   "source": [
    "rawBostonData = pd.read_csv('Boston.csv')\n",
    "rawBostonData.head(2)"
   ]
  },
  {
   "cell_type": "code",
   "execution_count": 5,
   "metadata": {},
   "outputs": [
    {
     "data": {
      "text/plain": [
       "(506, 13)"
      ]
     },
     "execution_count": 5,
     "metadata": {},
     "output_type": "execute_result"
    }
   ],
   "source": [
    "rawBostonData.shape"
   ]
  },
  {
   "cell_type": "code",
   "execution_count": 6,
   "metadata": {},
   "outputs": [
    {
     "data": {
      "text/plain": [
       "[0, 0, 0, 0, 0, 0, 0, 0, 0, 0, 0, 0, 0]"
      ]
     },
     "execution_count": 6,
     "metadata": {},
     "output_type": "execute_result"
    }
   ],
   "source": [
    "# Check for missing values (null values)\n",
    "list(rawBostonData.isnull().sum())"
   ]
  },
  {
   "cell_type": "code",
   "execution_count": 7,
   "metadata": {},
   "outputs": [],
   "source": [
    "# Dropping missing data\n",
    "rawBostonData = rawBostonData.dropna()"
   ]
  },
  {
   "cell_type": "code",
   "execution_count": 8,
   "metadata": {},
   "outputs": [
    {
     "data": {
      "text/plain": [
       "(506, 13)"
      ]
     },
     "execution_count": 8,
     "metadata": {},
     "output_type": "execute_result"
    }
   ],
   "source": [
    "rawBostonData.shape"
   ]
  },
  {
   "cell_type": "code",
   "execution_count": 9,
   "metadata": {},
   "outputs": [
    {
     "data": {
      "text/plain": [
       "0"
      ]
     },
     "execution_count": 9,
     "metadata": {},
     "output_type": "execute_result"
    }
   ],
   "source": [
    "# Check for duplicate records \n",
    "rawBostonData.duplicated().sum()"
   ]
  },
  {
   "cell_type": "code",
   "execution_count": 10,
   "metadata": {},
   "outputs": [
    {
     "data": {
      "text/plain": [
       "['CRIM',\n",
       " ' ZN ',\n",
       " 'INDUS ',\n",
       " 'CHAS',\n",
       " 'NOX',\n",
       " 'RM',\n",
       " 'AGE',\n",
       " 'DIS',\n",
       " 'RAD',\n",
       " 'TAX',\n",
       " 'PTRATIO',\n",
       " 'LSTAT',\n",
       " 'MEDV']"
      ]
     },
     "execution_count": 10,
     "metadata": {},
     "output_type": "execute_result"
    }
   ],
   "source": [
    "# List the column names of the DataFrame so that you can examine the fields in your dataset\n",
    "list(rawBostonData.columns)"
   ]
  },
  {
   "cell_type": "code",
   "execution_count": 11,
   "metadata": {},
   "outputs": [
    {
     "data": {
      "text/html": [
       "<div>\n",
       "<style scoped>\n",
       "    .dataframe tbody tr th:only-of-type {\n",
       "        vertical-align: middle;\n",
       "    }\n",
       "\n",
       "    .dataframe tbody tr th {\n",
       "        vertical-align: top;\n",
       "    }\n",
       "\n",
       "    .dataframe thead th {\n",
       "        text-align: right;\n",
       "    }\n",
       "</style>\n",
       "<table border=\"1\" class=\"dataframe\">\n",
       "  <thead>\n",
       "    <tr style=\"text-align: right;\">\n",
       "      <th></th>\n",
       "      <th>crimeRatePerCapita</th>\n",
       "      <th>landOver25K_sqft</th>\n",
       "      <th>non-retailLandProptn</th>\n",
       "      <th>riverDummy</th>\n",
       "      <th>nitrixOxide_pp10m</th>\n",
       "      <th>AvgNo.RoomsPerDwelling</th>\n",
       "      <th>ProptnOwnerOccupied</th>\n",
       "      <th>weightedDist</th>\n",
       "      <th>radialHighwaysAccess</th>\n",
       "      <th>propTaxRate_per10K</th>\n",
       "      <th>pupilTeacherRatio</th>\n",
       "      <th>pctLowerStatus</th>\n",
       "      <th>medianValue_Ks</th>\n",
       "    </tr>\n",
       "  </thead>\n",
       "  <tbody>\n",
       "    <tr>\n",
       "      <th>0</th>\n",
       "      <td>0.00632</td>\n",
       "      <td>18.0</td>\n",
       "      <td>2.31</td>\n",
       "      <td>0</td>\n",
       "      <td>0.538</td>\n",
       "      <td>6.575</td>\n",
       "      <td>65.2</td>\n",
       "      <td>4.0900</td>\n",
       "      <td>1</td>\n",
       "      <td>296</td>\n",
       "      <td>15.3</td>\n",
       "      <td>4.98</td>\n",
       "      <td>24.0</td>\n",
       "    </tr>\n",
       "    <tr>\n",
       "      <th>1</th>\n",
       "      <td>0.02731</td>\n",
       "      <td>0.0</td>\n",
       "      <td>7.07</td>\n",
       "      <td>0</td>\n",
       "      <td>0.469</td>\n",
       "      <td>6.421</td>\n",
       "      <td>78.9</td>\n",
       "      <td>4.9671</td>\n",
       "      <td>2</td>\n",
       "      <td>242</td>\n",
       "      <td>17.8</td>\n",
       "      <td>9.14</td>\n",
       "      <td>21.6</td>\n",
       "    </tr>\n",
       "    <tr>\n",
       "      <th>2</th>\n",
       "      <td>0.02729</td>\n",
       "      <td>0.0</td>\n",
       "      <td>7.07</td>\n",
       "      <td>0</td>\n",
       "      <td>0.469</td>\n",
       "      <td>7.185</td>\n",
       "      <td>61.1</td>\n",
       "      <td>4.9671</td>\n",
       "      <td>2</td>\n",
       "      <td>242</td>\n",
       "      <td>17.8</td>\n",
       "      <td>4.03</td>\n",
       "      <td>34.7</td>\n",
       "    </tr>\n",
       "    <tr>\n",
       "      <th>3</th>\n",
       "      <td>0.03237</td>\n",
       "      <td>0.0</td>\n",
       "      <td>2.18</td>\n",
       "      <td>0</td>\n",
       "      <td>0.458</td>\n",
       "      <td>6.998</td>\n",
       "      <td>45.8</td>\n",
       "      <td>6.0622</td>\n",
       "      <td>3</td>\n",
       "      <td>222</td>\n",
       "      <td>18.7</td>\n",
       "      <td>2.94</td>\n",
       "      <td>33.4</td>\n",
       "    </tr>\n",
       "    <tr>\n",
       "      <th>4</th>\n",
       "      <td>0.06905</td>\n",
       "      <td>0.0</td>\n",
       "      <td>2.18</td>\n",
       "      <td>0</td>\n",
       "      <td>0.458</td>\n",
       "      <td>7.147</td>\n",
       "      <td>54.2</td>\n",
       "      <td>6.0622</td>\n",
       "      <td>3</td>\n",
       "      <td>222</td>\n",
       "      <td>18.7</td>\n",
       "      <td>5.33</td>\n",
       "      <td>36.2</td>\n",
       "    </tr>\n",
       "  </tbody>\n",
       "</table>\n",
       "</div>"
      ],
      "text/plain": [
       "   crimeRatePerCapita  landOver25K_sqft  non-retailLandProptn  riverDummy  \\\n",
       "0             0.00632              18.0                  2.31           0   \n",
       "1             0.02731               0.0                  7.07           0   \n",
       "2             0.02729               0.0                  7.07           0   \n",
       "3             0.03237               0.0                  2.18           0   \n",
       "4             0.06905               0.0                  2.18           0   \n",
       "\n",
       "   nitrixOxide_pp10m  AvgNo.RoomsPerDwelling  ProptnOwnerOccupied  \\\n",
       "0              0.538                   6.575                 65.2   \n",
       "1              0.469                   6.421                 78.9   \n",
       "2              0.469                   7.185                 61.1   \n",
       "3              0.458                   6.998                 45.8   \n",
       "4              0.458                   7.147                 54.2   \n",
       "\n",
       "   weightedDist  radialHighwaysAccess  propTaxRate_per10K  pupilTeacherRatio  \\\n",
       "0        4.0900                     1                 296               15.3   \n",
       "1        4.9671                     2                 242               17.8   \n",
       "2        4.9671                     2                 242               17.8   \n",
       "3        6.0622                     3                 222               18.7   \n",
       "4        6.0622                     3                 222               18.7   \n",
       "\n",
       "   pctLowerStatus  medianValue_Ks  \n",
       "0            4.98            24.0  \n",
       "1            9.14            21.6  \n",
       "2            4.03            34.7  \n",
       "3            2.94            33.4  \n",
       "4            5.33            36.2  "
      ]
     },
     "execution_count": 11,
     "metadata": {},
     "output_type": "execute_result"
    }
   ],
   "source": [
    "# Rename the DataFrame columns so that they are meaningful\n",
    "renamedBostonData = rawBostonData.rename(columns = {'CRIM':'crimeRatePerCapita', \n",
    " ' ZN ':'landOver25K_sqft', \n",
    " 'INDUS ':'non-retailLandProptn', \n",
    " 'CHAS':'riverDummy', \n",
    " 'NOX':'nitrixOxide_pp10m', \n",
    " 'RM':'AvgNo.RoomsPerDwelling', \n",
    " 'AGE':'ProptnOwnerOccupied', \n",
    " 'DIS':'weightedDist', \n",
    " 'RAD':'radialHighwaysAccess', \n",
    " 'TAX':'propTaxRate_per10K', \n",
    " 'PTRATIO':'pupilTeacherRatio', \n",
    " 'LSTAT':'pctLowerStatus', \n",
    " 'MEDV':'medianValue_Ks'}) \n",
    "renamedBostonData.head() "
   ]
  },
  {
   "cell_type": "code",
   "execution_count": 12,
   "metadata": {},
   "outputs": [
    {
     "data": {
      "image/png": "[encoded data removed]",
      "text/plain": [
       "<Figure size 576x396 with 1 Axes>"
      ]
     },
     "metadata": {},
     "output_type": "display_data"
    }
   ],
   "source": [
    "# Checking the distribution of the dependent variable\n",
    "sns.distplot(renamedBostonData.medianValue_Ks)\n",
    "plt.show()"
   ]
  },
  {
   "cell_type": "code",
   "execution_count": 13,
   "metadata": {},
   "outputs": [
    {
     "name": "stdout",
     "output_type": "stream",
     "text": [
      "<class 'pandas.core.frame.DataFrame'>\n",
      "Int64Index: 506 entries, 0 to 505\n",
      "Data columns (total 13 columns):\n",
      " #   Column                  Non-Null Count  Dtype  \n",
      "---  ------                  --------------  -----  \n",
      " 0   crimeRatePerCapita      506 non-null    float64\n",
      " 1   landOver25K_sqft        506 non-null    float64\n",
      " 2   non-retailLandProptn    506 non-null    float64\n",
      " 3   riverDummy              506 non-null    int64  \n",
      " 4   nitrixOxide_pp10m       506 non-null    float64\n",
      " 5   AvgNo.RoomsPerDwelling  506 non-null    float64\n",
      " 6   ProptnOwnerOccupied     506 non-null    float64\n",
      " 7   weightedDist            506 non-null    float64\n",
      " 8   radialHighwaysAccess    506 non-null    int64  \n",
      " 9   propTaxRate_per10K      506 non-null    int64  \n",
      " 10  pupilTeacherRatio       506 non-null    float64\n",
      " 11  pctLowerStatus          506 non-null    float64\n",
      " 12  medianValue_Ks          506 non-null    float64\n",
      "dtypes: float64(10), int64(3)\n",
      "memory usage: 55.3 KB\n"
     ]
    }
   ],
   "source": [
    "# Inspect the data types of the columns in your DataFrame \n",
    "renamedBostonData.info()"
   ]
  },
  {
   "cell_type": "code",
   "execution_count": 14,
   "metadata": {},
   "outputs": [
    {
     "data": {
      "text/html": [
       "<div>\n",
       "<style scoped>\n",
       "    .dataframe tbody tr th:only-of-type {\n",
       "        vertical-align: middle;\n",
       "    }\n",
       "\n",
       "    .dataframe tbody tr th {\n",
       "        vertical-align: top;\n",
       "    }\n",
       "\n",
       "    .dataframe thead th {\n",
       "        text-align: right;\n",
       "    }\n",
       "</style>\n",
       "<table border=\"1\" class=\"dataframe\">\n",
       "  <thead>\n",
       "    <tr style=\"text-align: right;\">\n",
       "      <th></th>\n",
       "      <th>count</th>\n",
       "      <th>mean</th>\n",
       "      <th>std</th>\n",
       "      <th>min</th>\n",
       "      <th>25%</th>\n",
       "      <th>50%</th>\n",
       "      <th>75%</th>\n",
       "      <th>max</th>\n",
       "    </tr>\n",
       "  </thead>\n",
       "  <tbody>\n",
       "    <tr>\n",
       "      <th>crimeRatePerCapita</th>\n",
       "      <td>506.0</td>\n",
       "      <td>3.613524</td>\n",
       "      <td>8.601545</td>\n",
       "      <td>0.00632</td>\n",
       "      <td>0.082045</td>\n",
       "      <td>0.25651</td>\n",
       "      <td>3.677082</td>\n",
       "      <td>88.9762</td>\n",
       "    </tr>\n",
       "    <tr>\n",
       "      <th>landOver25K_sqft</th>\n",
       "      <td>506.0</td>\n",
       "      <td>11.363636</td>\n",
       "      <td>23.322453</td>\n",
       "      <td>0.00000</td>\n",
       "      <td>0.000000</td>\n",
       "      <td>0.00000</td>\n",
       "      <td>12.500000</td>\n",
       "      <td>100.0000</td>\n",
       "    </tr>\n",
       "    <tr>\n",
       "      <th>non-retailLandProptn</th>\n",
       "      <td>506.0</td>\n",
       "      <td>11.136779</td>\n",
       "      <td>6.860353</td>\n",
       "      <td>0.46000</td>\n",
       "      <td>5.190000</td>\n",
       "      <td>9.69000</td>\n",
       "      <td>18.100000</td>\n",
       "      <td>27.7400</td>\n",
       "    </tr>\n",
       "    <tr>\n",
       "      <th>riverDummy</th>\n",
       "      <td>506.0</td>\n",
       "      <td>0.069170</td>\n",
       "      <td>0.253994</td>\n",
       "      <td>0.00000</td>\n",
       "      <td>0.000000</td>\n",
       "      <td>0.00000</td>\n",
       "      <td>0.000000</td>\n",
       "      <td>1.0000</td>\n",
       "    </tr>\n",
       "    <tr>\n",
       "      <th>nitrixOxide_pp10m</th>\n",
       "      <td>506.0</td>\n",
       "      <td>0.554695</td>\n",
       "      <td>0.115878</td>\n",
       "      <td>0.38500</td>\n",
       "      <td>0.449000</td>\n",
       "      <td>0.53800</td>\n",
       "      <td>0.624000</td>\n",
       "      <td>0.8710</td>\n",
       "    </tr>\n",
       "    <tr>\n",
       "      <th>AvgNo.RoomsPerDwelling</th>\n",
       "      <td>506.0</td>\n",
       "      <td>6.284634</td>\n",
       "      <td>0.702617</td>\n",
       "      <td>3.56100</td>\n",
       "      <td>5.885500</td>\n",
       "      <td>6.20850</td>\n",
       "      <td>6.623500</td>\n",
       "      <td>8.7800</td>\n",
       "    </tr>\n",
       "    <tr>\n",
       "      <th>ProptnOwnerOccupied</th>\n",
       "      <td>506.0</td>\n",
       "      <td>68.574901</td>\n",
       "      <td>28.148861</td>\n",
       "      <td>2.90000</td>\n",
       "      <td>45.025000</td>\n",
       "      <td>77.50000</td>\n",
       "      <td>94.075000</td>\n",
       "      <td>100.0000</td>\n",
       "    </tr>\n",
       "    <tr>\n",
       "      <th>weightedDist</th>\n",
       "      <td>506.0</td>\n",
       "      <td>3.795043</td>\n",
       "      <td>2.105710</td>\n",
       "      <td>1.12960</td>\n",
       "      <td>2.100175</td>\n",
       "      <td>3.20745</td>\n",
       "      <td>5.188425</td>\n",
       "      <td>12.1265</td>\n",
       "    </tr>\n",
       "    <tr>\n",
       "      <th>radialHighwaysAccess</th>\n",
       "      <td>506.0</td>\n",
       "      <td>9.549407</td>\n",
       "      <td>8.707259</td>\n",
       "      <td>1.00000</td>\n",
       "      <td>4.000000</td>\n",
       "      <td>5.00000</td>\n",
       "      <td>24.000000</td>\n",
       "      <td>24.0000</td>\n",
       "    </tr>\n",
       "    <tr>\n",
       "      <th>propTaxRate_per10K</th>\n",
       "      <td>506.0</td>\n",
       "      <td>408.237154</td>\n",
       "      <td>168.537116</td>\n",
       "      <td>187.00000</td>\n",
       "      <td>279.000000</td>\n",
       "      <td>330.00000</td>\n",
       "      <td>666.000000</td>\n",
       "      <td>711.0000</td>\n",
       "    </tr>\n",
       "    <tr>\n",
       "      <th>pupilTeacherRatio</th>\n",
       "      <td>506.0</td>\n",
       "      <td>18.455534</td>\n",
       "      <td>2.164946</td>\n",
       "      <td>12.60000</td>\n",
       "      <td>17.400000</td>\n",
       "      <td>19.05000</td>\n",
       "      <td>20.200000</td>\n",
       "      <td>22.0000</td>\n",
       "    </tr>\n",
       "    <tr>\n",
       "      <th>pctLowerStatus</th>\n",
       "      <td>506.0</td>\n",
       "      <td>12.653063</td>\n",
       "      <td>7.141062</td>\n",
       "      <td>1.73000</td>\n",
       "      <td>6.950000</td>\n",
       "      <td>11.36000</td>\n",
       "      <td>16.955000</td>\n",
       "      <td>37.9700</td>\n",
       "    </tr>\n",
       "    <tr>\n",
       "      <th>medianValue_Ks</th>\n",
       "      <td>506.0</td>\n",
       "      <td>22.532806</td>\n",
       "      <td>9.197104</td>\n",
       "      <td>5.00000</td>\n",
       "      <td>17.025000</td>\n",
       "      <td>21.20000</td>\n",
       "      <td>25.000000</td>\n",
       "      <td>50.0000</td>\n",
       "    </tr>\n",
       "  </tbody>\n",
       "</table>\n",
       "</div>"
      ],
      "text/plain": [
       "                        count        mean         std        min         25%  \\\n",
       "crimeRatePerCapita      506.0    3.613524    8.601545    0.00632    0.082045   \n",
       "landOver25K_sqft        506.0   11.363636   23.322453    0.00000    0.000000   \n",
       "non-retailLandProptn    506.0   11.136779    6.860353    0.46000    5.190000   \n",
       "riverDummy              506.0    0.069170    0.253994    0.00000    0.000000   \n",
       "nitrixOxide_pp10m       506.0    0.554695    0.115878    0.38500    0.449000   \n",
       "AvgNo.RoomsPerDwelling  506.0    6.284634    0.702617    3.56100    5.885500   \n",
       "ProptnOwnerOccupied     506.0   68.574901   28.148861    2.90000   45.025000   \n",
       "weightedDist            506.0    3.795043    2.105710    1.12960    2.100175   \n",
       "radialHighwaysAccess    506.0    9.549407    8.707259    1.00000    4.000000   \n",
       "propTaxRate_per10K      506.0  408.237154  168.537116  187.00000  279.000000   \n",
       "pupilTeacherRatio       506.0   18.455534    2.164946   12.60000   17.400000   \n",
       "pctLowerStatus          506.0   12.653063    7.141062    1.73000    6.950000   \n",
       "medianValue_Ks          506.0   22.532806    9.197104    5.00000   17.025000   \n",
       "\n",
       "                              50%         75%       max  \n",
       "crimeRatePerCapita        0.25651    3.677082   88.9762  \n",
       "landOver25K_sqft          0.00000   12.500000  100.0000  \n",
       "non-retailLandProptn      9.69000   18.100000   27.7400  \n",
       "riverDummy                0.00000    0.000000    1.0000  \n",
       "nitrixOxide_pp10m         0.53800    0.624000    0.8710  \n",
       "AvgNo.RoomsPerDwelling    6.20850    6.623500    8.7800  \n",
       "ProptnOwnerOccupied      77.50000   94.075000  100.0000  \n",
       "weightedDist              3.20745    5.188425   12.1265  \n",
       "radialHighwaysAccess      5.00000   24.000000   24.0000  \n",
       "propTaxRate_per10K      330.00000  666.000000  711.0000  \n",
       "pupilTeacherRatio        19.05000   20.200000   22.0000  \n",
       "pctLowerStatus           11.36000   16.955000   37.9700  \n",
       "medianValue_Ks           21.20000   25.000000   50.0000  "
      ]
     },
     "execution_count": 14,
     "metadata": {},
     "output_type": "execute_result"
    }
   ],
   "source": [
    "# Calculate basic statistics for the numeric columns\n",
    "renamedBostonData.describe(include=[np.number]).T"
   ]
  },
  {
   "cell_type": "code",
   "execution_count": 15,
   "metadata": {},
   "outputs": [],
   "source": [
    "# Divide the DataFrame into training and test sets\n",
    "X = renamedBostonData.drop('crimeRatePerCapita', axis = 1)\n",
    "y = renamedBostonData[['crimeRatePerCapita']]\n",
    "seed = 10\n",
    "test_data_size = 0.3\n",
    "X_train, X_test, y_train, y_test = train_test_split(X, y, test_size = test_data_size, random_state = seed)\n",
    "train_data = pd.concat([X_train, y_train], axis = 1)\n",
    "test_data = pd.concat([X_test, y_test], axis = 1)"
   ]
  },
  {
   "cell_type": "code",
   "execution_count": 16,
   "metadata": {},
   "outputs": [
    {
     "data": {
      "image/png": "[encoded data removed]",
      "text/plain": [
       "<Figure size 576x396 with 2 Axes>"
      ]
     },
     "execution_count": 16,
     "metadata": {},
     "output_type": "execute_result"
    },
    {
     "data": {
      "image/png": "[encoded data removed]",
      "text/plain": [
       "<Figure size 576x396 with 2 Axes>"
      ]
     },
     "metadata": {},
     "output_type": "display_data"
    }
   ],
   "source": [
    "# Calculate and plot a correlation matrix for the train_data set:\n",
    "corrMatrix = train_data.corr(method = 'pearson')\n",
    "xnames=list(train_data.columns)\n",
    "ynames=list(train_data.columns)\n",
    "plot_corr(corrMatrix, xnames=xnames, ynames=ynames,\\\n",
    "          title=None, normcolor=False, cmap='RdYlBu_r')"
   ]
  },
  {
   "cell_type": "markdown",
   "metadata": {},
   "source": [
    "## The Correlation Coefficient"
   ]
  },
  {
   "cell_type": "code",
   "execution_count": 17,
   "metadata": {},
   "outputs": [
    {
     "data": {
      "text/html": [
       "<div>\n",
       "<style scoped>\n",
       "    .dataframe tbody tr th:only-of-type {\n",
       "        vertical-align: middle;\n",
       "    }\n",
       "\n",
       "    .dataframe tbody tr th {\n",
       "        vertical-align: top;\n",
       "    }\n",
       "\n",
       "    .dataframe thead th {\n",
       "        text-align: right;\n",
       "    }\n",
       "</style>\n",
       "<table border=\"1\" class=\"dataframe\">\n",
       "  <thead>\n",
       "    <tr style=\"text-align: right;\">\n",
       "      <th></th>\n",
       "      <th>landOver25K_sqft</th>\n",
       "      <th>non-retailLandProptn</th>\n",
       "      <th>riverDummy</th>\n",
       "      <th>nitrixOxide_pp10m</th>\n",
       "      <th>AvgNo.RoomsPerDwelling</th>\n",
       "      <th>ProptnOwnerOccupied</th>\n",
       "      <th>weightedDist</th>\n",
       "      <th>radialHighwaysAccess</th>\n",
       "      <th>propTaxRate_per10K</th>\n",
       "      <th>pupilTeacherRatio</th>\n",
       "      <th>pctLowerStatus</th>\n",
       "      <th>medianValue_Ks</th>\n",
       "      <th>crimeRatePerCapita</th>\n",
       "    </tr>\n",
       "  </thead>\n",
       "  <tbody>\n",
       "    <tr>\n",
       "      <th>landOver25K_sqft</th>\n",
       "      <td>1.000000</td>\n",
       "      <td>-0.540095</td>\n",
       "      <td>-0.059189</td>\n",
       "      <td>-0.520305</td>\n",
       "      <td>0.355346</td>\n",
       "      <td>-0.577457</td>\n",
       "      <td>0.659340</td>\n",
       "      <td>-0.311920</td>\n",
       "      <td>-0.324172</td>\n",
       "      <td>-0.424612</td>\n",
       "      <td>-0.435827</td>\n",
       "      <td>0.422574</td>\n",
       "      <td>-0.198455</td>\n",
       "    </tr>\n",
       "    <tr>\n",
       "      <th>non-retailLandProptn</th>\n",
       "      <td>-0.540095</td>\n",
       "      <td>1.000000</td>\n",
       "      <td>0.065271</td>\n",
       "      <td>0.758178</td>\n",
       "      <td>-0.399166</td>\n",
       "      <td>0.667887</td>\n",
       "      <td>-0.728968</td>\n",
       "      <td>0.580813</td>\n",
       "      <td>0.702973</td>\n",
       "      <td>0.398513</td>\n",
       "      <td>0.607457</td>\n",
       "      <td>-0.508338</td>\n",
       "      <td>0.387471</td>\n",
       "    </tr>\n",
       "    <tr>\n",
       "      <th>riverDummy</th>\n",
       "      <td>-0.059189</td>\n",
       "      <td>0.065271</td>\n",
       "      <td>1.000000</td>\n",
       "      <td>0.091469</td>\n",
       "      <td>0.107996</td>\n",
       "      <td>0.106329</td>\n",
       "      <td>-0.098551</td>\n",
       "      <td>0.022731</td>\n",
       "      <td>-0.007864</td>\n",
       "      <td>-0.094255</td>\n",
       "      <td>-0.041110</td>\n",
       "      <td>0.136831</td>\n",
       "      <td>-0.044587</td>\n",
       "    </tr>\n",
       "    <tr>\n",
       "      <th>nitrixOxide_pp10m</th>\n",
       "      <td>-0.520305</td>\n",
       "      <td>0.758178</td>\n",
       "      <td>0.091469</td>\n",
       "      <td>1.000000</td>\n",
       "      <td>-0.306510</td>\n",
       "      <td>0.742016</td>\n",
       "      <td>-0.776311</td>\n",
       "      <td>0.606721</td>\n",
       "      <td>0.662164</td>\n",
       "      <td>0.206809</td>\n",
       "      <td>0.603656</td>\n",
       "      <td>-0.453424</td>\n",
       "      <td>0.405813</td>\n",
       "    </tr>\n",
       "    <tr>\n",
       "      <th>AvgNo.RoomsPerDwelling</th>\n",
       "      <td>0.355346</td>\n",
       "      <td>-0.399166</td>\n",
       "      <td>0.107996</td>\n",
       "      <td>-0.306510</td>\n",
       "      <td>1.000000</td>\n",
       "      <td>-0.263085</td>\n",
       "      <td>0.215439</td>\n",
       "      <td>-0.183000</td>\n",
       "      <td>-0.280341</td>\n",
       "      <td>-0.350828</td>\n",
       "      <td>-0.586573</td>\n",
       "      <td>0.666761</td>\n",
       "      <td>-0.167258</td>\n",
       "    </tr>\n",
       "    <tr>\n",
       "      <th>ProptnOwnerOccupied</th>\n",
       "      <td>-0.577457</td>\n",
       "      <td>0.667887</td>\n",
       "      <td>0.106329</td>\n",
       "      <td>0.742016</td>\n",
       "      <td>-0.263085</td>\n",
       "      <td>1.000000</td>\n",
       "      <td>-0.751059</td>\n",
       "      <td>0.458717</td>\n",
       "      <td>0.515376</td>\n",
       "      <td>0.289976</td>\n",
       "      <td>0.639881</td>\n",
       "      <td>-0.419062</td>\n",
       "      <td>0.355730</td>\n",
       "    </tr>\n",
       "    <tr>\n",
       "      <th>weightedDist</th>\n",
       "      <td>0.659340</td>\n",
       "      <td>-0.728968</td>\n",
       "      <td>-0.098551</td>\n",
       "      <td>-0.776311</td>\n",
       "      <td>0.215439</td>\n",
       "      <td>-0.751059</td>\n",
       "      <td>1.000000</td>\n",
       "      <td>-0.494932</td>\n",
       "      <td>-0.543333</td>\n",
       "      <td>-0.259140</td>\n",
       "      <td>-0.522120</td>\n",
       "      <td>0.289658</td>\n",
       "      <td>-0.378997</td>\n",
       "    </tr>\n",
       "    <tr>\n",
       "      <th>radialHighwaysAccess</th>\n",
       "      <td>-0.311920</td>\n",
       "      <td>0.580813</td>\n",
       "      <td>0.022731</td>\n",
       "      <td>0.606721</td>\n",
       "      <td>-0.183000</td>\n",
       "      <td>0.458717</td>\n",
       "      <td>-0.494932</td>\n",
       "      <td>1.000000</td>\n",
       "      <td>0.908578</td>\n",
       "      <td>0.462290</td>\n",
       "      <td>0.456592</td>\n",
       "      <td>-0.383132</td>\n",
       "      <td>0.608838</td>\n",
       "    </tr>\n",
       "    <tr>\n",
       "      <th>propTaxRate_per10K</th>\n",
       "      <td>-0.324172</td>\n",
       "      <td>0.702973</td>\n",
       "      <td>-0.007864</td>\n",
       "      <td>0.662164</td>\n",
       "      <td>-0.280341</td>\n",
       "      <td>0.515376</td>\n",
       "      <td>-0.543333</td>\n",
       "      <td>0.908578</td>\n",
       "      <td>1.000000</td>\n",
       "      <td>0.462556</td>\n",
       "      <td>0.528029</td>\n",
       "      <td>-0.478903</td>\n",
       "      <td>0.565035</td>\n",
       "    </tr>\n",
       "    <tr>\n",
       "      <th>pupilTeacherRatio</th>\n",
       "      <td>-0.424612</td>\n",
       "      <td>0.398513</td>\n",
       "      <td>-0.094255</td>\n",
       "      <td>0.206809</td>\n",
       "      <td>-0.350828</td>\n",
       "      <td>0.289976</td>\n",
       "      <td>-0.259140</td>\n",
       "      <td>0.462290</td>\n",
       "      <td>0.462556</td>\n",
       "      <td>1.000000</td>\n",
       "      <td>0.374842</td>\n",
       "      <td>-0.503692</td>\n",
       "      <td>0.276530</td>\n",
       "    </tr>\n",
       "    <tr>\n",
       "      <th>pctLowerStatus</th>\n",
       "      <td>-0.435827</td>\n",
       "      <td>0.607457</td>\n",
       "      <td>-0.041110</td>\n",
       "      <td>0.603656</td>\n",
       "      <td>-0.586573</td>\n",
       "      <td>0.639881</td>\n",
       "      <td>-0.522120</td>\n",
       "      <td>0.456592</td>\n",
       "      <td>0.528029</td>\n",
       "      <td>0.374842</td>\n",
       "      <td>1.000000</td>\n",
       "      <td>-0.743548</td>\n",
       "      <td>0.406340</td>\n",
       "    </tr>\n",
       "    <tr>\n",
       "      <th>medianValue_Ks</th>\n",
       "      <td>0.422574</td>\n",
       "      <td>-0.508338</td>\n",
       "      <td>0.136831</td>\n",
       "      <td>-0.453424</td>\n",
       "      <td>0.666761</td>\n",
       "      <td>-0.419062</td>\n",
       "      <td>0.289658</td>\n",
       "      <td>-0.383132</td>\n",
       "      <td>-0.478903</td>\n",
       "      <td>-0.503692</td>\n",
       "      <td>-0.743548</td>\n",
       "      <td>1.000000</td>\n",
       "      <td>-0.378949</td>\n",
       "    </tr>\n",
       "    <tr>\n",
       "      <th>crimeRatePerCapita</th>\n",
       "      <td>-0.198455</td>\n",
       "      <td>0.387471</td>\n",
       "      <td>-0.044587</td>\n",
       "      <td>0.405813</td>\n",
       "      <td>-0.167258</td>\n",
       "      <td>0.355730</td>\n",
       "      <td>-0.378997</td>\n",
       "      <td>0.608838</td>\n",
       "      <td>0.565035</td>\n",
       "      <td>0.276530</td>\n",
       "      <td>0.406340</td>\n",
       "      <td>-0.378949</td>\n",
       "      <td>1.000000</td>\n",
       "    </tr>\n",
       "  </tbody>\n",
       "</table>\n",
       "</div>"
      ],
      "text/plain": [
       "                        landOver25K_sqft  non-retailLandProptn  riverDummy  \\\n",
       "landOver25K_sqft                1.000000             -0.540095   -0.059189   \n",
       "non-retailLandProptn           -0.540095              1.000000    0.065271   \n",
       "riverDummy                     -0.059189              0.065271    1.000000   \n",
       "nitrixOxide_pp10m              -0.520305              0.758178    0.091469   \n",
       "AvgNo.RoomsPerDwelling          0.355346             -0.399166    0.107996   \n",
       "ProptnOwnerOccupied            -0.577457              0.667887    0.106329   \n",
       "weightedDist                    0.659340             -0.728968   -0.098551   \n",
       "radialHighwaysAccess           -0.311920              0.580813    0.022731   \n",
       "propTaxRate_per10K             -0.324172              0.702973   -0.007864   \n",
       "pupilTeacherRatio              -0.424612              0.398513   -0.094255   \n",
       "pctLowerStatus                 -0.435827              0.607457   -0.041110   \n",
       "medianValue_Ks                  0.422574             -0.508338    0.136831   \n",
       "crimeRatePerCapita             -0.198455              0.387471   -0.044587   \n",
       "\n",
       "                        nitrixOxide_pp10m  AvgNo.RoomsPerDwelling  \\\n",
       "landOver25K_sqft                -0.520305                0.355346   \n",
       "non-retailLandProptn             0.758178               -0.399166   \n",
       "riverDummy                       0.091469                0.107996   \n",
       "nitrixOxide_pp10m                1.000000               -0.306510   \n",
       "AvgNo.RoomsPerDwelling          -0.306510                1.000000   \n",
       "ProptnOwnerOccupied              0.742016               -0.263085   \n",
       "weightedDist                    -0.776311                0.215439   \n",
       "radialHighwaysAccess             0.606721               -0.183000   \n",
       "propTaxRate_per10K               0.662164               -0.280341   \n",
       "pupilTeacherRatio                0.206809               -0.350828   \n",
       "pctLowerStatus                   0.603656               -0.586573   \n",
       "medianValue_Ks                  -0.453424                0.666761   \n",
       "crimeRatePerCapita               0.405813               -0.167258   \n",
       "\n",
       "                        ProptnOwnerOccupied  weightedDist  \\\n",
       "landOver25K_sqft                  -0.577457      0.659340   \n",
       "non-retailLandProptn               0.667887     -0.728968   \n",
       "riverDummy                         0.106329     -0.098551   \n",
       "nitrixOxide_pp10m                  0.742016     -0.776311   \n",
       "AvgNo.RoomsPerDwelling            -0.263085      0.215439   \n",
       "ProptnOwnerOccupied                1.000000     -0.751059   \n",
       "weightedDist                      -0.751059      1.000000   \n",
       "radialHighwaysAccess               0.458717     -0.494932   \n",
       "propTaxRate_per10K                 0.515376     -0.543333   \n",
       "pupilTeacherRatio                  0.289976     -0.259140   \n",
       "pctLowerStatus                     0.639881     -0.522120   \n",
       "medianValue_Ks                    -0.419062      0.289658   \n",
       "crimeRatePerCapita                 0.355730     -0.378997   \n",
       "\n",
       "                        radialHighwaysAccess  propTaxRate_per10K  \\\n",
       "landOver25K_sqft                   -0.311920           -0.324172   \n",
       "non-retailLandProptn                0.580813            0.702973   \n",
       "riverDummy                          0.022731           -0.007864   \n",
       "nitrixOxide_pp10m                   0.606721            0.662164   \n",
       "AvgNo.RoomsPerDwelling             -0.183000           -0.280341   \n",
       "ProptnOwnerOccupied                 0.458717            0.515376   \n",
       "weightedDist                       -0.494932           -0.543333   \n",
       "radialHighwaysAccess                1.000000            0.908578   \n",
       "propTaxRate_per10K                  0.908578            1.000000   \n",
       "pupilTeacherRatio                   0.462290            0.462556   \n",
       "pctLowerStatus                      0.456592            0.528029   \n",
       "medianValue_Ks                     -0.383132           -0.478903   \n",
       "crimeRatePerCapita                  0.608838            0.565035   \n",
       "\n",
       "                        pupilTeacherRatio  pctLowerStatus  medianValue_Ks  \\\n",
       "landOver25K_sqft                -0.424612       -0.435827        0.422574   \n",
       "non-retailLandProptn             0.398513        0.607457       -0.508338   \n",
       "riverDummy                      -0.094255       -0.041110        0.136831   \n",
       "nitrixOxide_pp10m                0.206809        0.603656       -0.453424   \n",
       "AvgNo.RoomsPerDwelling          -0.350828       -0.586573        0.666761   \n",
       "ProptnOwnerOccupied              0.289976        0.639881       -0.419062   \n",
       "weightedDist                    -0.259140       -0.522120        0.289658   \n",
       "radialHighwaysAccess             0.462290        0.456592       -0.383132   \n",
       "propTaxRate_per10K               0.462556        0.528029       -0.478903   \n",
       "pupilTeacherRatio                1.000000        0.374842       -0.503692   \n",
       "pctLowerStatus                   0.374842        1.000000       -0.743548   \n",
       "medianValue_Ks                  -0.503692       -0.743548        1.000000   \n",
       "crimeRatePerCapita               0.276530        0.406340       -0.378949   \n",
       "\n",
       "                        crimeRatePerCapita  \n",
       "landOver25K_sqft                 -0.198455  \n",
       "non-retailLandProptn              0.387471  \n",
       "riverDummy                       -0.044587  \n",
       "nitrixOxide_pp10m                 0.405813  \n",
       "AvgNo.RoomsPerDwelling           -0.167258  \n",
       "ProptnOwnerOccupied               0.355730  \n",
       "weightedDist                     -0.378997  \n",
       "radialHighwaysAccess              0.608838  \n",
       "propTaxRate_per10K                0.565035  \n",
       "pupilTeacherRatio                 0.276530  \n",
       "pctLowerStatus                    0.406340  \n",
       "medianValue_Ks                   -0.378949  \n",
       "crimeRatePerCapita                1.000000  "
      ]
     },
     "execution_count": 17,
     "metadata": {},
     "output_type": "execute_result"
    }
   ],
   "source": [
    "# Pandas provides a corr function, which when called on DataFrame provides a matrix (table) of the correlation \n",
    "#of all numeric data types.\n",
    "corrMatrix"
   ]
  },
  {
   "cell_type": "markdown",
   "metadata": {},
   "source": [
    "## Graphical Investigation of Linear Relationships Using Python"
   ]
  },
  {
   "cell_type": "code",
   "execution_count": 18,
   "metadata": {},
   "outputs": [
    {
     "data": {
      "image/png": "[encoded data removed]",
      "text/plain": [
       "<Figure size 720x432 with 1 Axes>"
      ]
     },
     "metadata": {},
     "output_type": "display_data"
    }
   ],
   "source": [
    "# Using the subplots function in matplotlib to define a canvas (assigned the variable name fig in the following\n",
    "#code) and a graph object (assigned the variable name ax in the following code) in Python. \n",
    "# You can set the size of the graph by setting the figsize (width = 10, height = 6) argument of the function:\n",
    "fig, ax = plt.subplots(figsize=(10, 6))\n",
    "# Use the seaborn function regplot to create the scatter plot:\n",
    "sns.regplot(x='medianValue_Ks', y='crimeRatePerCapita', ci=None, data=train_data, ax=ax, color='k', scatter_kws={\"s\": 20,\"color\": \"royalblue\", \"alpha\":1})\n",
    "# Set the x and y labels, the fontsize and name labels, the x and y limits, and the tick parameters of the \n",
    "#matplotlib graph object (arex). Also, set the layout of the canvas to tight:\n",
    "ax.set_ylabel('Crime rate per Capita', fontsize=15, fontname='DejaVu Sans')\n",
    "ax.set_xlabel(\"Median value of owner-occupied homes in $1000's\", fontsize=15, fontname='DejaVu Sans')\n",
    "ax.set_xlim(left=None, right=None)\n",
    "ax.set_ylim(bottom=None, top=30)\n",
    "ax.tick_params(axis='both', which='major', labelsize=12)\n",
    "fig.tight_layout()"
   ]
  },
  {
   "cell_type": "markdown",
   "metadata": {},
   "source": [
    "### Examining a Possible Log-Linear Relationship Using Python"
   ]
  },
  {
   "cell_type": "code",
   "execution_count": 19,
   "metadata": {},
   "outputs": [],
   "source": [
    "# We will use the logarithm function to transform variables and investigate whether this helps provide\n",
    "#a better fit of the regression line to the data. \n",
    "# We will also look at how to use confidence intervals by including a 95% confidence interval of the regression \n",
    "#coefficients on the plot."
   ]
  },
  {
   "cell_type": "code",
   "execution_count": 20,
   "metadata": {},
   "outputs": [
    {
     "data": {
      "image/png": "[encoded data removed]",
      "text/plain": [
       "<Figure size 720x432 with 1 Axes>"
      ]
     },
     "metadata": {},
     "output_type": "display_data"
    }
   ],
   "source": [
    "# Use the subplots function in matplotlib to define a canvas and a graph object in Python:\n",
    "fig, ax = plt.subplots(figsize=(10, 6))\n",
    "\n",
    "# Use the logarithm function in numpy (np.log) to transform the dependent variable (y). \n",
    "# This essentially creates a new variable, log(y):\n",
    "y = np.log(train_data['crimeRatePerCapita'])\n",
    "\n",
    "# Use the seaborn regplot function to create the scatter plot.\n",
    "# Parse the y argument with the new variable we defined in the preceding step. \n",
    "# The x argument is the original variable from the DataFrame without any transformation:\n",
    "sns.regplot(x='medianValue_Ks', y=y, ci=95, data=train_data, ax=ax, color='k', scatter_kws={\"s\": 20,\"color\": \"royalblue\", \"alpha\":1})\n",
    "\n",
    "# Set the x and y labels, the fontsize and name labels, the x and y limits, and the tick parameters of the \n",
    "#matplotlib graph object (ax). Also, set the layout of the canvas to tight:\n",
    "ax.set_ylabel('log of Crime rate per Capita', fontsize=15, fontname='DejaVu Sans')\n",
    "ax.set_xlabel(\"Median value of owner-occupied homes in $1000's\", fontsize=15, fontname='DejaVu Sans')\n",
    "ax.set_xlim(left=None, right=None)\n",
    "ax.set_ylim(bottom=None, top=None)\n",
    "ax.tick_params(axis='both', which='major', labelsize=12)\n",
    "fig.tight_layout()"
   ]
  },
  {
   "cell_type": "markdown",
   "metadata": {},
   "source": [
    "### The Statsmodels formula API"
   ]
  },
  {
   "cell_type": "code",
   "execution_count": 21,
   "metadata": {},
   "outputs": [],
   "source": [
    "# Using statsmodel to find the relationship between the crime rate per capita and \n",
    "#the median value of owner-occupied homes.\n",
    "# Finding the intercept and the slope of the straight-line relationship\n",
    "# Python provides a rich Application Programming Interface (API) for doing this easily. \n",
    "# The statsmodels formula API enables the data scientist to use the formula language to \n",
    "#define regression models that can be found in statistics literature and many dedicated \n",
    "#statistical computer packages."
   ]
  },
  {
   "cell_type": "markdown",
   "metadata": {},
   "source": [
    "### Fitting a Simple Linear Regression Model Using the Statsmodels formula API"
   ]
  },
  {
   "cell_type": "code",
   "execution_count": 22,
   "metadata": {},
   "outputs": [],
   "source": [
    "# Examining a simple linear regression model where the crime rate per capita is the dependent variable \n",
    "#and the median value of owner-occupied homes is the independent variable. \n",
    "# We use the statsmodels formula API to create a linear regression model for Python to analyze."
   ]
  },
  {
   "cell_type": "code",
   "execution_count": 23,
   "metadata": {},
   "outputs": [],
   "source": [
    "# Import modules \n",
    "import pandas as pd\n",
    "import statsmodels.formula.api as smf\n",
    "from sklearn.model_selection import train_test_split"
   ]
  },
  {
   "cell_type": "code",
   "execution_count": 24,
   "metadata": {},
   "outputs": [
    {
     "data": {
      "text/html": [
       "<div>\n",
       "<style scoped>\n",
       "    .dataframe tbody tr th:only-of-type {\n",
       "        vertical-align: middle;\n",
       "    }\n",
       "\n",
       "    .dataframe tbody tr th {\n",
       "        vertical-align: top;\n",
       "    }\n",
       "\n",
       "    .dataframe thead th {\n",
       "        text-align: right;\n",
       "    }\n",
       "</style>\n",
       "<table border=\"1\" class=\"dataframe\">\n",
       "  <thead>\n",
       "    <tr style=\"text-align: right;\">\n",
       "      <th></th>\n",
       "      <th>CRIM</th>\n",
       "      <th>ZN</th>\n",
       "      <th>INDUS</th>\n",
       "      <th>CHAS</th>\n",
       "      <th>NOX</th>\n",
       "      <th>RM</th>\n",
       "      <th>AGE</th>\n",
       "      <th>DIS</th>\n",
       "      <th>RAD</th>\n",
       "      <th>TAX</th>\n",
       "      <th>PTRATIO</th>\n",
       "      <th>LSTAT</th>\n",
       "      <th>MEDV</th>\n",
       "    </tr>\n",
       "  </thead>\n",
       "  <tbody>\n",
       "    <tr>\n",
       "      <th>0</th>\n",
       "      <td>0.00632</td>\n",
       "      <td>18.0</td>\n",
       "      <td>2.31</td>\n",
       "      <td>0</td>\n",
       "      <td>0.538</td>\n",
       "      <td>6.575</td>\n",
       "      <td>65.2</td>\n",
       "      <td>4.0900</td>\n",
       "      <td>1</td>\n",
       "      <td>296</td>\n",
       "      <td>15.3</td>\n",
       "      <td>4.98</td>\n",
       "      <td>24.0</td>\n",
       "    </tr>\n",
       "    <tr>\n",
       "      <th>1</th>\n",
       "      <td>0.02731</td>\n",
       "      <td>0.0</td>\n",
       "      <td>7.07</td>\n",
       "      <td>0</td>\n",
       "      <td>0.469</td>\n",
       "      <td>6.421</td>\n",
       "      <td>78.9</td>\n",
       "      <td>4.9671</td>\n",
       "      <td>2</td>\n",
       "      <td>242</td>\n",
       "      <td>17.8</td>\n",
       "      <td>9.14</td>\n",
       "      <td>21.6</td>\n",
       "    </tr>\n",
       "    <tr>\n",
       "      <th>2</th>\n",
       "      <td>0.02729</td>\n",
       "      <td>0.0</td>\n",
       "      <td>7.07</td>\n",
       "      <td>0</td>\n",
       "      <td>0.469</td>\n",
       "      <td>7.185</td>\n",
       "      <td>61.1</td>\n",
       "      <td>4.9671</td>\n",
       "      <td>2</td>\n",
       "      <td>242</td>\n",
       "      <td>17.8</td>\n",
       "      <td>4.03</td>\n",
       "      <td>34.7</td>\n",
       "    </tr>\n",
       "    <tr>\n",
       "      <th>3</th>\n",
       "      <td>0.03237</td>\n",
       "      <td>0.0</td>\n",
       "      <td>2.18</td>\n",
       "      <td>0</td>\n",
       "      <td>0.458</td>\n",
       "      <td>6.998</td>\n",
       "      <td>45.8</td>\n",
       "      <td>6.0622</td>\n",
       "      <td>3</td>\n",
       "      <td>222</td>\n",
       "      <td>18.7</td>\n",
       "      <td>2.94</td>\n",
       "      <td>33.4</td>\n",
       "    </tr>\n",
       "  </tbody>\n",
       "</table>\n",
       "</div>"
      ],
      "text/plain": [
       "      CRIM   ZN   INDUS   CHAS    NOX     RM   AGE     DIS  RAD  TAX  PTRATIO  \\\n",
       "0  0.00632  18.0    2.31     0  0.538  6.575  65.2  4.0900    1  296     15.3   \n",
       "1  0.02731   0.0    7.07     0  0.469  6.421  78.9  4.9671    2  242     17.8   \n",
       "2  0.02729   0.0    7.07     0  0.469  7.185  61.1  4.9671    2  242     17.8   \n",
       "3  0.03237   0.0    2.18     0  0.458  6.998  45.8  6.0622    3  222     18.7   \n",
       "\n",
       "   LSTAT  MEDV  \n",
       "0   4.98  24.0  \n",
       "1   9.14  21.6  \n",
       "2   4.03  34.7  \n",
       "3   2.94  33.4  "
      ]
     },
     "execution_count": 24,
     "metadata": {},
     "output_type": "execute_result"
    }
   ],
   "source": [
    "rawBostonData = pd.read_csv('Boston.csv')\n",
    "rawBostonData.head(4)"
   ]
  },
  {
   "cell_type": "code",
   "execution_count": 25,
   "metadata": {},
   "outputs": [],
   "source": [
    "# Check for missing values (null values) in the DataFrame\n",
    "rawBostonData = rawBostonData.dropna()"
   ]
  },
  {
   "cell_type": "code",
   "execution_count": 26,
   "metadata": {},
   "outputs": [
    {
     "data": {
      "text/plain": [
       "['CRIM',\n",
       " ' ZN ',\n",
       " 'INDUS ',\n",
       " 'CHAS',\n",
       " 'NOX',\n",
       " 'RM',\n",
       " 'AGE',\n",
       " 'DIS',\n",
       " 'RAD',\n",
       " 'TAX',\n",
       " 'PTRATIO',\n",
       " 'LSTAT',\n",
       " 'MEDV']"
      ]
     },
     "execution_count": 26,
     "metadata": {},
     "output_type": "execute_result"
    }
   ],
   "source": [
    "# List the column names of the DataFrame so that you can examine the fields in your dataset\n",
    "list(rawBostonData.columns)"
   ]
  },
  {
   "cell_type": "code",
   "execution_count": 27,
   "metadata": {},
   "outputs": [
    {
     "data": {
      "text/html": [
       "<div>\n",
       "<style scoped>\n",
       "    .dataframe tbody tr th:only-of-type {\n",
       "        vertical-align: middle;\n",
       "    }\n",
       "\n",
       "    .dataframe tbody tr th {\n",
       "        vertical-align: top;\n",
       "    }\n",
       "\n",
       "    .dataframe thead th {\n",
       "        text-align: right;\n",
       "    }\n",
       "</style>\n",
       "<table border=\"1\" class=\"dataframe\">\n",
       "  <thead>\n",
       "    <tr style=\"text-align: right;\">\n",
       "      <th></th>\n",
       "      <th>crimeRatePerCapita</th>\n",
       "      <th>landOver25K_sqft</th>\n",
       "      <th>non-retailLandProptn</th>\n",
       "      <th>riverDummy</th>\n",
       "      <th>nitrixOxide_pp10m</th>\n",
       "      <th>AvgNo.RoomsPerDwelling</th>\n",
       "      <th>ProptnOwnerOccupied</th>\n",
       "      <th>weightedDist</th>\n",
       "      <th>radialHighwaysAccess</th>\n",
       "      <th>propTaxRate_per10K</th>\n",
       "      <th>pupilTeacherRatio</th>\n",
       "      <th>pctLowerStatus</th>\n",
       "      <th>medianValue_Ks</th>\n",
       "    </tr>\n",
       "  </thead>\n",
       "  <tbody>\n",
       "    <tr>\n",
       "      <th>0</th>\n",
       "      <td>0.00632</td>\n",
       "      <td>18.0</td>\n",
       "      <td>2.31</td>\n",
       "      <td>0</td>\n",
       "      <td>0.538</td>\n",
       "      <td>6.575</td>\n",
       "      <td>65.2</td>\n",
       "      <td>4.0900</td>\n",
       "      <td>1</td>\n",
       "      <td>296</td>\n",
       "      <td>15.3</td>\n",
       "      <td>4.98</td>\n",
       "      <td>24.0</td>\n",
       "    </tr>\n",
       "    <tr>\n",
       "      <th>1</th>\n",
       "      <td>0.02731</td>\n",
       "      <td>0.0</td>\n",
       "      <td>7.07</td>\n",
       "      <td>0</td>\n",
       "      <td>0.469</td>\n",
       "      <td>6.421</td>\n",
       "      <td>78.9</td>\n",
       "      <td>4.9671</td>\n",
       "      <td>2</td>\n",
       "      <td>242</td>\n",
       "      <td>17.8</td>\n",
       "      <td>9.14</td>\n",
       "      <td>21.6</td>\n",
       "    </tr>\n",
       "    <tr>\n",
       "      <th>2</th>\n",
       "      <td>0.02729</td>\n",
       "      <td>0.0</td>\n",
       "      <td>7.07</td>\n",
       "      <td>0</td>\n",
       "      <td>0.469</td>\n",
       "      <td>7.185</td>\n",
       "      <td>61.1</td>\n",
       "      <td>4.9671</td>\n",
       "      <td>2</td>\n",
       "      <td>242</td>\n",
       "      <td>17.8</td>\n",
       "      <td>4.03</td>\n",
       "      <td>34.7</td>\n",
       "    </tr>\n",
       "    <tr>\n",
       "      <th>3</th>\n",
       "      <td>0.03237</td>\n",
       "      <td>0.0</td>\n",
       "      <td>2.18</td>\n",
       "      <td>0</td>\n",
       "      <td>0.458</td>\n",
       "      <td>6.998</td>\n",
       "      <td>45.8</td>\n",
       "      <td>6.0622</td>\n",
       "      <td>3</td>\n",
       "      <td>222</td>\n",
       "      <td>18.7</td>\n",
       "      <td>2.94</td>\n",
       "      <td>33.4</td>\n",
       "    </tr>\n",
       "    <tr>\n",
       "      <th>4</th>\n",
       "      <td>0.06905</td>\n",
       "      <td>0.0</td>\n",
       "      <td>2.18</td>\n",
       "      <td>0</td>\n",
       "      <td>0.458</td>\n",
       "      <td>7.147</td>\n",
       "      <td>54.2</td>\n",
       "      <td>6.0622</td>\n",
       "      <td>3</td>\n",
       "      <td>222</td>\n",
       "      <td>18.7</td>\n",
       "      <td>5.33</td>\n",
       "      <td>36.2</td>\n",
       "    </tr>\n",
       "  </tbody>\n",
       "</table>\n",
       "</div>"
      ],
      "text/plain": [
       "   crimeRatePerCapita  landOver25K_sqft  non-retailLandProptn  riverDummy  \\\n",
       "0             0.00632              18.0                  2.31           0   \n",
       "1             0.02731               0.0                  7.07           0   \n",
       "2             0.02729               0.0                  7.07           0   \n",
       "3             0.03237               0.0                  2.18           0   \n",
       "4             0.06905               0.0                  2.18           0   \n",
       "\n",
       "   nitrixOxide_pp10m  AvgNo.RoomsPerDwelling  ProptnOwnerOccupied  \\\n",
       "0              0.538                   6.575                 65.2   \n",
       "1              0.469                   6.421                 78.9   \n",
       "2              0.469                   7.185                 61.1   \n",
       "3              0.458                   6.998                 45.8   \n",
       "4              0.458                   7.147                 54.2   \n",
       "\n",
       "   weightedDist  radialHighwaysAccess  propTaxRate_per10K  pupilTeacherRatio  \\\n",
       "0        4.0900                     1                 296               15.3   \n",
       "1        4.9671                     2                 242               17.8   \n",
       "2        4.9671                     2                 242               17.8   \n",
       "3        6.0622                     3                 222               18.7   \n",
       "4        6.0622                     3                 222               18.7   \n",
       "\n",
       "   pctLowerStatus  medianValue_Ks  \n",
       "0            4.98            24.0  \n",
       "1            9.14            21.6  \n",
       "2            4.03            34.7  \n",
       "3            2.94            33.4  \n",
       "4            5.33            36.2  "
      ]
     },
     "execution_count": 27,
     "metadata": {},
     "output_type": "execute_result"
    }
   ],
   "source": [
    "# Rename the DataFrame columns so that they are meaningful\n",
    "renamedBostonData = rawBostonData.rename(columns = {'CRIM':'crimeRatePerCapita', \n",
    " ' ZN ':'landOver25K_sqft', \n",
    " 'INDUS ':'non-retailLandProptn', \n",
    " 'CHAS':'riverDummy', \n",
    " 'NOX':'nitrixOxide_pp10m', \n",
    " 'RM':'AvgNo.RoomsPerDwelling', \n",
    " 'AGE':'ProptnOwnerOccupied', \n",
    " 'DIS':'weightedDist', \n",
    " 'RAD':'radialHighwaysAccess', \n",
    " 'TAX':'propTaxRate_per10K', \n",
    " 'PTRATIO':'pupilTeacherRatio', \n",
    " 'LSTAT':'pctLowerStatus', \n",
    " 'MEDV':'medianValue_Ks'}) \n",
    "renamedBostonData.head() "
   ]
  },
  {
   "cell_type": "code",
   "execution_count": 28,
   "metadata": {},
   "outputs": [
    {
     "name": "stdout",
     "output_type": "stream",
     "text": [
      "<class 'pandas.core.frame.DataFrame'>\n",
      "Int64Index: 506 entries, 0 to 505\n",
      "Data columns (total 13 columns):\n",
      " #   Column                  Non-Null Count  Dtype  \n",
      "---  ------                  --------------  -----  \n",
      " 0   crimeRatePerCapita      506 non-null    float64\n",
      " 1   landOver25K_sqft        506 non-null    float64\n",
      " 2   non-retailLandProptn    506 non-null    float64\n",
      " 3   riverDummy              506 non-null    int64  \n",
      " 4   nitrixOxide_pp10m       506 non-null    float64\n",
      " 5   AvgNo.RoomsPerDwelling  506 non-null    float64\n",
      " 6   ProptnOwnerOccupied     506 non-null    float64\n",
      " 7   weightedDist            506 non-null    float64\n",
      " 8   radialHighwaysAccess    506 non-null    int64  \n",
      " 9   propTaxRate_per10K      506 non-null    int64  \n",
      " 10  pupilTeacherRatio       506 non-null    float64\n",
      " 11  pctLowerStatus          506 non-null    float64\n",
      " 12  medianValue_Ks          506 non-null    float64\n",
      "dtypes: float64(10), int64(3)\n",
      "memory usage: 55.3 KB\n"
     ]
    }
   ],
   "source": [
    "# Inspect the data types of the columns in your DataFrame using the .info() function:\n",
    "renamedBostonData.info()"
   ]
  },
  {
   "cell_type": "code",
   "execution_count": 29,
   "metadata": {},
   "outputs": [
    {
     "data": {
      "text/html": [
       "<div>\n",
       "<style scoped>\n",
       "    .dataframe tbody tr th:only-of-type {\n",
       "        vertical-align: middle;\n",
       "    }\n",
       "\n",
       "    .dataframe tbody tr th {\n",
       "        vertical-align: top;\n",
       "    }\n",
       "\n",
       "    .dataframe thead th {\n",
       "        text-align: right;\n",
       "    }\n",
       "</style>\n",
       "<table border=\"1\" class=\"dataframe\">\n",
       "  <thead>\n",
       "    <tr style=\"text-align: right;\">\n",
       "      <th></th>\n",
       "      <th>count</th>\n",
       "      <th>mean</th>\n",
       "      <th>std</th>\n",
       "      <th>min</th>\n",
       "      <th>25%</th>\n",
       "      <th>50%</th>\n",
       "      <th>75%</th>\n",
       "      <th>max</th>\n",
       "    </tr>\n",
       "  </thead>\n",
       "  <tbody>\n",
       "    <tr>\n",
       "      <th>crimeRatePerCapita</th>\n",
       "      <td>506.0</td>\n",
       "      <td>3.613524</td>\n",
       "      <td>8.601545</td>\n",
       "      <td>0.00632</td>\n",
       "      <td>0.082045</td>\n",
       "      <td>0.25651</td>\n",
       "      <td>3.677082</td>\n",
       "      <td>88.9762</td>\n",
       "    </tr>\n",
       "    <tr>\n",
       "      <th>landOver25K_sqft</th>\n",
       "      <td>506.0</td>\n",
       "      <td>11.363636</td>\n",
       "      <td>23.322453</td>\n",
       "      <td>0.00000</td>\n",
       "      <td>0.000000</td>\n",
       "      <td>0.00000</td>\n",
       "      <td>12.500000</td>\n",
       "      <td>100.0000</td>\n",
       "    </tr>\n",
       "    <tr>\n",
       "      <th>non-retailLandProptn</th>\n",
       "      <td>506.0</td>\n",
       "      <td>11.136779</td>\n",
       "      <td>6.860353</td>\n",
       "      <td>0.46000</td>\n",
       "      <td>5.190000</td>\n",
       "      <td>9.69000</td>\n",
       "      <td>18.100000</td>\n",
       "      <td>27.7400</td>\n",
       "    </tr>\n",
       "    <tr>\n",
       "      <th>riverDummy</th>\n",
       "      <td>506.0</td>\n",
       "      <td>0.069170</td>\n",
       "      <td>0.253994</td>\n",
       "      <td>0.00000</td>\n",
       "      <td>0.000000</td>\n",
       "      <td>0.00000</td>\n",
       "      <td>0.000000</td>\n",
       "      <td>1.0000</td>\n",
       "    </tr>\n",
       "    <tr>\n",
       "      <th>nitrixOxide_pp10m</th>\n",
       "      <td>506.0</td>\n",
       "      <td>0.554695</td>\n",
       "      <td>0.115878</td>\n",
       "      <td>0.38500</td>\n",
       "      <td>0.449000</td>\n",
       "      <td>0.53800</td>\n",
       "      <td>0.624000</td>\n",
       "      <td>0.8710</td>\n",
       "    </tr>\n",
       "    <tr>\n",
       "      <th>AvgNo.RoomsPerDwelling</th>\n",
       "      <td>506.0</td>\n",
       "      <td>6.284634</td>\n",
       "      <td>0.702617</td>\n",
       "      <td>3.56100</td>\n",
       "      <td>5.885500</td>\n",
       "      <td>6.20850</td>\n",
       "      <td>6.623500</td>\n",
       "      <td>8.7800</td>\n",
       "    </tr>\n",
       "    <tr>\n",
       "      <th>ProptnOwnerOccupied</th>\n",
       "      <td>506.0</td>\n",
       "      <td>68.574901</td>\n",
       "      <td>28.148861</td>\n",
       "      <td>2.90000</td>\n",
       "      <td>45.025000</td>\n",
       "      <td>77.50000</td>\n",
       "      <td>94.075000</td>\n",
       "      <td>100.0000</td>\n",
       "    </tr>\n",
       "    <tr>\n",
       "      <th>weightedDist</th>\n",
       "      <td>506.0</td>\n",
       "      <td>3.795043</td>\n",
       "      <td>2.105710</td>\n",
       "      <td>1.12960</td>\n",
       "      <td>2.100175</td>\n",
       "      <td>3.20745</td>\n",
       "      <td>5.188425</td>\n",
       "      <td>12.1265</td>\n",
       "    </tr>\n",
       "    <tr>\n",
       "      <th>radialHighwaysAccess</th>\n",
       "      <td>506.0</td>\n",
       "      <td>9.549407</td>\n",
       "      <td>8.707259</td>\n",
       "      <td>1.00000</td>\n",
       "      <td>4.000000</td>\n",
       "      <td>5.00000</td>\n",
       "      <td>24.000000</td>\n",
       "      <td>24.0000</td>\n",
       "    </tr>\n",
       "    <tr>\n",
       "      <th>propTaxRate_per10K</th>\n",
       "      <td>506.0</td>\n",
       "      <td>408.237154</td>\n",
       "      <td>168.537116</td>\n",
       "      <td>187.00000</td>\n",
       "      <td>279.000000</td>\n",
       "      <td>330.00000</td>\n",
       "      <td>666.000000</td>\n",
       "      <td>711.0000</td>\n",
       "    </tr>\n",
       "    <tr>\n",
       "      <th>pupilTeacherRatio</th>\n",
       "      <td>506.0</td>\n",
       "      <td>18.455534</td>\n",
       "      <td>2.164946</td>\n",
       "      <td>12.60000</td>\n",
       "      <td>17.400000</td>\n",
       "      <td>19.05000</td>\n",
       "      <td>20.200000</td>\n",
       "      <td>22.0000</td>\n",
       "    </tr>\n",
       "    <tr>\n",
       "      <th>pctLowerStatus</th>\n",
       "      <td>506.0</td>\n",
       "      <td>12.653063</td>\n",
       "      <td>7.141062</td>\n",
       "      <td>1.73000</td>\n",
       "      <td>6.950000</td>\n",
       "      <td>11.36000</td>\n",
       "      <td>16.955000</td>\n",
       "      <td>37.9700</td>\n",
       "    </tr>\n",
       "    <tr>\n",
       "      <th>medianValue_Ks</th>\n",
       "      <td>506.0</td>\n",
       "      <td>22.532806</td>\n",
       "      <td>9.197104</td>\n",
       "      <td>5.00000</td>\n",
       "      <td>17.025000</td>\n",
       "      <td>21.20000</td>\n",
       "      <td>25.000000</td>\n",
       "      <td>50.0000</td>\n",
       "    </tr>\n",
       "  </tbody>\n",
       "</table>\n",
       "</div>"
      ],
      "text/plain": [
       "                        count        mean         std        min         25%  \\\n",
       "crimeRatePerCapita      506.0    3.613524    8.601545    0.00632    0.082045   \n",
       "landOver25K_sqft        506.0   11.363636   23.322453    0.00000    0.000000   \n",
       "non-retailLandProptn    506.0   11.136779    6.860353    0.46000    5.190000   \n",
       "riverDummy              506.0    0.069170    0.253994    0.00000    0.000000   \n",
       "nitrixOxide_pp10m       506.0    0.554695    0.115878    0.38500    0.449000   \n",
       "AvgNo.RoomsPerDwelling  506.0    6.284634    0.702617    3.56100    5.885500   \n",
       "ProptnOwnerOccupied     506.0   68.574901   28.148861    2.90000   45.025000   \n",
       "weightedDist            506.0    3.795043    2.105710    1.12960    2.100175   \n",
       "radialHighwaysAccess    506.0    9.549407    8.707259    1.00000    4.000000   \n",
       "propTaxRate_per10K      506.0  408.237154  168.537116  187.00000  279.000000   \n",
       "pupilTeacherRatio       506.0   18.455534    2.164946   12.60000   17.400000   \n",
       "pctLowerStatus          506.0   12.653063    7.141062    1.73000    6.950000   \n",
       "medianValue_Ks          506.0   22.532806    9.197104    5.00000   17.025000   \n",
       "\n",
       "                              50%         75%       max  \n",
       "crimeRatePerCapita        0.25651    3.677082   88.9762  \n",
       "landOver25K_sqft          0.00000   12.500000  100.0000  \n",
       "non-retailLandProptn      9.69000   18.100000   27.7400  \n",
       "riverDummy                0.00000    0.000000    1.0000  \n",
       "nitrixOxide_pp10m         0.53800    0.624000    0.8710  \n",
       "AvgNo.RoomsPerDwelling    6.20850    6.623500    8.7800  \n",
       "ProptnOwnerOccupied      77.50000   94.075000  100.0000  \n",
       "weightedDist              3.20745    5.188425   12.1265  \n",
       "radialHighwaysAccess      5.00000   24.000000   24.0000  \n",
       "propTaxRate_per10K      330.00000  666.000000  711.0000  \n",
       "pupilTeacherRatio        19.05000   20.200000   22.0000  \n",
       "pctLowerStatus           11.36000   16.955000   37.9700  \n",
       "medianValue_Ks           21.20000   25.000000   50.0000  "
      ]
     },
     "execution_count": 29,
     "metadata": {},
     "output_type": "execute_result"
    }
   ],
   "source": [
    "# calculate basic statistics for the numeric columns in the DataFrame:\n",
    "renamedBostonData.describe(include=[np.number]).T"
   ]
  },
  {
   "cell_type": "code",
   "execution_count": 30,
   "metadata": {},
   "outputs": [],
   "source": [
    "# Divide the DataFrame into training and test sets:\n",
    "X = renamedBostonData.drop('crimeRatePerCapita', axis = 1)\n",
    "y = renamedBostonData[['crimeRatePerCapita']]\n",
    "seed = 10\n",
    "test_data_size = 0.3\n",
    "X_train, X_test, y_train, y_test = train_test_split(X, y, test_size = test_data_size, random_state = seed)\n",
    "train_data = pd.concat([X_train, y_train], axis = 1)\n",
    "test_data = pd.concat([X_test, y_test], axis = 1)"
   ]
  },
  {
   "cell_type": "code",
   "execution_count": 31,
   "metadata": {},
   "outputs": [],
   "source": [
    "# Define a linear regression model and assign it to a variable named linearModel:\n",
    "linearModel = smf.ols(formula='crimeRatePerCapita ~ medianValue_Ks', data=train_data)"
   ]
  },
  {
   "cell_type": "code",
   "execution_count": 33,
   "metadata": {},
   "outputs": [
    {
     "data": {
      "text/plain": [
       "statsmodels.regression.linear_model.OLS"
      ]
     },
     "execution_count": 33,
     "metadata": {},
     "output_type": "execute_result"
    }
   ],
   "source": [
    "type(linearModel)"
   ]
  },
  {
   "cell_type": "code",
   "execution_count": 34,
   "metadata": {},
   "outputs": [],
   "source": [
    "# We call the ols function of the statsmodels API and set its formula argument by defining a patsy formula string\n",
    "#that uses the tilde (~) symbol to relate the dependent variable to the independent variable. \n",
    "# Tell the function where to find the variables named, in the string, by assigning the data argument of the ols \n",
    "#function to the DataFrame that contains your variables (train_data)."
   ]
  },
  {
   "cell_type": "code",
   "execution_count": 35,
   "metadata": {},
   "outputs": [],
   "source": [
    "# Call the fit method of the model instance and assign the results of the method to a linearModelResult variable\n",
    "linearModelResult = linearModel.fit()"
   ]
  },
  {
   "cell_type": "code",
   "execution_count": 38,
   "metadata": {},
   "outputs": [],
   "source": [
    "linearModelResult"
   ]
  },
  {
   "cell_type": "code",
   "execution_count": 37,
   "metadata": {},
   "outputs": [
    {
     "name": "stdout",
     "output_type": "stream",
     "text": [
      "                            OLS Regression Results                            \n",
      "==============================================================================\n",
      "Dep. Variable:     crimeRatePerCapita   R-squared:                       0.144\n",
      "Model:                            OLS   Adj. R-squared:                  0.141\n",
      "Method:                 Least Squares   F-statistic:                     59.02\n",
      "Date:                Mon, 27 Apr 2020   Prob (F-statistic):           1.56e-13\n",
      "Time:                        13:28:00   Log-Likelihood:                -1217.4\n",
      "No. Observations:                 354   AIC:                             2439.\n",
      "Df Residuals:                     352   BIC:                             2447.\n",
      "Df Model:                           1                                         \n",
      "Covariance Type:            nonrobust                                         \n",
      "==================================================================================\n",
      "                     coef    std err          t      P>|t|      [0.025      0.975]\n",
      "----------------------------------------------------------------------------------\n",
      "Intercept         11.2094      1.079     10.386      0.000       9.087      13.332\n",
      "medianValue_Ks    -0.3502      0.046     -7.683      0.000      -0.440      -0.261\n",
      "==============================================================================\n",
      "Omnibus:                      447.354   Durbin-Watson:                   1.928\n",
      "Prob(Omnibus):                  0.000   Jarque-Bera (JB):            39791.431\n",
      "Skew:                           5.897   Prob(JB):                         0.00\n",
      "Kurtosis:                      53.583   Cond. No.                         63.7\n",
      "==============================================================================\n",
      "\n",
      "Warnings:\n",
      "[1] Standard Errors assume that the covariance matrix of the errors is correctly specified.\n"
     ]
    }
   ],
   "source": [
    "# Print a summary of the results stored the linearModelResult variable by running the following code:\n",
    "print(linearModelResult.summary())"
   ]
  },
  {
   "cell_type": "markdown",
   "metadata": {},
   "source": [
    "### Analyzing the Model Summary"
   ]
  },
  {
   "cell_type": "code",
   "execution_count": 39,
   "metadata": {},
   "outputs": [],
   "source": [
    "# Explanation of the model summary.\n",
    "# linearModelResult.summary?\n",
    "# In the top-left corner of the OLS Regression Results, we find the dependent variable in the model \n",
    "#(Dep. Variable) printed and crimeRatePerCapita is the value for the Simple Linear Regression Model."
   ]
  },
  {
   "cell_type": "code",
   "execution_count": 40,
   "metadata": {},
   "outputs": [],
   "source": [
    "# The R-squared value is calculated by Python as a fraction (0.144) but it is to be reported in percentages\n",
    "#so the value for our model is 14.4%. \n",
    "# The R-squared statistic provides a measure of how much of the variability in the dependent variable \n",
    "#(crimeRatePerCapita), our model is able to explain. \n",
    "#It can be interpreted as a measure of how well our model fits the dataset."
   ]
  },
  {
   "cell_type": "code",
   "execution_count": 41,
   "metadata": {},
   "outputs": [],
   "source": [
    "# The intercept and the independent variable in our model is reported. The independent variable \n",
    "#in our model is the median value of owner-occupied homes (medianValue_Ks)."
   ]
  },
  {
   "cell_type": "code",
   "execution_count": null,
   "metadata": {},
   "outputs": [],
   "source": [
    "# Just next to the intercept and the independent variable, is a column that reports the model coefficients (coef).\n",
    "# The intercept and the coefficient of the independent variable are printed under the column labeled coef in the\n",
    "#summary report that Python prints out\n",
    "\n",
    "# The intercept has a value of 11.2094 with the coefficient of the independent variable having a value of negative\n",
    "#0.3502 (-0.3502). \n",
    "# If we choose to denote the dependent variable in our model (crimeRatePerCapita) as y and the independent \n",
    "#variable (the median value of owner-occupied homes) as x, we have all the ingredients to write out the \n",
    "#equation that defines our model.\n",
    "\n",
    "# Thus, y ≈ 11.2094 - 0.3502 x, is the equation for our model. This would be interpreted in chapter 9"
   ]
  }
 ],
 "metadata": {
  "kernelspec": {
   "display_name": "Python 3",
   "language": "python",
   "name": "python3"
  },
  "language_info": {
   "codemirror_mode": {
    "name": "ipython",
    "version": 3
   },
   "file_extension": ".py",
   "mimetype": "text/x-python",
   "name": "python",
   "nbconvert_exporter": "python",
   "pygments_lexer": "ipython3",
   "version": "3.7.7"
  },
  "latex_envs": {
   "LaTeX_envs_menu_present": true,
   "autoclose": false,
   "autocomplete": true,
   "bibliofile": "biblio.bib",
   "cite_by": "apalike",
   "current_citInitial": 1,
   "eqLabelWithNumbers": true,
   "eqNumInitial": 1,
   "hotkeys": {
    "equation": "Ctrl-E",
    "itemize": "Ctrl-I"
   },
   "labels_anchors": false,
   "latex_user_defs": false,
   "report_style_numbering": false,
   "user_envs_cfg": false
  },
  "toc": {
   "base_numbering": 1,
   "nav_menu": {},
   "number_sections": true,
   "sideBar": true,
   "skip_h1_title": false,
   "title_cell": "Table of Contents",
   "title_sidebar": "Contents",
   "toc_cell": false,
   "toc_position": {},
   "toc_section_display": true,
   "toc_window_display": false
  },
  "varInspector": {
   "cols": {
    "lenName": 16,
    "lenType": 16,
    "lenVar": 40
   },
   "kernels_config": {
    "python": {
     "delete_cmd_postfix": "",
     "delete_cmd_prefix": "del ",
     "library": "var_list.py",
     "varRefreshCmd": "print(var_dic_list())"
    },
    "r": {
     "delete_cmd_postfix": ") ",
     "delete_cmd_prefix": "rm(",
     "library": "var_list.r",
     "varRefreshCmd": "cat(var_dic_list()) "
    }
   },
   "types_to_exclude": [
    "module",
    "function",
    "builtin_function_or_method",
    "instance",
    "_Feature"
   ],
   "window_display": false
  }
 },
 "nbformat": 4,
 "nbformat_minor": 4
}
