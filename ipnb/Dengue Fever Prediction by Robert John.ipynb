{
  "nbformat": 4,
  "nbformat_minor": 0,
  "metadata": {
    "colab": {
      "name": "Dengai.ipynb",
      "version": "0.3.2",
      "provenance": []
    }
  },
  "cells": [
    {
      "metadata": {
        "id": "Pkihq4JXXEM3",
        "colab_type": "text"
      },
      "cell_type": "markdown",
      "source": [
        "#Dengue Fever Prediction"
      ]
    },
    {
      "metadata": {
        "id": "Zn9nlHAXW2Ji",
        "colab_type": "code",
        "colab": {}
      },
      "cell_type": "code",
      "source": [
        "import pandas as pd\n",
        "import numpy as np\n",
        "import tensorflow as tf\n",
        "\n",
        "import matplotlib.pyplot as plt\n",
        "import seaborn as sns\n",
        "\n",
        "sns.set()\n",
        "\n",
        "%matplotlib inline"
      ],
      "execution_count": 0,
      "outputs": []
    },
    {
      "metadata": {
        "id": "GsoQTw_sXjGi",
        "colab_type": "code",
        "colab": {
          "base_uri": "https://localhost:8080/",
          "height": 204
        },
        "outputId": "a7bbaac9-e64c-4c7a-d812-ea7b397c693b"
      },
      "cell_type": "code",
      "source": [
        "train_label_df = pd.read_csv('https://s3.amazonaws.com/drivendata/data/44/public/dengue_labels_train.csv')\n",
        "train_label_df.head()"
      ],
      "execution_count": 2,
      "outputs": [
        {
          "output_type": "execute_result",
          "data": {
            "text/html": [
              "<div>\n",
              "<style scoped>\n",
              "    .dataframe tbody tr th:only-of-type {\n",
              "        vertical-align: middle;\n",
              "    }\n",
              "\n",
              "    .dataframe tbody tr th {\n",
              "        vertical-align: top;\n",
              "    }\n",
              "\n",
              "    .dataframe thead th {\n",
              "        text-align: right;\n",
              "    }\n",
              "</style>\n",
              "<table border=\"1\" class=\"dataframe\">\n",
              "  <thead>\n",
              "    <tr style=\"text-align: right;\">\n",
              "      <th></th>\n",
              "      <th>city</th>\n",
              "      <th>year</th>\n",
              "      <th>weekofyear</th>\n",
              "      <th>total_cases</th>\n",
              "    </tr>\n",
              "  </thead>\n",
              "  <tbody>\n",
              "    <tr>\n",
              "      <th>0</th>\n",
              "      <td>sj</td>\n",
              "      <td>1990</td>\n",
              "      <td>18</td>\n",
              "      <td>4</td>\n",
              "    </tr>\n",
              "    <tr>\n",
              "      <th>1</th>\n",
              "      <td>sj</td>\n",
              "      <td>1990</td>\n",
              "      <td>19</td>\n",
              "      <td>5</td>\n",
              "    </tr>\n",
              "    <tr>\n",
              "      <th>2</th>\n",
              "      <td>sj</td>\n",
              "      <td>1990</td>\n",
              "      <td>20</td>\n",
              "      <td>4</td>\n",
              "    </tr>\n",
              "    <tr>\n",
              "      <th>3</th>\n",
              "      <td>sj</td>\n",
              "      <td>1990</td>\n",
              "      <td>21</td>\n",
              "      <td>3</td>\n",
              "    </tr>\n",
              "    <tr>\n",
              "      <th>4</th>\n",
              "      <td>sj</td>\n",
              "      <td>1990</td>\n",
              "      <td>22</td>\n",
              "      <td>6</td>\n",
              "    </tr>\n",
              "  </tbody>\n",
              "</table>\n",
              "</div>"
            ],
            "text/plain": [
              "  city  year  weekofyear  total_cases\n",
              "0   sj  1990          18            4\n",
              "1   sj  1990          19            5\n",
              "2   sj  1990          20            4\n",
              "3   sj  1990          21            3\n",
              "4   sj  1990          22            6"
            ]
          },
          "metadata": {
            "tags": []
          },
          "execution_count": 2
        }
      ]
    },
    {
      "metadata": {
        "id": "pGDLDXHXXWlY",
        "colab_type": "code",
        "colab": {
          "base_uri": "https://localhost:8080/",
          "height": 253
        },
        "outputId": "8dd61835-62ff-40ba-c767-86b6e8970dbb"
      },
      "cell_type": "code",
      "source": [
        "train_features_df = pd.read_csv('https://s3.amazonaws.com/drivendata/data/44/public/dengue_features_train.csv')\n",
        "train_features_df.head()"
      ],
      "execution_count": 3,
      "outputs": [
        {
          "output_type": "execute_result",
          "data": {
            "text/html": [
              "<div>\n",
              "<style scoped>\n",
              "    .dataframe tbody tr th:only-of-type {\n",
              "        vertical-align: middle;\n",
              "    }\n",
              "\n",
              "    .dataframe tbody tr th {\n",
              "        vertical-align: top;\n",
              "    }\n",
              "\n",
              "    .dataframe thead th {\n",
              "        text-align: right;\n",
              "    }\n",
              "</style>\n",
              "<table border=\"1\" class=\"dataframe\">\n",
              "  <thead>\n",
              "    <tr style=\"text-align: right;\">\n",
              "      <th></th>\n",
              "      <th>city</th>\n",
              "      <th>year</th>\n",
              "      <th>weekofyear</th>\n",
              "      <th>week_start_date</th>\n",
              "      <th>ndvi_ne</th>\n",
              "      <th>ndvi_nw</th>\n",
              "      <th>ndvi_se</th>\n",
              "      <th>ndvi_sw</th>\n",
              "      <th>precipitation_amt_mm</th>\n",
              "      <th>reanalysis_air_temp_k</th>\n",
              "      <th>...</th>\n",
              "      <th>reanalysis_precip_amt_kg_per_m2</th>\n",
              "      <th>reanalysis_relative_humidity_percent</th>\n",
              "      <th>reanalysis_sat_precip_amt_mm</th>\n",
              "      <th>reanalysis_specific_humidity_g_per_kg</th>\n",
              "      <th>reanalysis_tdtr_k</th>\n",
              "      <th>station_avg_temp_c</th>\n",
              "      <th>station_diur_temp_rng_c</th>\n",
              "      <th>station_max_temp_c</th>\n",
              "      <th>station_min_temp_c</th>\n",
              "      <th>station_precip_mm</th>\n",
              "    </tr>\n",
              "  </thead>\n",
              "  <tbody>\n",
              "    <tr>\n",
              "      <th>0</th>\n",
              "      <td>sj</td>\n",
              "      <td>1990</td>\n",
              "      <td>18</td>\n",
              "      <td>1990-04-30</td>\n",
              "      <td>0.122600</td>\n",
              "      <td>0.103725</td>\n",
              "      <td>0.198483</td>\n",
              "      <td>0.177617</td>\n",
              "      <td>12.42</td>\n",
              "      <td>297.572857</td>\n",
              "      <td>...</td>\n",
              "      <td>32.00</td>\n",
              "      <td>73.365714</td>\n",
              "      <td>12.42</td>\n",
              "      <td>14.012857</td>\n",
              "      <td>2.628571</td>\n",
              "      <td>25.442857</td>\n",
              "      <td>6.900000</td>\n",
              "      <td>29.4</td>\n",
              "      <td>20.0</td>\n",
              "      <td>16.0</td>\n",
              "    </tr>\n",
              "    <tr>\n",
              "      <th>1</th>\n",
              "      <td>sj</td>\n",
              "      <td>1990</td>\n",
              "      <td>19</td>\n",
              "      <td>1990-05-07</td>\n",
              "      <td>0.169900</td>\n",
              "      <td>0.142175</td>\n",
              "      <td>0.162357</td>\n",
              "      <td>0.155486</td>\n",
              "      <td>22.82</td>\n",
              "      <td>298.211429</td>\n",
              "      <td>...</td>\n",
              "      <td>17.94</td>\n",
              "      <td>77.368571</td>\n",
              "      <td>22.82</td>\n",
              "      <td>15.372857</td>\n",
              "      <td>2.371429</td>\n",
              "      <td>26.714286</td>\n",
              "      <td>6.371429</td>\n",
              "      <td>31.7</td>\n",
              "      <td>22.2</td>\n",
              "      <td>8.6</td>\n",
              "    </tr>\n",
              "    <tr>\n",
              "      <th>2</th>\n",
              "      <td>sj</td>\n",
              "      <td>1990</td>\n",
              "      <td>20</td>\n",
              "      <td>1990-05-14</td>\n",
              "      <td>0.032250</td>\n",
              "      <td>0.172967</td>\n",
              "      <td>0.157200</td>\n",
              "      <td>0.170843</td>\n",
              "      <td>34.54</td>\n",
              "      <td>298.781429</td>\n",
              "      <td>...</td>\n",
              "      <td>26.10</td>\n",
              "      <td>82.052857</td>\n",
              "      <td>34.54</td>\n",
              "      <td>16.848571</td>\n",
              "      <td>2.300000</td>\n",
              "      <td>26.714286</td>\n",
              "      <td>6.485714</td>\n",
              "      <td>32.2</td>\n",
              "      <td>22.8</td>\n",
              "      <td>41.4</td>\n",
              "    </tr>\n",
              "    <tr>\n",
              "      <th>3</th>\n",
              "      <td>sj</td>\n",
              "      <td>1990</td>\n",
              "      <td>21</td>\n",
              "      <td>1990-05-21</td>\n",
              "      <td>0.128633</td>\n",
              "      <td>0.245067</td>\n",
              "      <td>0.227557</td>\n",
              "      <td>0.235886</td>\n",
              "      <td>15.36</td>\n",
              "      <td>298.987143</td>\n",
              "      <td>...</td>\n",
              "      <td>13.90</td>\n",
              "      <td>80.337143</td>\n",
              "      <td>15.36</td>\n",
              "      <td>16.672857</td>\n",
              "      <td>2.428571</td>\n",
              "      <td>27.471429</td>\n",
              "      <td>6.771429</td>\n",
              "      <td>33.3</td>\n",
              "      <td>23.3</td>\n",
              "      <td>4.0</td>\n",
              "    </tr>\n",
              "    <tr>\n",
              "      <th>4</th>\n",
              "      <td>sj</td>\n",
              "      <td>1990</td>\n",
              "      <td>22</td>\n",
              "      <td>1990-05-28</td>\n",
              "      <td>0.196200</td>\n",
              "      <td>0.262200</td>\n",
              "      <td>0.251200</td>\n",
              "      <td>0.247340</td>\n",
              "      <td>7.52</td>\n",
              "      <td>299.518571</td>\n",
              "      <td>...</td>\n",
              "      <td>12.20</td>\n",
              "      <td>80.460000</td>\n",
              "      <td>7.52</td>\n",
              "      <td>17.210000</td>\n",
              "      <td>3.014286</td>\n",
              "      <td>28.942857</td>\n",
              "      <td>9.371429</td>\n",
              "      <td>35.0</td>\n",
              "      <td>23.9</td>\n",
              "      <td>5.8</td>\n",
              "    </tr>\n",
              "  </tbody>\n",
              "</table>\n",
              "<p>5 rows × 24 columns</p>\n",
              "</div>"
            ],
            "text/plain": [
              "  city  year  weekofyear week_start_date   ndvi_ne   ndvi_nw   ndvi_se  \\\n",
              "0   sj  1990          18      1990-04-30  0.122600  0.103725  0.198483   \n",
              "1   sj  1990          19      1990-05-07  0.169900  0.142175  0.162357   \n",
              "2   sj  1990          20      1990-05-14  0.032250  0.172967  0.157200   \n",
              "3   sj  1990          21      1990-05-21  0.128633  0.245067  0.227557   \n",
              "4   sj  1990          22      1990-05-28  0.196200  0.262200  0.251200   \n",
              "\n",
              "    ndvi_sw  precipitation_amt_mm  reanalysis_air_temp_k        ...          \\\n",
              "0  0.177617                 12.42             297.572857        ...           \n",
              "1  0.155486                 22.82             298.211429        ...           \n",
              "2  0.170843                 34.54             298.781429        ...           \n",
              "3  0.235886                 15.36             298.987143        ...           \n",
              "4  0.247340                  7.52             299.518571        ...           \n",
              "\n",
              "   reanalysis_precip_amt_kg_per_m2  reanalysis_relative_humidity_percent  \\\n",
              "0                            32.00                             73.365714   \n",
              "1                            17.94                             77.368571   \n",
              "2                            26.10                             82.052857   \n",
              "3                            13.90                             80.337143   \n",
              "4                            12.20                             80.460000   \n",
              "\n",
              "   reanalysis_sat_precip_amt_mm  reanalysis_specific_humidity_g_per_kg  \\\n",
              "0                         12.42                              14.012857   \n",
              "1                         22.82                              15.372857   \n",
              "2                         34.54                              16.848571   \n",
              "3                         15.36                              16.672857   \n",
              "4                          7.52                              17.210000   \n",
              "\n",
              "   reanalysis_tdtr_k  station_avg_temp_c  station_diur_temp_rng_c  \\\n",
              "0           2.628571           25.442857                 6.900000   \n",
              "1           2.371429           26.714286                 6.371429   \n",
              "2           2.300000           26.714286                 6.485714   \n",
              "3           2.428571           27.471429                 6.771429   \n",
              "4           3.014286           28.942857                 9.371429   \n",
              "\n",
              "   station_max_temp_c  station_min_temp_c  station_precip_mm  \n",
              "0                29.4                20.0               16.0  \n",
              "1                31.7                22.2                8.6  \n",
              "2                32.2                22.8               41.4  \n",
              "3                33.3                23.3                4.0  \n",
              "4                35.0                23.9                5.8  \n",
              "\n",
              "[5 rows x 24 columns]"
            ]
          },
          "metadata": {
            "tags": []
          },
          "execution_count": 3
        }
      ]
    },
    {
      "metadata": {
        "id": "NmpFcfXUX55w",
        "colab_type": "code",
        "colab": {
          "base_uri": "https://localhost:8080/",
          "height": 510
        },
        "outputId": "7e71e962-1054-4be8-807b-bcdfa6720412"
      },
      "cell_type": "code",
      "source": [
        "train_features_df.ndvi_ne = train_features_df.ndvi_ne.fillna(method='ffill')\n",
        "train_features_df.ndvi_nw = train_features_df.ndvi_nw.fillna(method='ffill')\n",
        "train_features_df.ndvi_se = train_features_df.ndvi_se.fillna(method='ffill')\n",
        "train_features_df.ndvi_sw = train_features_df.ndvi_sw.fillna(method='ffill')\n",
        "\n",
        "train_features_df.station_avg_temp_c = train_features_df.station_avg_temp_c.fillna(method='ffill')\n",
        "train_features_df.station_diur_temp_rng_c = train_features_df.station_diur_temp_rng_c.fillna(method='ffill')\n",
        "train_features_df.station_max_temp_c = train_features_df.station_max_temp_c.fillna(method='ffill')\n",
        "train_features_df.station_min_temp_c = train_features_df.station_min_temp_c.fillna(method='ffill')\n",
        "train_features_df.station_precip_mm = train_features_df.station_precip_mm.fillna(method='ffill')\n",
        "\n",
        "train_features_df.precipitation_amt_mm = train_features_df.precipitation_amt_mm.fillna(np.mean(train_features_df.precipitation_amt_mm))\n",
        "\n",
        "train_features_df.info()"
      ],
      "execution_count": 4,
      "outputs": [
        {
          "output_type": "stream",
          "text": [
            "<class 'pandas.core.frame.DataFrame'>\n",
            "RangeIndex: 1456 entries, 0 to 1455\n",
            "Data columns (total 24 columns):\n",
            "city                                     1456 non-null object\n",
            "year                                     1456 non-null int64\n",
            "weekofyear                               1456 non-null int64\n",
            "week_start_date                          1456 non-null object\n",
            "ndvi_ne                                  1456 non-null float64\n",
            "ndvi_nw                                  1456 non-null float64\n",
            "ndvi_se                                  1456 non-null float64\n",
            "ndvi_sw                                  1456 non-null float64\n",
            "precipitation_amt_mm                     1456 non-null float64\n",
            "reanalysis_air_temp_k                    1446 non-null float64\n",
            "reanalysis_avg_temp_k                    1446 non-null float64\n",
            "reanalysis_dew_point_temp_k              1446 non-null float64\n",
            "reanalysis_max_air_temp_k                1446 non-null float64\n",
            "reanalysis_min_air_temp_k                1446 non-null float64\n",
            "reanalysis_precip_amt_kg_per_m2          1446 non-null float64\n",
            "reanalysis_relative_humidity_percent     1446 non-null float64\n",
            "reanalysis_sat_precip_amt_mm             1443 non-null float64\n",
            "reanalysis_specific_humidity_g_per_kg    1446 non-null float64\n",
            "reanalysis_tdtr_k                        1446 non-null float64\n",
            "station_avg_temp_c                       1456 non-null float64\n",
            "station_diur_temp_rng_c                  1456 non-null float64\n",
            "station_max_temp_c                       1456 non-null float64\n",
            "station_min_temp_c                       1456 non-null float64\n",
            "station_precip_mm                        1456 non-null float64\n",
            "dtypes: float64(20), int64(2), object(2)\n",
            "memory usage: 273.1+ KB\n"
          ],
          "name": "stdout"
        }
      ]
    },
    {
      "metadata": {
        "id": "_4N5em3UOe2_",
        "colab_type": "code",
        "colab": {}
      },
      "cell_type": "code",
      "source": [
        "COLUMNS = ['ndvi_ne', 'ndvi_nw', 'ndvi_se', 'ndvi_sw', 'precipitation_amt_mm', 'station_avg_temp_c', 'station_diur_temp_rng_c', 'station_max_temp_c', 'station_min_temp_c', 'station_precip_mm']"
      ],
      "execution_count": 0,
      "outputs": []
    },
    {
      "metadata": {
        "id": "JthpL2v-YD9w",
        "colab_type": "code",
        "colab": {
          "base_uri": "https://localhost:8080/",
          "height": 510
        },
        "outputId": "52d0d92f-4f05-4152-967c-e8ef5e25025a"
      },
      "cell_type": "code",
      "source": [
        "test_features_df = pd.read_csv('https://s3.amazonaws.com/drivendata/data/44/public/dengue_features_test.csv')\n",
        "test_features_df.info()"
      ],
      "execution_count": 6,
      "outputs": [
        {
          "output_type": "stream",
          "text": [
            "<class 'pandas.core.frame.DataFrame'>\n",
            "RangeIndex: 416 entries, 0 to 415\n",
            "Data columns (total 24 columns):\n",
            "city                                     416 non-null object\n",
            "year                                     416 non-null int64\n",
            "weekofyear                               416 non-null int64\n",
            "week_start_date                          416 non-null object\n",
            "ndvi_ne                                  373 non-null float64\n",
            "ndvi_nw                                  405 non-null float64\n",
            "ndvi_se                                  415 non-null float64\n",
            "ndvi_sw                                  415 non-null float64\n",
            "precipitation_amt_mm                     414 non-null float64\n",
            "reanalysis_air_temp_k                    414 non-null float64\n",
            "reanalysis_avg_temp_k                    414 non-null float64\n",
            "reanalysis_dew_point_temp_k              414 non-null float64\n",
            "reanalysis_max_air_temp_k                414 non-null float64\n",
            "reanalysis_min_air_temp_k                414 non-null float64\n",
            "reanalysis_precip_amt_kg_per_m2          414 non-null float64\n",
            "reanalysis_relative_humidity_percent     414 non-null float64\n",
            "reanalysis_sat_precip_amt_mm             414 non-null float64\n",
            "reanalysis_specific_humidity_g_per_kg    414 non-null float64\n",
            "reanalysis_tdtr_k                        414 non-null float64\n",
            "station_avg_temp_c                       404 non-null float64\n",
            "station_diur_temp_rng_c                  404 non-null float64\n",
            "station_max_temp_c                       413 non-null float64\n",
            "station_min_temp_c                       407 non-null float64\n",
            "station_precip_mm                        411 non-null float64\n",
            "dtypes: float64(20), int64(2), object(2)\n",
            "memory usage: 78.1+ KB\n"
          ],
          "name": "stdout"
        }
      ]
    },
    {
      "metadata": {
        "id": "cRyfRLU_Yty8",
        "colab_type": "code",
        "colab": {
          "base_uri": "https://localhost:8080/",
          "height": 204
        },
        "outputId": "9a99706a-4413-4afa-887a-0244dafb5e97"
      },
      "cell_type": "code",
      "source": [
        "submission_df = pd.read_csv('https://s3.amazonaws.com/drivendata/data/44/public/submission_format.csv')\n",
        "submission_df.head()"
      ],
      "execution_count": 7,
      "outputs": [
        {
          "output_type": "execute_result",
          "data": {
            "text/html": [
              "<div>\n",
              "<style scoped>\n",
              "    .dataframe tbody tr th:only-of-type {\n",
              "        vertical-align: middle;\n",
              "    }\n",
              "\n",
              "    .dataframe tbody tr th {\n",
              "        vertical-align: top;\n",
              "    }\n",
              "\n",
              "    .dataframe thead th {\n",
              "        text-align: right;\n",
              "    }\n",
              "</style>\n",
              "<table border=\"1\" class=\"dataframe\">\n",
              "  <thead>\n",
              "    <tr style=\"text-align: right;\">\n",
              "      <th></th>\n",
              "      <th>city</th>\n",
              "      <th>year</th>\n",
              "      <th>weekofyear</th>\n",
              "      <th>total_cases</th>\n",
              "    </tr>\n",
              "  </thead>\n",
              "  <tbody>\n",
              "    <tr>\n",
              "      <th>0</th>\n",
              "      <td>sj</td>\n",
              "      <td>2008</td>\n",
              "      <td>18</td>\n",
              "      <td>0</td>\n",
              "    </tr>\n",
              "    <tr>\n",
              "      <th>1</th>\n",
              "      <td>sj</td>\n",
              "      <td>2008</td>\n",
              "      <td>19</td>\n",
              "      <td>0</td>\n",
              "    </tr>\n",
              "    <tr>\n",
              "      <th>2</th>\n",
              "      <td>sj</td>\n",
              "      <td>2008</td>\n",
              "      <td>20</td>\n",
              "      <td>0</td>\n",
              "    </tr>\n",
              "    <tr>\n",
              "      <th>3</th>\n",
              "      <td>sj</td>\n",
              "      <td>2008</td>\n",
              "      <td>21</td>\n",
              "      <td>0</td>\n",
              "    </tr>\n",
              "    <tr>\n",
              "      <th>4</th>\n",
              "      <td>sj</td>\n",
              "      <td>2008</td>\n",
              "      <td>22</td>\n",
              "      <td>0</td>\n",
              "    </tr>\n",
              "  </tbody>\n",
              "</table>\n",
              "</div>"
            ],
            "text/plain": [
              "  city  year  weekofyear  total_cases\n",
              "0   sj  2008          18            0\n",
              "1   sj  2008          19            0\n",
              "2   sj  2008          20            0\n",
              "3   sj  2008          21            0\n",
              "4   sj  2008          22            0"
            ]
          },
          "metadata": {
            "tags": []
          },
          "execution_count": 7
        }
      ]
    },
    {
      "metadata": {
        "id": "S526gFpKZpLC",
        "colab_type": "code",
        "colab": {}
      },
      "cell_type": "code",
      "source": [
        ""
      ],
      "execution_count": 0,
      "outputs": []
    },
    {
      "metadata": {
        "id": "irOxdCQTZ4jG",
        "colab_type": "text"
      },
      "cell_type": "markdown",
      "source": [
        "# Exploratory Data Analysis"
      ]
    },
    {
      "metadata": {
        "id": "v8Sw9HmOZ7t_",
        "colab_type": "code",
        "colab": {
          "base_uri": "https://localhost:8080/",
          "height": 68
        },
        "outputId": "1a9c0d5a-2588-4fb0-f5b2-4a4d297c3f71"
      },
      "cell_type": "code",
      "source": [
        "train_features_df['city'].value_counts()"
      ],
      "execution_count": 8,
      "outputs": [
        {
          "output_type": "execute_result",
          "data": {
            "text/plain": [
              "sj    936\n",
              "iq    520\n",
              "Name: city, dtype: int64"
            ]
          },
          "metadata": {
            "tags": []
          },
          "execution_count": 8
        }
      ]
    },
    {
      "metadata": {
        "id": "Kfttma3WaFgW",
        "colab_type": "code",
        "colab": {
          "base_uri": "https://localhost:8080/",
          "height": 391
        },
        "outputId": "051aeb83-1bcc-4be2-eaa3-9baaafcdc00a"
      },
      "cell_type": "code",
      "source": [
        "train_features_df['year'].value_counts()"
      ],
      "execution_count": 9,
      "outputs": [
        {
          "output_type": "execute_result",
          "data": {
            "text/plain": [
              "2001    104\n",
              "2003    104\n",
              "2002    104\n",
              "2007    104\n",
              "2006    104\n",
              "2005    104\n",
              "2004    104\n",
              "2000     78\n",
              "2008     69\n",
              "1991     52\n",
              "2009     52\n",
              "1999     52\n",
              "1998     52\n",
              "1997     52\n",
              "1996     52\n",
              "1995     52\n",
              "1994     52\n",
              "1993     52\n",
              "1992     52\n",
              "1990     35\n",
              "2010     26\n",
              "Name: year, dtype: int64"
            ]
          },
          "metadata": {
            "tags": []
          },
          "execution_count": 9
        }
      ]
    },
    {
      "metadata": {
        "id": "8Jt3TlLNaLX3",
        "colab_type": "code",
        "colab": {}
      },
      "cell_type": "code",
      "source": [
        "union_df = train_label_df.merge(train_features_df[['city', 'year', 'weekofyear', 'week_start_date','station_avg_temp_c', 'station_diur_temp_rng_c', 'station_max_temp_c', 'station_min_temp_c', 'station_precip_mm', 'precipitation_amt_mm']], on=['city', 'year', 'weekofyear'])\n"
      ],
      "execution_count": 0,
      "outputs": []
    },
    {
      "metadata": {
        "id": "TH5KBuuUwrzt",
        "colab_type": "code",
        "colab": {
          "base_uri": "https://localhost:8080/",
          "height": 224
        },
        "outputId": "d955779d-d14d-4d29-de5d-2a681ab49309"
      },
      "cell_type": "code",
      "source": [
        "union_df.head()"
      ],
      "execution_count": 11,
      "outputs": [
        {
          "output_type": "execute_result",
          "data": {
            "text/html": [
              "<div>\n",
              "<style scoped>\n",
              "    .dataframe tbody tr th:only-of-type {\n",
              "        vertical-align: middle;\n",
              "    }\n",
              "\n",
              "    .dataframe tbody tr th {\n",
              "        vertical-align: top;\n",
              "    }\n",
              "\n",
              "    .dataframe thead th {\n",
              "        text-align: right;\n",
              "    }\n",
              "</style>\n",
              "<table border=\"1\" class=\"dataframe\">\n",
              "  <thead>\n",
              "    <tr style=\"text-align: right;\">\n",
              "      <th></th>\n",
              "      <th>city</th>\n",
              "      <th>year</th>\n",
              "      <th>weekofyear</th>\n",
              "      <th>total_cases</th>\n",
              "      <th>week_start_date</th>\n",
              "      <th>station_avg_temp_c</th>\n",
              "      <th>station_diur_temp_rng_c</th>\n",
              "      <th>station_max_temp_c</th>\n",
              "      <th>station_min_temp_c</th>\n",
              "      <th>station_precip_mm</th>\n",
              "      <th>precipitation_amt_mm</th>\n",
              "    </tr>\n",
              "  </thead>\n",
              "  <tbody>\n",
              "    <tr>\n",
              "      <th>0</th>\n",
              "      <td>sj</td>\n",
              "      <td>1990</td>\n",
              "      <td>18</td>\n",
              "      <td>4</td>\n",
              "      <td>1990-04-30</td>\n",
              "      <td>25.442857</td>\n",
              "      <td>6.900000</td>\n",
              "      <td>29.4</td>\n",
              "      <td>20.0</td>\n",
              "      <td>16.0</td>\n",
              "      <td>12.42</td>\n",
              "    </tr>\n",
              "    <tr>\n",
              "      <th>1</th>\n",
              "      <td>sj</td>\n",
              "      <td>1990</td>\n",
              "      <td>19</td>\n",
              "      <td>5</td>\n",
              "      <td>1990-05-07</td>\n",
              "      <td>26.714286</td>\n",
              "      <td>6.371429</td>\n",
              "      <td>31.7</td>\n",
              "      <td>22.2</td>\n",
              "      <td>8.6</td>\n",
              "      <td>22.82</td>\n",
              "    </tr>\n",
              "    <tr>\n",
              "      <th>2</th>\n",
              "      <td>sj</td>\n",
              "      <td>1990</td>\n",
              "      <td>20</td>\n",
              "      <td>4</td>\n",
              "      <td>1990-05-14</td>\n",
              "      <td>26.714286</td>\n",
              "      <td>6.485714</td>\n",
              "      <td>32.2</td>\n",
              "      <td>22.8</td>\n",
              "      <td>41.4</td>\n",
              "      <td>34.54</td>\n",
              "    </tr>\n",
              "    <tr>\n",
              "      <th>3</th>\n",
              "      <td>sj</td>\n",
              "      <td>1990</td>\n",
              "      <td>21</td>\n",
              "      <td>3</td>\n",
              "      <td>1990-05-21</td>\n",
              "      <td>27.471429</td>\n",
              "      <td>6.771429</td>\n",
              "      <td>33.3</td>\n",
              "      <td>23.3</td>\n",
              "      <td>4.0</td>\n",
              "      <td>15.36</td>\n",
              "    </tr>\n",
              "    <tr>\n",
              "      <th>4</th>\n",
              "      <td>sj</td>\n",
              "      <td>1990</td>\n",
              "      <td>22</td>\n",
              "      <td>6</td>\n",
              "      <td>1990-05-28</td>\n",
              "      <td>28.942857</td>\n",
              "      <td>9.371429</td>\n",
              "      <td>35.0</td>\n",
              "      <td>23.9</td>\n",
              "      <td>5.8</td>\n",
              "      <td>7.52</td>\n",
              "    </tr>\n",
              "  </tbody>\n",
              "</table>\n",
              "</div>"
            ],
            "text/plain": [
              "  city  year  weekofyear  total_cases week_start_date  station_avg_temp_c  \\\n",
              "0   sj  1990          18            4      1990-04-30           25.442857   \n",
              "1   sj  1990          19            5      1990-05-07           26.714286   \n",
              "2   sj  1990          20            4      1990-05-14           26.714286   \n",
              "3   sj  1990          21            3      1990-05-21           27.471429   \n",
              "4   sj  1990          22            6      1990-05-28           28.942857   \n",
              "\n",
              "   station_diur_temp_rng_c  station_max_temp_c  station_min_temp_c  \\\n",
              "0                 6.900000                29.4                20.0   \n",
              "1                 6.371429                31.7                22.2   \n",
              "2                 6.485714                32.2                22.8   \n",
              "3                 6.771429                33.3                23.3   \n",
              "4                 9.371429                35.0                23.9   \n",
              "\n",
              "   station_precip_mm  precipitation_amt_mm  \n",
              "0               16.0                 12.42  \n",
              "1                8.6                 22.82  \n",
              "2               41.4                 34.54  \n",
              "3                4.0                 15.36  \n",
              "4                5.8                  7.52  "
            ]
          },
          "metadata": {
            "tags": []
          },
          "execution_count": 11
        }
      ]
    },
    {
      "metadata": {
        "id": "B-AaJJ-ww0I-",
        "colab_type": "code",
        "colab": {
          "base_uri": "https://localhost:8080/",
          "height": 1340
        },
        "outputId": "ed02fd18-8fe8-4538-820f-6244694e4767"
      },
      "cell_type": "code",
      "source": [
        "sj = union_df[union_df['city'] == 'sj']\n",
        "sj_1990 = sj[sj['year'] == 1990]\n",
        "sj_1991 = sj[sj['year'] == 1991]\n",
        "sj_1992 = sj[sj['year'] == 1992]\n",
        "sj_3_yrs = pd.concat([sj_1990, sj_1991, sj_1992])\n",
        "\n",
        "\n",
        "_ = sj_3_yrs.plot(x='week_start_date', y='reanalysis_max_c')\n",
        "_ = sj_3_yrs.plot(x='week_start_date', y='station_max_temp_c')\n",
        "_ = plt.show()"
      ],
      "execution_count": 12,
      "outputs": [
        {
          "output_type": "error",
          "ename": "KeyError",
          "evalue": "ignored",
          "traceback": [
            "\u001b[0;31m\u001b[0m",
            "\u001b[0;31mKeyError\u001b[0mTraceback (most recent call last)",
            "\u001b[0;32m<ipython-input-12-a1d53c6213a8>\u001b[0m in \u001b[0;36m<module>\u001b[0;34m()\u001b[0m\n\u001b[1;32m      6\u001b[0m \u001b[0;34m\u001b[0m\u001b[0m\n\u001b[1;32m      7\u001b[0m \u001b[0;34m\u001b[0m\u001b[0m\n\u001b[0;32m----> 8\u001b[0;31m \u001b[0m_\u001b[0m \u001b[0;34m=\u001b[0m \u001b[0msj_3_yrs\u001b[0m\u001b[0;34m.\u001b[0m\u001b[0mplot\u001b[0m\u001b[0;34m(\u001b[0m\u001b[0mx\u001b[0m\u001b[0;34m=\u001b[0m\u001b[0;34m'week_start_date'\u001b[0m\u001b[0;34m,\u001b[0m \u001b[0my\u001b[0m\u001b[0;34m=\u001b[0m\u001b[0;34m'reanalysis_max_c'\u001b[0m\u001b[0;34m)\u001b[0m\u001b[0;34m\u001b[0m\u001b[0m\n\u001b[0m\u001b[1;32m      9\u001b[0m \u001b[0m_\u001b[0m \u001b[0;34m=\u001b[0m \u001b[0msj_3_yrs\u001b[0m\u001b[0;34m.\u001b[0m\u001b[0mplot\u001b[0m\u001b[0;34m(\u001b[0m\u001b[0mx\u001b[0m\u001b[0;34m=\u001b[0m\u001b[0;34m'week_start_date'\u001b[0m\u001b[0;34m,\u001b[0m \u001b[0my\u001b[0m\u001b[0;34m=\u001b[0m\u001b[0;34m'station_max_temp_c'\u001b[0m\u001b[0;34m)\u001b[0m\u001b[0;34m\u001b[0m\u001b[0m\n\u001b[1;32m     10\u001b[0m \u001b[0m_\u001b[0m \u001b[0;34m=\u001b[0m \u001b[0mplt\u001b[0m\u001b[0;34m.\u001b[0m\u001b[0mshow\u001b[0m\u001b[0;34m(\u001b[0m\u001b[0;34m)\u001b[0m\u001b[0;34m\u001b[0m\u001b[0m\n",
            "\u001b[0;32m/usr/local/lib/python2.7/dist-packages/pandas/plotting/_core.pyc\u001b[0m in \u001b[0;36m__call__\u001b[0;34m(self, x, y, kind, ax, subplots, sharex, sharey, layout, figsize, use_index, title, grid, legend, style, logx, logy, loglog, xticks, yticks, xlim, ylim, rot, fontsize, colormap, table, yerr, xerr, secondary_y, sort_columns, **kwds)\u001b[0m\n\u001b[1;32m   2675\u001b[0m                           \u001b[0mfontsize\u001b[0m\u001b[0;34m=\u001b[0m\u001b[0mfontsize\u001b[0m\u001b[0;34m,\u001b[0m \u001b[0mcolormap\u001b[0m\u001b[0;34m=\u001b[0m\u001b[0mcolormap\u001b[0m\u001b[0;34m,\u001b[0m \u001b[0mtable\u001b[0m\u001b[0;34m=\u001b[0m\u001b[0mtable\u001b[0m\u001b[0;34m,\u001b[0m\u001b[0;34m\u001b[0m\u001b[0m\n\u001b[1;32m   2676\u001b[0m                           \u001b[0myerr\u001b[0m\u001b[0;34m=\u001b[0m\u001b[0myerr\u001b[0m\u001b[0;34m,\u001b[0m \u001b[0mxerr\u001b[0m\u001b[0;34m=\u001b[0m\u001b[0mxerr\u001b[0m\u001b[0;34m,\u001b[0m \u001b[0msecondary_y\u001b[0m\u001b[0;34m=\u001b[0m\u001b[0msecondary_y\u001b[0m\u001b[0;34m,\u001b[0m\u001b[0;34m\u001b[0m\u001b[0m\n\u001b[0;32m-> 2677\u001b[0;31m                           sort_columns=sort_columns, **kwds)\n\u001b[0m\u001b[1;32m   2678\u001b[0m     \u001b[0m__call__\u001b[0m\u001b[0;34m.\u001b[0m\u001b[0m__doc__\u001b[0m \u001b[0;34m=\u001b[0m \u001b[0mplot_frame\u001b[0m\u001b[0;34m.\u001b[0m\u001b[0m__doc__\u001b[0m\u001b[0;34m\u001b[0m\u001b[0m\n\u001b[1;32m   2679\u001b[0m \u001b[0;34m\u001b[0m\u001b[0m\n",
            "\u001b[0;32m/usr/local/lib/python2.7/dist-packages/pandas/plotting/_core.pyc\u001b[0m in \u001b[0;36mplot_frame\u001b[0;34m(data, x, y, kind, ax, subplots, sharex, sharey, layout, figsize, use_index, title, grid, legend, style, logx, logy, loglog, xticks, yticks, xlim, ylim, rot, fontsize, colormap, table, yerr, xerr, secondary_y, sort_columns, **kwds)\u001b[0m\n\u001b[1;32m   1900\u001b[0m                  \u001b[0myerr\u001b[0m\u001b[0;34m=\u001b[0m\u001b[0myerr\u001b[0m\u001b[0;34m,\u001b[0m \u001b[0mxerr\u001b[0m\u001b[0;34m=\u001b[0m\u001b[0mxerr\u001b[0m\u001b[0;34m,\u001b[0m\u001b[0;34m\u001b[0m\u001b[0m\n\u001b[1;32m   1901\u001b[0m                  \u001b[0msecondary_y\u001b[0m\u001b[0;34m=\u001b[0m\u001b[0msecondary_y\u001b[0m\u001b[0;34m,\u001b[0m \u001b[0msort_columns\u001b[0m\u001b[0;34m=\u001b[0m\u001b[0msort_columns\u001b[0m\u001b[0;34m,\u001b[0m\u001b[0;34m\u001b[0m\u001b[0m\n\u001b[0;32m-> 1902\u001b[0;31m                  **kwds)\n\u001b[0m\u001b[1;32m   1903\u001b[0m \u001b[0;34m\u001b[0m\u001b[0m\n\u001b[1;32m   1904\u001b[0m \u001b[0;34m\u001b[0m\u001b[0m\n",
            "\u001b[0;32m/usr/local/lib/python2.7/dist-packages/pandas/plotting/_core.pyc\u001b[0m in \u001b[0;36m_plot\u001b[0;34m(data, x, y, subplots, ax, kind, **kwds)\u001b[0m\n\u001b[1;32m   1713\u001b[0m                     \u001b[0my\u001b[0m \u001b[0;34m=\u001b[0m \u001b[0mdata\u001b[0m\u001b[0;34m.\u001b[0m\u001b[0mcolumns\u001b[0m\u001b[0;34m[\u001b[0m\u001b[0my\u001b[0m\u001b[0;34m]\u001b[0m\u001b[0;34m\u001b[0m\u001b[0m\n\u001b[1;32m   1714\u001b[0m                 \u001b[0mlabel\u001b[0m \u001b[0;34m=\u001b[0m \u001b[0mkwds\u001b[0m\u001b[0;34m[\u001b[0m\u001b[0;34m'label'\u001b[0m\u001b[0;34m]\u001b[0m \u001b[0;32mif\u001b[0m \u001b[0;34m'label'\u001b[0m \u001b[0;32min\u001b[0m \u001b[0mkwds\u001b[0m \u001b[0;32melse\u001b[0m \u001b[0my\u001b[0m\u001b[0;34m\u001b[0m\u001b[0m\n\u001b[0;32m-> 1715\u001b[0;31m                 \u001b[0mseries\u001b[0m \u001b[0;34m=\u001b[0m \u001b[0mdata\u001b[0m\u001b[0;34m[\u001b[0m\u001b[0my\u001b[0m\u001b[0;34m]\u001b[0m\u001b[0;34m.\u001b[0m\u001b[0mcopy\u001b[0m\u001b[0;34m(\u001b[0m\u001b[0;34m)\u001b[0m  \u001b[0;31m# Don't modify\u001b[0m\u001b[0;34m\u001b[0m\u001b[0m\n\u001b[0m\u001b[1;32m   1716\u001b[0m                 \u001b[0mseries\u001b[0m\u001b[0;34m.\u001b[0m\u001b[0mname\u001b[0m \u001b[0;34m=\u001b[0m \u001b[0mlabel\u001b[0m\u001b[0;34m\u001b[0m\u001b[0m\n\u001b[1;32m   1717\u001b[0m \u001b[0;34m\u001b[0m\u001b[0m\n",
            "\u001b[0;32m/usr/local/lib/python2.7/dist-packages/pandas/core/frame.pyc\u001b[0m in \u001b[0;36m__getitem__\u001b[0;34m(self, key)\u001b[0m\n\u001b[1;32m   2137\u001b[0m             \u001b[0;32mreturn\u001b[0m \u001b[0mself\u001b[0m\u001b[0;34m.\u001b[0m\u001b[0m_getitem_multilevel\u001b[0m\u001b[0;34m(\u001b[0m\u001b[0mkey\u001b[0m\u001b[0;34m)\u001b[0m\u001b[0;34m\u001b[0m\u001b[0m\n\u001b[1;32m   2138\u001b[0m         \u001b[0;32melse\u001b[0m\u001b[0;34m:\u001b[0m\u001b[0;34m\u001b[0m\u001b[0m\n\u001b[0;32m-> 2139\u001b[0;31m             \u001b[0;32mreturn\u001b[0m \u001b[0mself\u001b[0m\u001b[0;34m.\u001b[0m\u001b[0m_getitem_column\u001b[0m\u001b[0;34m(\u001b[0m\u001b[0mkey\u001b[0m\u001b[0;34m)\u001b[0m\u001b[0;34m\u001b[0m\u001b[0m\n\u001b[0m\u001b[1;32m   2140\u001b[0m \u001b[0;34m\u001b[0m\u001b[0m\n\u001b[1;32m   2141\u001b[0m     \u001b[0;32mdef\u001b[0m \u001b[0m_getitem_column\u001b[0m\u001b[0;34m(\u001b[0m\u001b[0mself\u001b[0m\u001b[0;34m,\u001b[0m \u001b[0mkey\u001b[0m\u001b[0;34m)\u001b[0m\u001b[0;34m:\u001b[0m\u001b[0;34m\u001b[0m\u001b[0m\n",
            "\u001b[0;32m/usr/local/lib/python2.7/dist-packages/pandas/core/frame.pyc\u001b[0m in \u001b[0;36m_getitem_column\u001b[0;34m(self, key)\u001b[0m\n\u001b[1;32m   2144\u001b[0m         \u001b[0;31m# get column\u001b[0m\u001b[0;34m\u001b[0m\u001b[0;34m\u001b[0m\u001b[0m\n\u001b[1;32m   2145\u001b[0m         \u001b[0;32mif\u001b[0m \u001b[0mself\u001b[0m\u001b[0;34m.\u001b[0m\u001b[0mcolumns\u001b[0m\u001b[0;34m.\u001b[0m\u001b[0mis_unique\u001b[0m\u001b[0;34m:\u001b[0m\u001b[0;34m\u001b[0m\u001b[0m\n\u001b[0;32m-> 2146\u001b[0;31m             \u001b[0;32mreturn\u001b[0m \u001b[0mself\u001b[0m\u001b[0;34m.\u001b[0m\u001b[0m_get_item_cache\u001b[0m\u001b[0;34m(\u001b[0m\u001b[0mkey\u001b[0m\u001b[0;34m)\u001b[0m\u001b[0;34m\u001b[0m\u001b[0m\n\u001b[0m\u001b[1;32m   2147\u001b[0m \u001b[0;34m\u001b[0m\u001b[0m\n\u001b[1;32m   2148\u001b[0m         \u001b[0;31m# duplicate columns & possible reduce dimensionality\u001b[0m\u001b[0;34m\u001b[0m\u001b[0;34m\u001b[0m\u001b[0m\n",
            "\u001b[0;32m/usr/local/lib/python2.7/dist-packages/pandas/core/generic.pyc\u001b[0m in \u001b[0;36m_get_item_cache\u001b[0;34m(self, item)\u001b[0m\n\u001b[1;32m   1840\u001b[0m         \u001b[0mres\u001b[0m \u001b[0;34m=\u001b[0m \u001b[0mcache\u001b[0m\u001b[0;34m.\u001b[0m\u001b[0mget\u001b[0m\u001b[0;34m(\u001b[0m\u001b[0mitem\u001b[0m\u001b[0;34m)\u001b[0m\u001b[0;34m\u001b[0m\u001b[0m\n\u001b[1;32m   1841\u001b[0m         \u001b[0;32mif\u001b[0m \u001b[0mres\u001b[0m \u001b[0;32mis\u001b[0m \u001b[0mNone\u001b[0m\u001b[0;34m:\u001b[0m\u001b[0;34m\u001b[0m\u001b[0m\n\u001b[0;32m-> 1842\u001b[0;31m             \u001b[0mvalues\u001b[0m \u001b[0;34m=\u001b[0m \u001b[0mself\u001b[0m\u001b[0;34m.\u001b[0m\u001b[0m_data\u001b[0m\u001b[0;34m.\u001b[0m\u001b[0mget\u001b[0m\u001b[0;34m(\u001b[0m\u001b[0mitem\u001b[0m\u001b[0;34m)\u001b[0m\u001b[0;34m\u001b[0m\u001b[0m\n\u001b[0m\u001b[1;32m   1843\u001b[0m             \u001b[0mres\u001b[0m \u001b[0;34m=\u001b[0m \u001b[0mself\u001b[0m\u001b[0;34m.\u001b[0m\u001b[0m_box_item_values\u001b[0m\u001b[0;34m(\u001b[0m\u001b[0mitem\u001b[0m\u001b[0;34m,\u001b[0m \u001b[0mvalues\u001b[0m\u001b[0;34m)\u001b[0m\u001b[0;34m\u001b[0m\u001b[0m\n\u001b[1;32m   1844\u001b[0m             \u001b[0mcache\u001b[0m\u001b[0;34m[\u001b[0m\u001b[0mitem\u001b[0m\u001b[0;34m]\u001b[0m \u001b[0;34m=\u001b[0m \u001b[0mres\u001b[0m\u001b[0;34m\u001b[0m\u001b[0m\n",
            "\u001b[0;32m/usr/local/lib/python2.7/dist-packages/pandas/core/internals.pyc\u001b[0m in \u001b[0;36mget\u001b[0;34m(self, item, fastpath)\u001b[0m\n\u001b[1;32m   3841\u001b[0m \u001b[0;34m\u001b[0m\u001b[0m\n\u001b[1;32m   3842\u001b[0m             \u001b[0;32mif\u001b[0m \u001b[0;32mnot\u001b[0m \u001b[0misna\u001b[0m\u001b[0;34m(\u001b[0m\u001b[0mitem\u001b[0m\u001b[0;34m)\u001b[0m\u001b[0;34m:\u001b[0m\u001b[0;34m\u001b[0m\u001b[0m\n\u001b[0;32m-> 3843\u001b[0;31m                 \u001b[0mloc\u001b[0m \u001b[0;34m=\u001b[0m \u001b[0mself\u001b[0m\u001b[0;34m.\u001b[0m\u001b[0mitems\u001b[0m\u001b[0;34m.\u001b[0m\u001b[0mget_loc\u001b[0m\u001b[0;34m(\u001b[0m\u001b[0mitem\u001b[0m\u001b[0;34m)\u001b[0m\u001b[0;34m\u001b[0m\u001b[0m\n\u001b[0m\u001b[1;32m   3844\u001b[0m             \u001b[0;32melse\u001b[0m\u001b[0;34m:\u001b[0m\u001b[0;34m\u001b[0m\u001b[0m\n\u001b[1;32m   3845\u001b[0m                 \u001b[0mindexer\u001b[0m \u001b[0;34m=\u001b[0m \u001b[0mnp\u001b[0m\u001b[0;34m.\u001b[0m\u001b[0marange\u001b[0m\u001b[0;34m(\u001b[0m\u001b[0mlen\u001b[0m\u001b[0;34m(\u001b[0m\u001b[0mself\u001b[0m\u001b[0;34m.\u001b[0m\u001b[0mitems\u001b[0m\u001b[0;34m)\u001b[0m\u001b[0;34m)\u001b[0m\u001b[0;34m[\u001b[0m\u001b[0misna\u001b[0m\u001b[0;34m(\u001b[0m\u001b[0mself\u001b[0m\u001b[0;34m.\u001b[0m\u001b[0mitems\u001b[0m\u001b[0;34m)\u001b[0m\u001b[0;34m]\u001b[0m\u001b[0;34m\u001b[0m\u001b[0m\n",
            "\u001b[0;32m/usr/local/lib/python2.7/dist-packages/pandas/core/indexes/base.pyc\u001b[0m in \u001b[0;36mget_loc\u001b[0;34m(self, key, method, tolerance)\u001b[0m\n\u001b[1;32m   2525\u001b[0m                 \u001b[0;32mreturn\u001b[0m \u001b[0mself\u001b[0m\u001b[0;34m.\u001b[0m\u001b[0m_engine\u001b[0m\u001b[0;34m.\u001b[0m\u001b[0mget_loc\u001b[0m\u001b[0;34m(\u001b[0m\u001b[0mkey\u001b[0m\u001b[0;34m)\u001b[0m\u001b[0;34m\u001b[0m\u001b[0m\n\u001b[1;32m   2526\u001b[0m             \u001b[0;32mexcept\u001b[0m \u001b[0mKeyError\u001b[0m\u001b[0;34m:\u001b[0m\u001b[0;34m\u001b[0m\u001b[0m\n\u001b[0;32m-> 2527\u001b[0;31m                 \u001b[0;32mreturn\u001b[0m \u001b[0mself\u001b[0m\u001b[0;34m.\u001b[0m\u001b[0m_engine\u001b[0m\u001b[0;34m.\u001b[0m\u001b[0mget_loc\u001b[0m\u001b[0;34m(\u001b[0m\u001b[0mself\u001b[0m\u001b[0;34m.\u001b[0m\u001b[0m_maybe_cast_indexer\u001b[0m\u001b[0;34m(\u001b[0m\u001b[0mkey\u001b[0m\u001b[0;34m)\u001b[0m\u001b[0;34m)\u001b[0m\u001b[0;34m\u001b[0m\u001b[0m\n\u001b[0m\u001b[1;32m   2528\u001b[0m \u001b[0;34m\u001b[0m\u001b[0m\n\u001b[1;32m   2529\u001b[0m         \u001b[0mindexer\u001b[0m \u001b[0;34m=\u001b[0m \u001b[0mself\u001b[0m\u001b[0;34m.\u001b[0m\u001b[0mget_indexer\u001b[0m\u001b[0;34m(\u001b[0m\u001b[0;34m[\u001b[0m\u001b[0mkey\u001b[0m\u001b[0;34m]\u001b[0m\u001b[0;34m,\u001b[0m \u001b[0mmethod\u001b[0m\u001b[0;34m=\u001b[0m\u001b[0mmethod\u001b[0m\u001b[0;34m,\u001b[0m \u001b[0mtolerance\u001b[0m\u001b[0;34m=\u001b[0m\u001b[0mtolerance\u001b[0m\u001b[0;34m)\u001b[0m\u001b[0;34m\u001b[0m\u001b[0m\n",
            "\u001b[0;32mpandas/_libs/index.pyx\u001b[0m in \u001b[0;36mpandas._libs.index.IndexEngine.get_loc\u001b[0;34m()\u001b[0m\n",
            "\u001b[0;32mpandas/_libs/index.pyx\u001b[0m in \u001b[0;36mpandas._libs.index.IndexEngine.get_loc\u001b[0;34m()\u001b[0m\n",
            "\u001b[0;32mpandas/_libs/hashtable_class_helper.pxi\u001b[0m in \u001b[0;36mpandas._libs.hashtable.PyObjectHashTable.get_item\u001b[0;34m()\u001b[0m\n",
            "\u001b[0;32mpandas/_libs/hashtable_class_helper.pxi\u001b[0m in \u001b[0;36mpandas._libs.hashtable.PyObjectHashTable.get_item\u001b[0;34m()\u001b[0m\n",
            "\u001b[0;31mKeyError\u001b[0m: 'reanalysis_max_c'"
          ]
        }
      ]
    },
    {
      "metadata": {
        "id": "MCOjR81C0uEQ",
        "colab_type": "code",
        "colab": {}
      },
      "cell_type": "code",
      "source": [
        ""
      ],
      "execution_count": 0,
      "outputs": []
    },
    {
      "metadata": {
        "id": "LAM8PI-C7jKN",
        "colab_type": "code",
        "colab": {
          "base_uri": "https://localhost:8080/",
          "height": 204
        },
        "outputId": "bb54fbef-569c-4204-f365-90362499552c"
      },
      "cell_type": "code",
      "source": [
        "union_df.info()"
      ],
      "execution_count": 83,
      "outputs": [
        {
          "output_type": "stream",
          "text": [
            "<class 'pandas.core.frame.DataFrame'>\n",
            "Int64Index: 1456 entries, 0 to 1455\n",
            "Data columns (total 6 columns):\n",
            "city                    1456 non-null object\n",
            "year                    1456 non-null int64\n",
            "weekofyear              1456 non-null int64\n",
            "total_cases             1456 non-null int64\n",
            "week_start_date         1456 non-null object\n",
            "precipitation_amt_mm    1456 non-null float64\n",
            "dtypes: float64(1), int64(3), object(2)\n",
            "memory usage: 79.6+ KB\n"
          ],
          "name": "stdout"
        }
      ]
    },
    {
      "metadata": {
        "id": "e09TWVBWCcUa",
        "colab_type": "code",
        "colab": {
          "base_uri": "https://localhost:8080/",
          "height": 317
        },
        "outputId": "0b14fc51-94c1-4f9b-ccbf-318d84ac8aeb"
      },
      "cell_type": "code",
      "source": [
        "train_features_df[COLUMNS].describe()"
      ],
      "execution_count": 95,
      "outputs": [
        {
          "output_type": "execute_result",
          "data": {
            "text/html": [
              "<div>\n",
              "<style scoped>\n",
              "    .dataframe tbody tr th:only-of-type {\n",
              "        vertical-align: middle;\n",
              "    }\n",
              "\n",
              "    .dataframe tbody tr th {\n",
              "        vertical-align: top;\n",
              "    }\n",
              "\n",
              "    .dataframe thead th {\n",
              "        text-align: right;\n",
              "    }\n",
              "</style>\n",
              "<table border=\"1\" class=\"dataframe\">\n",
              "  <thead>\n",
              "    <tr style=\"text-align: right;\">\n",
              "      <th></th>\n",
              "      <th>ndvi_ne</th>\n",
              "      <th>ndvi_nw</th>\n",
              "      <th>ndvi_se</th>\n",
              "      <th>ndvi_sw</th>\n",
              "      <th>precipitation_amt_mm</th>\n",
              "      <th>station_avg_temp_c</th>\n",
              "      <th>station_diur_temp_rng_c</th>\n",
              "      <th>station_max_temp_c</th>\n",
              "      <th>station_min_temp_c</th>\n",
              "      <th>station_precip_mm</th>\n",
              "    </tr>\n",
              "  </thead>\n",
              "  <tbody>\n",
              "    <tr>\n",
              "      <th>count</th>\n",
              "      <td>1456.000000</td>\n",
              "      <td>1456.000000</td>\n",
              "      <td>1456.000000</td>\n",
              "      <td>1456.000000</td>\n",
              "      <td>1456.000000</td>\n",
              "      <td>1456.000000</td>\n",
              "      <td>1456.000000</td>\n",
              "      <td>1456.000000</td>\n",
              "      <td>1456.000000</td>\n",
              "      <td>1456.000000</td>\n",
              "    </tr>\n",
              "    <tr>\n",
              "      <th>mean</th>\n",
              "      <td>0.131271</td>\n",
              "      <td>0.128068</td>\n",
              "      <td>0.202606</td>\n",
              "      <td>0.201987</td>\n",
              "      <td>45.760388</td>\n",
              "      <td>27.180313</td>\n",
              "      <td>8.085646</td>\n",
              "      <td>32.443338</td>\n",
              "      <td>22.099863</td>\n",
              "      <td>39.194162</td>\n",
              "    </tr>\n",
              "    <tr>\n",
              "      <th>std</th>\n",
              "      <td>0.138527</td>\n",
              "      <td>0.119561</td>\n",
              "      <td>0.074409</td>\n",
              "      <td>0.083592</td>\n",
              "      <td>43.519806</td>\n",
              "      <td>1.280861</td>\n",
              "      <td>2.122836</td>\n",
              "      <td>1.960769</td>\n",
              "      <td>1.569113</td>\n",
              "      <td>47.363305</td>\n",
              "    </tr>\n",
              "    <tr>\n",
              "      <th>min</th>\n",
              "      <td>-0.406250</td>\n",
              "      <td>-0.456100</td>\n",
              "      <td>-0.015533</td>\n",
              "      <td>-0.063457</td>\n",
              "      <td>0.000000</td>\n",
              "      <td>21.400000</td>\n",
              "      <td>4.528571</td>\n",
              "      <td>26.700000</td>\n",
              "      <td>14.700000</td>\n",
              "      <td>0.000000</td>\n",
              "    </tr>\n",
              "    <tr>\n",
              "      <th>25%</th>\n",
              "      <td>0.039100</td>\n",
              "      <td>0.048250</td>\n",
              "      <td>0.152795</td>\n",
              "      <td>0.144455</td>\n",
              "      <td>9.960000</td>\n",
              "      <td>26.300000</td>\n",
              "      <td>6.528571</td>\n",
              "      <td>31.100000</td>\n",
              "      <td>21.100000</td>\n",
              "      <td>8.700000</td>\n",
              "    </tr>\n",
              "    <tr>\n",
              "      <th>50%</th>\n",
              "      <td>0.113900</td>\n",
              "      <td>0.115926</td>\n",
              "      <td>0.195664</td>\n",
              "      <td>0.190121</td>\n",
              "      <td>38.710000</td>\n",
              "      <td>27.400000</td>\n",
              "      <td>7.364286</td>\n",
              "      <td>32.800000</td>\n",
              "      <td>22.200000</td>\n",
              "      <td>23.800000</td>\n",
              "    </tr>\n",
              "    <tr>\n",
              "      <th>75%</th>\n",
              "      <td>0.232018</td>\n",
              "      <td>0.213429</td>\n",
              "      <td>0.247461</td>\n",
              "      <td>0.246775</td>\n",
              "      <td>70.047500</td>\n",
              "      <td>28.132143</td>\n",
              "      <td>9.600000</td>\n",
              "      <td>33.900000</td>\n",
              "      <td>23.300000</td>\n",
              "      <td>53.675000</td>\n",
              "    </tr>\n",
              "    <tr>\n",
              "      <th>max</th>\n",
              "      <td>0.508357</td>\n",
              "      <td>0.454429</td>\n",
              "      <td>0.538314</td>\n",
              "      <td>0.546017</td>\n",
              "      <td>390.600000</td>\n",
              "      <td>30.800000</td>\n",
              "      <td>15.800000</td>\n",
              "      <td>42.200000</td>\n",
              "      <td>25.600000</td>\n",
              "      <td>543.300000</td>\n",
              "    </tr>\n",
              "  </tbody>\n",
              "</table>\n",
              "</div>"
            ],
            "text/plain": [
              "           ndvi_ne      ndvi_nw      ndvi_se      ndvi_sw  \\\n",
              "count  1456.000000  1456.000000  1456.000000  1456.000000   \n",
              "mean      0.131271     0.128068     0.202606     0.201987   \n",
              "std       0.138527     0.119561     0.074409     0.083592   \n",
              "min      -0.406250    -0.456100    -0.015533    -0.063457   \n",
              "25%       0.039100     0.048250     0.152795     0.144455   \n",
              "50%       0.113900     0.115926     0.195664     0.190121   \n",
              "75%       0.232018     0.213429     0.247461     0.246775   \n",
              "max       0.508357     0.454429     0.538314     0.546017   \n",
              "\n",
              "       precipitation_amt_mm  station_avg_temp_c  station_diur_temp_rng_c  \\\n",
              "count           1456.000000         1456.000000              1456.000000   \n",
              "mean              45.760388           27.180313                 8.085646   \n",
              "std               43.519806            1.280861                 2.122836   \n",
              "min                0.000000           21.400000                 4.528571   \n",
              "25%                9.960000           26.300000                 6.528571   \n",
              "50%               38.710000           27.400000                 7.364286   \n",
              "75%               70.047500           28.132143                 9.600000   \n",
              "max              390.600000           30.800000                15.800000   \n",
              "\n",
              "       station_max_temp_c  station_min_temp_c  station_precip_mm  \n",
              "count         1456.000000         1456.000000        1456.000000  \n",
              "mean            32.443338           22.099863          39.194162  \n",
              "std              1.960769            1.569113          47.363305  \n",
              "min             26.700000           14.700000           0.000000  \n",
              "25%             31.100000           21.100000           8.700000  \n",
              "50%             32.800000           22.200000          23.800000  \n",
              "75%             33.900000           23.300000          53.675000  \n",
              "max             42.200000           25.600000         543.300000  "
            ]
          },
          "metadata": {
            "tags": []
          },
          "execution_count": 95
        }
      ]
    },
    {
      "metadata": {
        "id": "BUlymwOBPP8K",
        "colab_type": "code",
        "colab": {
          "base_uri": "https://localhost:8080/",
          "height": 470
        },
        "outputId": "e25d106f-6df5-4930-e7ba-fa3d9021b92f"
      },
      "cell_type": "code",
      "source": [
        "outliers_df = train_features_df[train_features_df['precipitation_amt_mm'] > 200]\n",
        "outliers_df"
      ],
      "execution_count": 13,
      "outputs": [
        {
          "output_type": "execute_result",
          "data": {
            "text/html": [
              "<div>\n",
              "<style scoped>\n",
              "    .dataframe tbody tr th:only-of-type {\n",
              "        vertical-align: middle;\n",
              "    }\n",
              "\n",
              "    .dataframe tbody tr th {\n",
              "        vertical-align: top;\n",
              "    }\n",
              "\n",
              "    .dataframe thead th {\n",
              "        text-align: right;\n",
              "    }\n",
              "</style>\n",
              "<table border=\"1\" class=\"dataframe\">\n",
              "  <thead>\n",
              "    <tr style=\"text-align: right;\">\n",
              "      <th></th>\n",
              "      <th>city</th>\n",
              "      <th>year</th>\n",
              "      <th>weekofyear</th>\n",
              "      <th>week_start_date</th>\n",
              "      <th>ndvi_ne</th>\n",
              "      <th>ndvi_nw</th>\n",
              "      <th>ndvi_se</th>\n",
              "      <th>ndvi_sw</th>\n",
              "      <th>precipitation_amt_mm</th>\n",
              "      <th>reanalysis_air_temp_k</th>\n",
              "      <th>...</th>\n",
              "      <th>reanalysis_precip_amt_kg_per_m2</th>\n",
              "      <th>reanalysis_relative_humidity_percent</th>\n",
              "      <th>reanalysis_sat_precip_amt_mm</th>\n",
              "      <th>reanalysis_specific_humidity_g_per_kg</th>\n",
              "      <th>reanalysis_tdtr_k</th>\n",
              "      <th>station_avg_temp_c</th>\n",
              "      <th>station_diur_temp_rng_c</th>\n",
              "      <th>station_max_temp_c</th>\n",
              "      <th>station_min_temp_c</th>\n",
              "      <th>station_precip_mm</th>\n",
              "    </tr>\n",
              "  </thead>\n",
              "  <tbody>\n",
              "    <tr>\n",
              "      <th>88</th>\n",
              "      <td>sj</td>\n",
              "      <td>1992</td>\n",
              "      <td>2</td>\n",
              "      <td>1992-01-08</td>\n",
              "      <td>0.100833</td>\n",
              "      <td>0.073575</td>\n",
              "      <td>0.138714</td>\n",
              "      <td>0.112786</td>\n",
              "      <td>200.85</td>\n",
              "      <td>297.912857</td>\n",
              "      <td>...</td>\n",
              "      <td>18.30</td>\n",
              "      <td>81.300000</td>\n",
              "      <td>200.85</td>\n",
              "      <td>15.878571</td>\n",
              "      <td>2.300000</td>\n",
              "      <td>25.657143</td>\n",
              "      <td>7.500000</td>\n",
              "      <td>30.6</td>\n",
              "      <td>20.6</td>\n",
              "      <td>58.2</td>\n",
              "    </tr>\n",
              "    <tr>\n",
              "      <th>264</th>\n",
              "      <td>sj</td>\n",
              "      <td>1995</td>\n",
              "      <td>21</td>\n",
              "      <td>1995-05-28</td>\n",
              "      <td>0.032200</td>\n",
              "      <td>0.162133</td>\n",
              "      <td>0.231829</td>\n",
              "      <td>0.240271</td>\n",
              "      <td>204.62</td>\n",
              "      <td>299.454286</td>\n",
              "      <td>...</td>\n",
              "      <td>17.30</td>\n",
              "      <td>81.447143</td>\n",
              "      <td>204.62</td>\n",
              "      <td>17.412857</td>\n",
              "      <td>2.328571</td>\n",
              "      <td>27.228571</td>\n",
              "      <td>7.342857</td>\n",
              "      <td>31.7</td>\n",
              "      <td>22.2</td>\n",
              "      <td>97.5</td>\n",
              "    </tr>\n",
              "    <tr>\n",
              "      <th>332</th>\n",
              "      <td>sj</td>\n",
              "      <td>1996</td>\n",
              "      <td>38</td>\n",
              "      <td>1996-09-16</td>\n",
              "      <td>0.104300</td>\n",
              "      <td>0.028450</td>\n",
              "      <td>0.150429</td>\n",
              "      <td>0.107817</td>\n",
              "      <td>243.55</td>\n",
              "      <td>299.482857</td>\n",
              "      <td>...</td>\n",
              "      <td>151.70</td>\n",
              "      <td>85.690000</td>\n",
              "      <td>243.55</td>\n",
              "      <td>18.407143</td>\n",
              "      <td>1.828571</td>\n",
              "      <td>27.042857</td>\n",
              "      <td>5.828571</td>\n",
              "      <td>31.7</td>\n",
              "      <td>22.8</td>\n",
              "      <td>305.9</td>\n",
              "    </tr>\n",
              "    <tr>\n",
              "      <th>438</th>\n",
              "      <td>sj</td>\n",
              "      <td>1998</td>\n",
              "      <td>40</td>\n",
              "      <td>1998-10-01</td>\n",
              "      <td>-0.002200</td>\n",
              "      <td>0.038200</td>\n",
              "      <td>0.161886</td>\n",
              "      <td>0.168314</td>\n",
              "      <td>223.61</td>\n",
              "      <td>300.597143</td>\n",
              "      <td>...</td>\n",
              "      <td>124.40</td>\n",
              "      <td>78.782857</td>\n",
              "      <td>223.61</td>\n",
              "      <td>18.061429</td>\n",
              "      <td>2.800000</td>\n",
              "      <td>27.914286</td>\n",
              "      <td>6.285714</td>\n",
              "      <td>32.8</td>\n",
              "      <td>23.9</td>\n",
              "      <td>24.7</td>\n",
              "    </tr>\n",
              "    <tr>\n",
              "      <th>498</th>\n",
              "      <td>sj</td>\n",
              "      <td>1999</td>\n",
              "      <td>47</td>\n",
              "      <td>1999-11-26</td>\n",
              "      <td>0.000500</td>\n",
              "      <td>0.071200</td>\n",
              "      <td>0.107700</td>\n",
              "      <td>0.088740</td>\n",
              "      <td>224.90</td>\n",
              "      <td>298.732857</td>\n",
              "      <td>...</td>\n",
              "      <td>140.20</td>\n",
              "      <td>86.405714</td>\n",
              "      <td>224.90</td>\n",
              "      <td>17.870000</td>\n",
              "      <td>1.900000</td>\n",
              "      <td>26.600000</td>\n",
              "      <td>4.528571</td>\n",
              "      <td>31.7</td>\n",
              "      <td>23.3</td>\n",
              "      <td>88.9</td>\n",
              "    </tr>\n",
              "    <tr>\n",
              "      <th>600</th>\n",
              "      <td>sj</td>\n",
              "      <td>2001</td>\n",
              "      <td>46</td>\n",
              "      <td>2001-11-12</td>\n",
              "      <td>0.094100</td>\n",
              "      <td>0.112700</td>\n",
              "      <td>0.196171</td>\n",
              "      <td>0.213200</td>\n",
              "      <td>287.55</td>\n",
              "      <td>299.420000</td>\n",
              "      <td>...</td>\n",
              "      <td>133.93</td>\n",
              "      <td>81.081429</td>\n",
              "      <td>287.55</td>\n",
              "      <td>17.308571</td>\n",
              "      <td>2.242857</td>\n",
              "      <td>26.585714</td>\n",
              "      <td>5.557143</td>\n",
              "      <td>33.3</td>\n",
              "      <td>22.2</td>\n",
              "      <td>96.0</td>\n",
              "    </tr>\n",
              "    <tr>\n",
              "      <th>623</th>\n",
              "      <td>sj</td>\n",
              "      <td>2002</td>\n",
              "      <td>17</td>\n",
              "      <td>2002-04-23</td>\n",
              "      <td>-0.017600</td>\n",
              "      <td>0.051900</td>\n",
              "      <td>0.113571</td>\n",
              "      <td>0.111629</td>\n",
              "      <td>214.76</td>\n",
              "      <td>297.970000</td>\n",
              "      <td>...</td>\n",
              "      <td>31.00</td>\n",
              "      <td>83.657143</td>\n",
              "      <td>214.76</td>\n",
              "      <td>16.368571</td>\n",
              "      <td>2.514286</td>\n",
              "      <td>25.700000</td>\n",
              "      <td>6.185714</td>\n",
              "      <td>30.6</td>\n",
              "      <td>21.7</td>\n",
              "      <td>69.7</td>\n",
              "    </tr>\n",
              "    <tr>\n",
              "      <th>675</th>\n",
              "      <td>sj</td>\n",
              "      <td>2003</td>\n",
              "      <td>17</td>\n",
              "      <td>2003-04-23</td>\n",
              "      <td>-0.078000</td>\n",
              "      <td>-0.125200</td>\n",
              "      <td>0.148671</td>\n",
              "      <td>0.159471</td>\n",
              "      <td>389.60</td>\n",
              "      <td>298.445714</td>\n",
              "      <td>...</td>\n",
              "      <td>111.70</td>\n",
              "      <td>83.751429</td>\n",
              "      <td>389.60</td>\n",
              "      <td>16.885714</td>\n",
              "      <td>2.785714</td>\n",
              "      <td>25.357143</td>\n",
              "      <td>6.428571</td>\n",
              "      <td>30.6</td>\n",
              "      <td>20.6</td>\n",
              "      <td>88.2</td>\n",
              "    </tr>\n",
              "    <tr>\n",
              "      <th>705</th>\n",
              "      <td>sj</td>\n",
              "      <td>2003</td>\n",
              "      <td>47</td>\n",
              "      <td>2003-11-19</td>\n",
              "      <td>-0.217950</td>\n",
              "      <td>0.015000</td>\n",
              "      <td>0.128143</td>\n",
              "      <td>0.135014</td>\n",
              "      <td>390.60</td>\n",
              "      <td>299.072857</td>\n",
              "      <td>...</td>\n",
              "      <td>181.74</td>\n",
              "      <td>87.575714</td>\n",
              "      <td>390.60</td>\n",
              "      <td>18.370000</td>\n",
              "      <td>1.985714</td>\n",
              "      <td>26.300000</td>\n",
              "      <td>4.685714</td>\n",
              "      <td>31.7</td>\n",
              "      <td>23.9</td>\n",
              "      <td>133.2</td>\n",
              "    </tr>\n",
              "    <tr>\n",
              "      <th>749</th>\n",
              "      <td>sj</td>\n",
              "      <td>2004</td>\n",
              "      <td>39</td>\n",
              "      <td>2004-09-23</td>\n",
              "      <td>0.040150</td>\n",
              "      <td>-0.067450</td>\n",
              "      <td>0.225257</td>\n",
              "      <td>0.233200</td>\n",
              "      <td>245.73</td>\n",
              "      <td>299.798571</td>\n",
              "      <td>...</td>\n",
              "      <td>254.95</td>\n",
              "      <td>85.330000</td>\n",
              "      <td>245.73</td>\n",
              "      <td>18.645714</td>\n",
              "      <td>2.542857</td>\n",
              "      <td>27.228571</td>\n",
              "      <td>6.057143</td>\n",
              "      <td>33.9</td>\n",
              "      <td>23.3</td>\n",
              "      <td>158.2</td>\n",
              "    </tr>\n",
              "    <tr>\n",
              "      <th>780</th>\n",
              "      <td>sj</td>\n",
              "      <td>2005</td>\n",
              "      <td>17</td>\n",
              "      <td>2005-04-30</td>\n",
              "      <td>-0.092950</td>\n",
              "      <td>0.005433</td>\n",
              "      <td>0.101233</td>\n",
              "      <td>0.106000</td>\n",
              "      <td>234.13</td>\n",
              "      <td>298.917143</td>\n",
              "      <td>...</td>\n",
              "      <td>98.50</td>\n",
              "      <td>81.751429</td>\n",
              "      <td>234.13</td>\n",
              "      <td>16.964286</td>\n",
              "      <td>3.585714</td>\n",
              "      <td>26.785714</td>\n",
              "      <td>6.885714</td>\n",
              "      <td>32.8</td>\n",
              "      <td>22.8</td>\n",
              "      <td>207.5</td>\n",
              "    </tr>\n",
              "    <tr>\n",
              "      <th>1335</th>\n",
              "      <td>iq</td>\n",
              "      <td>2008</td>\n",
              "      <td>10</td>\n",
              "      <td>2008-03-04</td>\n",
              "      <td>0.169743</td>\n",
              "      <td>0.138667</td>\n",
              "      <td>0.170057</td>\n",
              "      <td>0.200843</td>\n",
              "      <td>210.83</td>\n",
              "      <td>297.754286</td>\n",
              "      <td>...</td>\n",
              "      <td>39.10</td>\n",
              "      <td>88.972857</td>\n",
              "      <td>210.83</td>\n",
              "      <td>17.064286</td>\n",
              "      <td>8.957143</td>\n",
              "      <td>27.180000</td>\n",
              "      <td>8.880000</td>\n",
              "      <td>33.3</td>\n",
              "      <td>21.9</td>\n",
              "      <td>119.6</td>\n",
              "    </tr>\n",
              "  </tbody>\n",
              "</table>\n",
              "<p>12 rows × 24 columns</p>\n",
              "</div>"
            ],
            "text/plain": [
              "     city  year  weekofyear week_start_date   ndvi_ne   ndvi_nw   ndvi_se  \\\n",
              "88     sj  1992           2      1992-01-08  0.100833  0.073575  0.138714   \n",
              "264    sj  1995          21      1995-05-28  0.032200  0.162133  0.231829   \n",
              "332    sj  1996          38      1996-09-16  0.104300  0.028450  0.150429   \n",
              "438    sj  1998          40      1998-10-01 -0.002200  0.038200  0.161886   \n",
              "498    sj  1999          47      1999-11-26  0.000500  0.071200  0.107700   \n",
              "600    sj  2001          46      2001-11-12  0.094100  0.112700  0.196171   \n",
              "623    sj  2002          17      2002-04-23 -0.017600  0.051900  0.113571   \n",
              "675    sj  2003          17      2003-04-23 -0.078000 -0.125200  0.148671   \n",
              "705    sj  2003          47      2003-11-19 -0.217950  0.015000  0.128143   \n",
              "749    sj  2004          39      2004-09-23  0.040150 -0.067450  0.225257   \n",
              "780    sj  2005          17      2005-04-30 -0.092950  0.005433  0.101233   \n",
              "1335   iq  2008          10      2008-03-04  0.169743  0.138667  0.170057   \n",
              "\n",
              "       ndvi_sw  precipitation_amt_mm  reanalysis_air_temp_k  \\\n",
              "88    0.112786                200.85             297.912857   \n",
              "264   0.240271                204.62             299.454286   \n",
              "332   0.107817                243.55             299.482857   \n",
              "438   0.168314                223.61             300.597143   \n",
              "498   0.088740                224.90             298.732857   \n",
              "600   0.213200                287.55             299.420000   \n",
              "623   0.111629                214.76             297.970000   \n",
              "675   0.159471                389.60             298.445714   \n",
              "705   0.135014                390.60             299.072857   \n",
              "749   0.233200                245.73             299.798571   \n",
              "780   0.106000                234.13             298.917143   \n",
              "1335  0.200843                210.83             297.754286   \n",
              "\n",
              "            ...          reanalysis_precip_amt_kg_per_m2  \\\n",
              "88          ...                                    18.30   \n",
              "264         ...                                    17.30   \n",
              "332         ...                                   151.70   \n",
              "438         ...                                   124.40   \n",
              "498         ...                                   140.20   \n",
              "600         ...                                   133.93   \n",
              "623         ...                                    31.00   \n",
              "675         ...                                   111.70   \n",
              "705         ...                                   181.74   \n",
              "749         ...                                   254.95   \n",
              "780         ...                                    98.50   \n",
              "1335        ...                                    39.10   \n",
              "\n",
              "      reanalysis_relative_humidity_percent  reanalysis_sat_precip_amt_mm  \\\n",
              "88                               81.300000                        200.85   \n",
              "264                              81.447143                        204.62   \n",
              "332                              85.690000                        243.55   \n",
              "438                              78.782857                        223.61   \n",
              "498                              86.405714                        224.90   \n",
              "600                              81.081429                        287.55   \n",
              "623                              83.657143                        214.76   \n",
              "675                              83.751429                        389.60   \n",
              "705                              87.575714                        390.60   \n",
              "749                              85.330000                        245.73   \n",
              "780                              81.751429                        234.13   \n",
              "1335                             88.972857                        210.83   \n",
              "\n",
              "      reanalysis_specific_humidity_g_per_kg  reanalysis_tdtr_k  \\\n",
              "88                                15.878571           2.300000   \n",
              "264                               17.412857           2.328571   \n",
              "332                               18.407143           1.828571   \n",
              "438                               18.061429           2.800000   \n",
              "498                               17.870000           1.900000   \n",
              "600                               17.308571           2.242857   \n",
              "623                               16.368571           2.514286   \n",
              "675                               16.885714           2.785714   \n",
              "705                               18.370000           1.985714   \n",
              "749                               18.645714           2.542857   \n",
              "780                               16.964286           3.585714   \n",
              "1335                              17.064286           8.957143   \n",
              "\n",
              "      station_avg_temp_c  station_diur_temp_rng_c  station_max_temp_c  \\\n",
              "88             25.657143                 7.500000                30.6   \n",
              "264            27.228571                 7.342857                31.7   \n",
              "332            27.042857                 5.828571                31.7   \n",
              "438            27.914286                 6.285714                32.8   \n",
              "498            26.600000                 4.528571                31.7   \n",
              "600            26.585714                 5.557143                33.3   \n",
              "623            25.700000                 6.185714                30.6   \n",
              "675            25.357143                 6.428571                30.6   \n",
              "705            26.300000                 4.685714                31.7   \n",
              "749            27.228571                 6.057143                33.9   \n",
              "780            26.785714                 6.885714                32.8   \n",
              "1335           27.180000                 8.880000                33.3   \n",
              "\n",
              "      station_min_temp_c  station_precip_mm  \n",
              "88                  20.6               58.2  \n",
              "264                 22.2               97.5  \n",
              "332                 22.8              305.9  \n",
              "438                 23.9               24.7  \n",
              "498                 23.3               88.9  \n",
              "600                 22.2               96.0  \n",
              "623                 21.7               69.7  \n",
              "675                 20.6               88.2  \n",
              "705                 23.9              133.2  \n",
              "749                 23.3              158.2  \n",
              "780                 22.8              207.5  \n",
              "1335                21.9              119.6  \n",
              "\n",
              "[12 rows x 24 columns]"
            ]
          },
          "metadata": {
            "tags": []
          },
          "execution_count": 13
        }
      ]
    },
    {
      "metadata": {
        "id": "rbeo7XoyQB5b",
        "colab_type": "text"
      },
      "cell_type": "markdown",
      "source": [
        "# Baseline Linear Regression"
      ]
    },
    {
      "metadata": {
        "id": "t70HUcOXSi91",
        "colab_type": "code",
        "colab": {
          "base_uri": "https://localhost:8080/",
          "height": 187
        },
        "outputId": "fd1cc541-da64-4ac9-9ab2-439ff1f80228"
      },
      "cell_type": "code",
      "source": [
        "COLUMNS"
      ],
      "execution_count": 14,
      "outputs": [
        {
          "output_type": "execute_result",
          "data": {
            "text/plain": [
              "['ndvi_ne',\n",
              " 'ndvi_nw',\n",
              " 'ndvi_se',\n",
              " 'ndvi_sw',\n",
              " 'precipitation_amt_mm',\n",
              " 'station_avg_temp_c',\n",
              " 'station_diur_temp_rng_c',\n",
              " 'station_max_temp_c',\n",
              " 'station_min_temp_c',\n",
              " 'station_precip_mm']"
            ]
          },
          "metadata": {
            "tags": []
          },
          "execution_count": 14
        }
      ]
    },
    {
      "metadata": {
        "id": "d8g8172MQG86",
        "colab_type": "code",
        "colab": {}
      },
      "cell_type": "code",
      "source": [
        "MERGE_COLS = ['city', 'year', 'weekofyear'] + COLUMNS\n",
        "TF_COLS = ['total_cases'] + COLUMNS\n",
        "\n",
        "training_data = train_label_df.merge(train_features_df[MERGE_COLS], on=['city', 'year', 'weekofyear'])"
      ],
      "execution_count": 0,
      "outputs": []
    },
    {
      "metadata": {
        "id": "_I8rioeRSUqD",
        "colab_type": "code",
        "colab": {}
      },
      "cell_type": "code",
      "source": [
        "feature_cols = [\n",
        "    tf.feature_column.numeric_column('ndvi_ne'),\n",
        "    tf.feature_column.numeric_column('ndvi_nw'),\n",
        "    tf.feature_column.numeric_column('ndvi_se'),\n",
        "    tf.feature_column.numeric_column('ndvi_sw'),\n",
        "    tf.feature_column.numeric_column('precipitation_amt_mm'),\n",
        "    tf.feature_column.numeric_column('station_avg_temp_c'),\n",
        "    tf.feature_column.numeric_column('station_diur_temp_rng_c'),\n",
        "    tf.feature_column.numeric_column('station_max_temp_c'),\n",
        "    tf.feature_column.numeric_column('station_min_temp_c'),\n",
        "    tf.feature_column.numeric_column('station_precip_mm')\n",
        "]"
      ],
      "execution_count": 0,
      "outputs": []
    },
    {
      "metadata": {
        "id": "CiNMz6yzTuZX",
        "colab_type": "code",
        "colab": {}
      },
      "cell_type": "code",
      "source": [
        "def train_input(df, batch_size, epochs):\n",
        "  return tf.estimator.inputs.pandas_input_fn(\n",
        "      x=df,\n",
        "      y=df['total_cases'],\n",
        "      batch_size= batch_size,\n",
        "      num_epochs= epochs,\n",
        "      shuffle= True\n",
        "  )"
      ],
      "execution_count": 0,
      "outputs": []
    },
    {
      "metadata": {
        "id": "PiFE8CCSahkd",
        "colab_type": "code",
        "colab": {}
      },
      "cell_type": "code",
      "source": [
        "def eval_input(df):\n",
        "  return tf.estimator.inputs.pandas_input_fn(\n",
        "      x=df,\n",
        "      y=None,\n",
        "      num_epochs= 1,\n",
        "      shuffle=False\n",
        "  )"
      ],
      "execution_count": 0,
      "outputs": []
    },
    {
      "metadata": {
        "id": "nvuIbeTZSNB8",
        "colab_type": "code",
        "colab": {
          "base_uri": "https://localhost:8080/",
          "height": 88
        },
        "outputId": "a266e937-a67f-4608-f8bb-51b5254629c8"
      },
      "cell_type": "code",
      "source": [
        "estimator = tf.estimator.LinearRegressor(\n",
        "    feature_columns=feature_cols,\n",
        "    optimizer=tf.train.FtrlOptimizer(learning_rate=0.001)\n",
        ")"
      ],
      "execution_count": 19,
      "outputs": [
        {
          "output_type": "stream",
          "text": [
            "INFO:tensorflow:Using default config.\n",
            "WARNING:tensorflow:Using temporary folder as model directory: /tmp/tmp5Dy4Nm\n",
            "INFO:tensorflow:Using config: {'_save_checkpoints_secs': 600, '_session_config': None, '_keep_checkpoint_max': 5, '_task_type': 'worker', '_global_id_in_cluster': 0, '_is_chief': True, '_cluster_spec': <tensorflow.python.training.server_lib.ClusterSpec object at 0x7f4018130850>, '_evaluation_master': '', '_save_checkpoints_steps': None, '_keep_checkpoint_every_n_hours': 10000, '_service': None, '_num_ps_replicas': 0, '_tf_random_seed': None, '_master': '', '_device_fn': None, '_num_worker_replicas': 1, '_task_id': 0, '_log_step_count_steps': 100, '_model_dir': '/tmp/tmp5Dy4Nm', '_train_distribute': None, '_save_summary_steps': 100}\n"
          ],
          "name": "stdout"
        }
      ]
    },
    {
      "metadata": {
        "id": "t7QTbaiVnQvH",
        "colab_type": "code",
        "colab": {
          "base_uri": "https://localhost:8080/",
          "height": 88
        },
        "outputId": "7cb6c110-4e49-4eee-b694-173a292c8ee6"
      },
      "cell_type": "code",
      "source": [
        "estimator = tf.estimator.DNNRegressor(\n",
        "    feature_columns = feature_cols,\n",
        "    hidden_units = [10,20,10]\n",
        ")"
      ],
      "execution_count": 33,
      "outputs": [
        {
          "output_type": "stream",
          "text": [
            "INFO:tensorflow:Using default config.\n",
            "WARNING:tensorflow:Using temporary folder as model directory: /tmp/tmpkA2IXS\n",
            "INFO:tensorflow:Using config: {'_save_checkpoints_secs': 600, '_session_config': None, '_keep_checkpoint_max': 5, '_task_type': 'worker', '_global_id_in_cluster': 0, '_is_chief': True, '_cluster_spec': <tensorflow.python.training.server_lib.ClusterSpec object at 0x7f401635fb50>, '_evaluation_master': '', '_save_checkpoints_steps': None, '_keep_checkpoint_every_n_hours': 10000, '_service': None, '_num_ps_replicas': 0, '_tf_random_seed': None, '_master': '', '_device_fn': None, '_num_worker_replicas': 1, '_task_id': 0, '_log_step_count_steps': 100, '_model_dir': '/tmp/tmpkA2IXS', '_train_distribute': None, '_save_summary_steps': 100}\n"
          ],
          "name": "stdout"
        }
      ]
    },
    {
      "metadata": {
        "id": "f9FsAaWoV-4C",
        "colab_type": "code",
        "colab": {},
        "outputId": "8550a30f-ed34-4e8a-b9df-2b9607d65f50"
      },
      "cell_type": "code",
      "source": [
        "estimator.train(\n",
        "    input_fn=train_input(training_data[TF_COLS], 32, None),\n",
        "    steps=10000\n",
        ")"
      ],
      "execution_count": 0,
      "outputs": []
    },
    {
      "metadata": {
        "id": "pVbxAvLRdW_p",
        "colab_type": "code",
        "colab": {
          "base_uri": "https://localhost:8080/",
          "height": 272
        },
        "outputId": "9ecdaf14-fa14-49f0-9171-0ded326c5ed8"
      },
      "cell_type": "code",
      "source": [
        "test_features_df.ndvi_ne = test_features_df.ndvi_ne.fillna(method='ffill')\n",
        "test_features_df.ndvi_nw = test_features_df.ndvi_nw.fillna(method='ffill')\n",
        "test_features_df.ndvi_se = test_features_df.ndvi_se.fillna(method='ffill')\n",
        "test_features_df.ndvi_sw = test_features_df.ndvi_sw.fillna(method='ffill')\n",
        "\n",
        "test_features_df.station_avg_temp_c = test_features_df.station_avg_temp_c.fillna(method='ffill')\n",
        "test_features_df.station_diur_temp_rng_c = test_features_df.station_diur_temp_rng_c.fillna(method='ffill')\n",
        "test_features_df.station_max_temp_c = test_features_df.station_max_temp_c.fillna(method='ffill')\n",
        "test_features_df.station_min_temp_c = test_features_df.station_min_temp_c.fillna(method='ffill')\n",
        "test_features_df.station_precip_mm = test_features_df.station_precip_mm.fillna(method='ffill')\n",
        "\n",
        "test_features_df.precipitation_amt_mm = test_features_df.precipitation_amt_mm.fillna(np.mean(train_features_df.precipitation_amt_mm))\n",
        "\n",
        "test_features_df[COLUMNS].info()"
      ],
      "execution_count": 22,
      "outputs": [
        {
          "output_type": "stream",
          "text": [
            "<class 'pandas.core.frame.DataFrame'>\n",
            "RangeIndex: 416 entries, 0 to 415\n",
            "Data columns (total 10 columns):\n",
            "ndvi_ne                    416 non-null float64\n",
            "ndvi_nw                    416 non-null float64\n",
            "ndvi_se                    416 non-null float64\n",
            "ndvi_sw                    416 non-null float64\n",
            "precipitation_amt_mm       416 non-null float64\n",
            "station_avg_temp_c         416 non-null float64\n",
            "station_diur_temp_rng_c    416 non-null float64\n",
            "station_max_temp_c         416 non-null float64\n",
            "station_min_temp_c         416 non-null float64\n",
            "station_precip_mm          416 non-null float64\n",
            "dtypes: float64(10)\n",
            "memory usage: 32.6 KB\n"
          ],
          "name": "stdout"
        }
      ]
    },
    {
      "metadata": {
        "id": "0LUNJPHRW0sy",
        "colab_type": "code",
        "colab": {},
        "outputId": "869d0f73-a8e5-4083-88aa-350c100bb227"
      },
      "cell_type": "code",
      "source": [
        "predictions = list(estimator.predict(input_fn=eval_input(test_features_df[COLUMNS])))"
      ],
      "execution_count": 0,
      "outputs": []
    },
    {
      "metadata": {
        "id": "Wka51OBHh2Uq",
        "colab_type": "code",
        "colab": {}
      },
      "cell_type": "code",
      "source": [
        "import math"
      ],
      "execution_count": 0,
      "outputs": []
    },
    {
      "metadata": {
        "id": "A8UqFP2Ma1OT",
        "colab_type": "code",
        "colab": {},
        "outputId": "0e6b6be6-5226-447d-e20b-6affca95fc03"
      },
      "cell_type": "code",
      "source": [
        "output = [int(math.ceil(p['predictions'][0])) for p in predictions]\n",
        "output"
      ],
      "execution_count": 0,
      "outputs": []
    },
    {
      "metadata": {
        "id": "BlS1fSA3a-Jy",
        "colab_type": "code",
        "colab": {
          "base_uri": "https://localhost:8080/",
          "height": 306
        },
        "outputId": "1bce0690-6f02-4503-9305-53701a9e9038"
      },
      "cell_type": "code",
      "source": [
        "submission_df = test_features_df[['city', 'year', 'weekofyear']]\n",
        "submission_df['total_cases'] = output\n",
        "submission_df.head()"
      ],
      "execution_count": 26,
      "outputs": [
        {
          "output_type": "stream",
          "text": [
            "/usr/local/lib/python2.7/dist-packages/ipykernel_launcher.py:2: SettingWithCopyWarning: \n",
            "A value is trying to be set on a copy of a slice from a DataFrame.\n",
            "Try using .loc[row_indexer,col_indexer] = value instead\n",
            "\n",
            "See the caveats in the documentation: http://pandas.pydata.org/pandas-docs/stable/indexing.html#indexing-view-versus-copy\n",
            "  \n"
          ],
          "name": "stderr"
        },
        {
          "output_type": "execute_result",
          "data": {
            "text/html": [
              "<div>\n",
              "<style scoped>\n",
              "    .dataframe tbody tr th:only-of-type {\n",
              "        vertical-align: middle;\n",
              "    }\n",
              "\n",
              "    .dataframe tbody tr th {\n",
              "        vertical-align: top;\n",
              "    }\n",
              "\n",
              "    .dataframe thead th {\n",
              "        text-align: right;\n",
              "    }\n",
              "</style>\n",
              "<table border=\"1\" class=\"dataframe\">\n",
              "  <thead>\n",
              "    <tr style=\"text-align: right;\">\n",
              "      <th></th>\n",
              "      <th>city</th>\n",
              "      <th>year</th>\n",
              "      <th>weekofyear</th>\n",
              "      <th>total_cases</th>\n",
              "    </tr>\n",
              "  </thead>\n",
              "  <tbody>\n",
              "    <tr>\n",
              "      <th>0</th>\n",
              "      <td>sj</td>\n",
              "      <td>2008</td>\n",
              "      <td>18</td>\n",
              "      <td>18</td>\n",
              "    </tr>\n",
              "    <tr>\n",
              "      <th>1</th>\n",
              "      <td>sj</td>\n",
              "      <td>2008</td>\n",
              "      <td>19</td>\n",
              "      <td>10</td>\n",
              "    </tr>\n",
              "    <tr>\n",
              "      <th>2</th>\n",
              "      <td>sj</td>\n",
              "      <td>2008</td>\n",
              "      <td>20</td>\n",
              "      <td>8</td>\n",
              "    </tr>\n",
              "    <tr>\n",
              "      <th>3</th>\n",
              "      <td>sj</td>\n",
              "      <td>2008</td>\n",
              "      <td>21</td>\n",
              "      <td>8</td>\n",
              "    </tr>\n",
              "    <tr>\n",
              "      <th>4</th>\n",
              "      <td>sj</td>\n",
              "      <td>2008</td>\n",
              "      <td>22</td>\n",
              "      <td>13</td>\n",
              "    </tr>\n",
              "  </tbody>\n",
              "</table>\n",
              "</div>"
            ],
            "text/plain": [
              "  city  year  weekofyear  total_cases\n",
              "0   sj  2008          18           18\n",
              "1   sj  2008          19           10\n",
              "2   sj  2008          20            8\n",
              "3   sj  2008          21            8\n",
              "4   sj  2008          22           13"
            ]
          },
          "metadata": {
            "tags": []
          },
          "execution_count": 26
        }
      ]
    },
    {
      "metadata": {
        "id": "MhjdbySng-Sh",
        "colab_type": "code",
        "colab": {}
      },
      "cell_type": "code",
      "source": [
        "submission_df.to_csv('submission_lin.csv', index=False)"
      ],
      "execution_count": 0,
      "outputs": []
    },
    {
      "metadata": {
        "id": "zpSZeCLjiMhX",
        "colab_type": "code",
        "colab": {
          "base_uri": "https://localhost:8080/",
          "height": 34
        },
        "outputId": "8f03ebfc-c92f-4f0f-bfcc-e60ded951c48"
      },
      "cell_type": "code",
      "source": [
        "!ls"
      ],
      "execution_count": 28,
      "outputs": [
        {
          "output_type": "stream",
          "text": [
            "sample_data  submission_lin.csv  submission_lin_floor.csv\r\n"
          ],
          "name": "stdout"
        }
      ]
    },
    {
      "metadata": {
        "id": "Tjn39g09iOC4",
        "colab_type": "code",
        "colab": {}
      },
      "cell_type": "code",
      "source": [
        "from google.colab import files\n",
        "files.download('submission_lin.csv') "
      ],
      "execution_count": 0,
      "outputs": []
    },
    {
      "metadata": {
        "id": "fb3EsCQGi5EK",
        "colab_type": "code",
        "colab": {},
        "outputId": "d2472c27-554f-49b7-8258-75e0cd35f2f9"
      },
      "cell_type": "code",
      "source": [
        "print(estimator.evaluate(input_fn=train_input(training_data[TF_COLS], 32, 1)))"
      ],
      "execution_count": 0,
      "outputs": []
    },
    {
      "metadata": {
        "id": "KpOukr4lkdNK",
        "colab_type": "text"
      },
      "cell_type": "markdown",
      "source": [
        "# Bin values and create feature crosses"
      ]
    },
    {
      "metadata": {
        "id": "v83Ru0F9khqt",
        "colab_type": "code",
        "colab": {}
      },
      "cell_type": "code",
      "source": [
        ""
      ],
      "execution_count": 0,
      "outputs": []
    }
  ]
}