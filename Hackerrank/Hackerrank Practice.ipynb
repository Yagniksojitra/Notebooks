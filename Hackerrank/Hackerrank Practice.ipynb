{
 "cells": [
  {
   "cell_type": "code",
   "execution_count": 1,
   "metadata": {},
   "outputs": [],
   "source": [
    "import numpy as np"
   ]
  },
  {
   "cell_type": "code",
   "execution_count": 3,
   "metadata": {},
   "outputs": [
    {
     "data": {
      "text/plain": [
       "array([2, 4, 6, 8, 9, 4])"
      ]
     },
     "execution_count": 3,
     "metadata": {},
     "output_type": "execute_result"
    }
   ],
   "source": [
    "ar = np.array([2,4,6,8,9,4])\n",
    "ar"
   ]
  },
  {
   "cell_type": "code",
   "execution_count": 13,
   "metadata": {},
   "outputs": [],
   "source": [
    "def sum_ar(sum_1):\n",
    "    return sum(sum_1)"
   ]
  },
  {
   "cell_type": "code",
   "execution_count": 14,
   "metadata": {},
   "outputs": [
    {
     "data": {
      "text/plain": [
       "33"
      ]
     },
     "execution_count": 14,
     "metadata": {},
     "output_type": "execute_result"
    }
   ],
   "source": [
    "sum_ar(ar)"
   ]
  },
  {
   "cell_type": "code",
   "execution_count": 5,
   "metadata": {},
   "outputs": [],
   "source": [
    "# Hackerrank\n",
    "def compareTriplets(a, b):\n",
    "    Alice = 0\n",
    "    Bob = 0\n",
    "    for i in range(len(a)):\n",
    "        if a[i] > b[i]:\n",
    "            Alice += 1\n",
    "        elif b[i] > a[i]:\n",
    "            Bob += 1\n",
    "    return Alice, Bob"
   ]
  },
  {
   "cell_type": "code",
   "execution_count": 6,
   "metadata": {},
   "outputs": [
    {
     "data": {
      "text/plain": [
       "(2, 1)"
      ]
     },
     "execution_count": 6,
     "metadata": {},
     "output_type": "execute_result"
    }
   ],
   "source": [
    "a = ([17, 28, 30])\n",
    "b = ([99, 16, 8])\n",
    "compareTriplets(a,b)"
   ]
  },
  {
   "cell_type": "code",
   "execution_count": 8,
   "metadata": {},
   "outputs": [],
   "source": [
    "# Hackerrank\n",
    "def diagonalDifference(arr):\n",
    "    l_d = 0\n",
    "    r_d = 0\n",
    "\n",
    "    for i in range(0, n): \n",
    "        l_d = l_d + arr[i][i] \n",
    "        r_d = r_d + arr[i][n - i - 1] \n",
    "          \n",
    "    # Absolute difference of the sums \n",
    "    # across the diagonals \n",
    "    return abs(l_d - r_d) \n",
    "\n",
    "n = 3\n",
    "arr = [[11, 2, 4],\n",
    "        [4, 5, 6],\n",
    "        [10, 8, -12]]"
   ]
  },
  {
   "cell_type": "code",
   "execution_count": 10,
   "metadata": {},
   "outputs": [],
   "source": [
    "# Hackerrank \n",
    "def sockMerchant(n, ar):\n",
    "    count = 0\n",
    "    ar.sort()\n",
    "    ar.append('#')\n",
    "    i = 0\n",
    "    while i<n:\n",
    "        if ar[i]==ar[i+1]:\n",
    "            count = count+1\n",
    "            i+=2\n",
    "        else:\n",
    "            i+=1\n",
    "    return count"
   ]
  },
  {
   "cell_type": "code",
   "execution_count": 11,
   "metadata": {},
   "outputs": [
    {
     "data": {
      "text/plain": [
       "3"
      ]
     },
     "execution_count": 11,
     "metadata": {},
     "output_type": "execute_result"
    }
   ],
   "source": [
    "n = 9\n",
    "ar = [10, 20, 20, 10, 10, 30, 50, 10, 20]\n",
    "sockMerchant(n,ar)"
   ]
  },
  {
   "cell_type": "code",
   "execution_count": 1,
   "metadata": {},
   "outputs": [],
   "source": [
    "# Hackerrank\n",
    "def jumping_on_clouds(c):\n",
    "    c.append(0)\n",
    "    ans = 0\n",
    "    position = 0\n",
    "    while position < n-1:\n",
    "        position += (c[position+2] == 0) + 1\n",
    "        ans += 1\n",
    "    return ans"
   ]
  },
  {
   "cell_type": "code",
   "execution_count": 8,
   "metadata": {},
   "outputs": [
    {
     "name": "stdout",
     "output_type": "stream",
     "text": [
      "4\n"
     ]
    }
   ],
   "source": [
    "n = 7\n",
    "c = [1,0,1,0,1,0,0]\n",
    "print(jumping_on_clouds(c))"
   ]
  },
  {
   "cell_type": "code",
   "execution_count": null,
   "metadata": {},
   "outputs": [],
   "source": []
  }
 ],
 "metadata": {
  "kernelspec": {
   "display_name": "Python 3",
   "language": "python",
   "name": "python3"
  },
  "language_info": {
   "codemirror_mode": {
    "name": "ipython",
    "version": 3
   },
   "file_extension": ".py",
   "mimetype": "text/x-python",
   "name": "python",
   "nbconvert_exporter": "python",
   "pygments_lexer": "ipython3",
   "version": "3.7.7"
  }
 },
 "nbformat": 4,
 "nbformat_minor": 4
}
